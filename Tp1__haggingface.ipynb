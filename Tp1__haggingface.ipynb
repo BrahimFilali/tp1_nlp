{
  "nbformat": 4,
  "nbformat_minor": 5,
  "metadata": {
    "kernelspec": {
      "display_name": "Python 3",
      "language": "python",
      "name": "python3"
    },
    "language_info": {
      "codemirror_mode": {
        "name": "ipython",
        "version": 3
      },
      "file_extension": ".py",
      "mimetype": "text/x-python",
      "name": "python",
      "nbconvert_exporter": "python",
      "pygments_lexer": "ipython3",
      "version": "3.8.8"
    },
    "colab": {
      "name": "Tp1_ haggingface.ipynb",
      "provenance": [],
      "collapsed_sections": [
        "52008b5d"
      ]
    }
  },
  "cells": [
    {
      "cell_type": "markdown",
      "metadata": {
        "id": "buBrLFV5aHjY"
      },
      "source": [
        "# Part haggingface\n",
        "\n"
      ],
      "id": "buBrLFV5aHjY"
    },
    {
      "cell_type": "code",
      "metadata": {
        "id": "84b2e261"
      },
      "source": [
        "\n",
        "#put the text arab and englishe in the varibale dataset\n",
        "dataset = [        \n",
        "\"\"\"Perhaps one of the most significant advances made by Arabic mathematics began at this time with the work of al-Khwarizmi, namely\n",
        "the beginnings of algebra. It is important to understand just how significant this new idea was. It was a revolutionary move away from\n",
        "the Greek concept of mathematics which was essentially geometry. Algebra was a unifying theory which allowed rational\n",
        "numbers, irrational numbers, geometrical magnitudes, etc., to all be treated as \"algebraic objects\". It gave mathematics a whole new\n",
        "development path so much broader in concept to that which had existed before, and provided a vehicle for future development of the\n",
        "subject. Another important aspect of the introduction of algebraic ideas was that it allowed mathematics to be applied to itself in a\n",
        "way which had not happened before.\"\"\",\n",
        "\n",
        "]"
      ],
      "id": "84b2e261",
      "execution_count": 25,
      "outputs": []
    },
    {
      "cell_type": "markdown",
      "metadata": {
        "id": "52008b5d"
      },
      "source": [
        "# Installing Transformers\n"
      ],
      "id": "52008b5d"
    },
    {
      "cell_type": "code",
      "metadata": {
        "colab": {
          "base_uri": "https://localhost:8080/"
        },
        "id": "27362f1d",
        "outputId": "fa2de3c6-841d-4e33-bb04-719f6c5c1c04"
      },
      "source": [
        "!pip install transformers"
      ],
      "id": "27362f1d",
      "execution_count": 26,
      "outputs": [
        {
          "output_type": "stream",
          "text": [
            "Requirement already satisfied: transformers in /usr/local/lib/python3.7/dist-packages (4.8.2)\n",
            "Requirement already satisfied: requests in /usr/local/lib/python3.7/dist-packages (from transformers) (2.23.0)\n",
            "Requirement already satisfied: tokenizers<0.11,>=0.10.1 in /usr/local/lib/python3.7/dist-packages (from transformers) (0.10.3)\n",
            "Requirement already satisfied: filelock in /usr/local/lib/python3.7/dist-packages (from transformers) (3.0.12)\n",
            "Requirement already satisfied: huggingface-hub==0.0.12 in /usr/local/lib/python3.7/dist-packages (from transformers) (0.0.12)\n",
            "Requirement already satisfied: pyyaml in /usr/local/lib/python3.7/dist-packages (from transformers) (3.13)\n",
            "Requirement already satisfied: tqdm>=4.27 in /usr/local/lib/python3.7/dist-packages (from transformers) (4.41.1)\n",
            "Requirement already satisfied: numpy>=1.17 in /usr/local/lib/python3.7/dist-packages (from transformers) (1.19.5)\n",
            "Requirement already satisfied: importlib-metadata; python_version < \"3.8\" in /usr/local/lib/python3.7/dist-packages (from transformers) (4.6.0)\n",
            "Requirement already satisfied: packaging in /usr/local/lib/python3.7/dist-packages (from transformers) (20.9)\n",
            "Requirement already satisfied: regex!=2019.12.17 in /usr/local/lib/python3.7/dist-packages (from transformers) (2019.12.20)\n",
            "Requirement already satisfied: sacremoses in /usr/local/lib/python3.7/dist-packages (from transformers) (0.0.45)\n",
            "Requirement already satisfied: chardet<4,>=3.0.2 in /usr/local/lib/python3.7/dist-packages (from requests->transformers) (3.0.4)\n",
            "Requirement already satisfied: urllib3!=1.25.0,!=1.25.1,<1.26,>=1.21.1 in /usr/local/lib/python3.7/dist-packages (from requests->transformers) (1.24.3)\n",
            "Requirement already satisfied: certifi>=2017.4.17 in /usr/local/lib/python3.7/dist-packages (from requests->transformers) (2021.5.30)\n",
            "Requirement already satisfied: idna<3,>=2.5 in /usr/local/lib/python3.7/dist-packages (from requests->transformers) (2.10)\n",
            "Requirement already satisfied: typing-extensions in /usr/local/lib/python3.7/dist-packages (from huggingface-hub==0.0.12->transformers) (3.7.4.3)\n",
            "Requirement already satisfied: zipp>=0.5 in /usr/local/lib/python3.7/dist-packages (from importlib-metadata; python_version < \"3.8\"->transformers) (3.4.1)\n",
            "Requirement already satisfied: pyparsing>=2.0.2 in /usr/local/lib/python3.7/dist-packages (from packaging->transformers) (2.4.7)\n",
            "Requirement already satisfied: six in /usr/local/lib/python3.7/dist-packages (from sacremoses->transformers) (1.15.0)\n",
            "Requirement already satisfied: click in /usr/local/lib/python3.7/dist-packages (from sacremoses->transformers) (7.1.2)\n",
            "Requirement already satisfied: joblib in /usr/local/lib/python3.7/dist-packages (from sacremoses->transformers) (1.0.1)\n"
          ],
          "name": "stdout"
        }
      ]
    },
    {
      "cell_type": "markdown",
      "metadata": {
        "id": "5ff88e19"
      },
      "source": [
        "# delete punctuations"
      ],
      "id": "5ff88e19"
    },
    {
      "cell_type": "code",
      "metadata": {
        "colab": {
          "base_uri": "https://localhost:8080/"
        },
        "id": "5b54caf8",
        "outputId": "3ba973ae-22cf-47ad-ed9b-ca172bf659b2"
      },
      "source": [
        "import string\n",
        "punctuations = '''`÷×؛<>_()*&^%][ـ،/:\"؟.,'{}~¦+|!”…“–ـ''' + string.punctuation  #all punctuations \n",
        "print(punctuations)\n",
        "\n",
        "def remove_punctuations(text):\n",
        "  my_clean_text = ''.join([item for item in text if item not in punctuations])\n",
        "  return my_clean_text"
      ],
      "id": "5b54caf8",
      "execution_count": 27,
      "outputs": [
        {
          "output_type": "stream",
          "text": [
            "`÷×؛<>_()*&^%][ـ،/:\"؟.,'{}~¦+|!”…“–ـ!\"#$%&'()*+,-./:;<=>?@[\\]^_`{|}~\n"
          ],
          "name": "stdout"
        }
      ]
    },
    {
      "cell_type": "code",
      "metadata": {
        "id": "fa290811"
      },
      "source": [
        "import transformers\n",
        "from transformers import BertModel, BertTokenizer, AdamW, get_linear_schedule_with_warmup"
      ],
      "id": "fa290811",
      "execution_count": 28,
      "outputs": []
    },
    {
      "cell_type": "code",
      "metadata": {
        "id": "d805df17"
      },
      "source": [
        "PRE_TRAINED_MODEL_NAME = 'bert-base-cased'\n",
        "tokenizer = BertTokenizer.from_pretrained(PRE_TRAINED_MODEL_NAME) ##import library \n",
        "\n",
        "\n",
        "def tokenize_text(text):\n",
        "  text = text.lower()\n",
        "  data = [item for item in tokenizer.tokenize(text)]\n",
        "  ids = tokenizer.convert_tokens_to_ids(data)\n",
        "  return data,ids"
      ],
      "id": "d805df17",
      "execution_count": 29,
      "outputs": []
    },
    {
      "cell_type": "markdown",
      "metadata": {
        "id": "32f76bdb"
      },
      "source": [
        "# Tokenising"
      ],
      "id": "32f76bdb"
    },
    {
      "cell_type": "code",
      "metadata": {
        "colab": {
          "base_uri": "https://localhost:8080/"
        },
        "id": "b0e01c82",
        "outputId": "2643f996-c07f-4a8b-f7b7-626994deb798"
      },
      "source": [
        "tokens,ids =  tokenize_text(dataset[0])\n",
        "print(tokens , ids)"
      ],
      "id": "b0e01c82",
      "execution_count": 30,
      "outputs": [
        {
          "output_type": "stream",
          "text": [
            "['perhaps', 'one', 'of', 'the', 'most', 'significant', 'advances', 'made', 'by', 'a', '##rab', '##ic', 'mathematics', 'began', 'at', 'this', 'time', 'with', 'the', 'work', 'of', 'al', '-', 'k', '##hwa', '##riz', '##mi', ',', 'namely', 'the', 'beginnings', 'of', 'algebra', '.', 'it', 'is', 'important', 'to', 'understand', 'just', 'how', 'significant', 'this', 'new', 'idea', 'was', '.', 'it', 'was', 'a', 'revolutionary', 'move', 'away', 'from', 'the', 'g', '##ree', '##k', 'concept', 'of', 'mathematics', 'which', 'was', 'essentially', 'geometry', '.', 'algebra', 'was', 'a', 'un', '##ifying', 'theory', 'which', 'allowed', 'rational', 'numbers', ',', 'irrational', 'numbers', ',', 'geometric', '##al', 'magnitude', '##s', ',', 'etc', '.', ',', 'to', 'all', 'be', 'treated', 'as', '\"', 'algebraic', 'objects', '\"', '.', 'it', 'gave', 'mathematics', 'a', 'whole', 'new', 'development', 'path', 'so', 'much', 'broader', 'in', 'concept', 'to', 'that', 'which', 'had', 'existed', 'before', ',', 'and', 'provided', 'a', 'vehicle', 'for', 'future', 'development', 'of', 'the', 'subject', '.', 'another', 'important', 'aspect', 'of', 'the', 'introduction', 'of', 'algebraic', 'ideas', 'was', 'that', 'it', 'allowed', 'mathematics', 'to', 'be', 'applied', 'to', 'itself', 'in', 'a', 'way', 'which', 'had', 'not', 'happened', 'before', '.'] [3229, 1141, 1104, 1103, 1211, 2418, 11823, 1189, 1118, 170, 17952, 1596, 6686, 1310, 1120, 1142, 1159, 1114, 1103, 1250, 1104, 2393, 118, 180, 24156, 28021, 3080, 117, 8199, 1103, 19304, 1104, 13450, 119, 1122, 1110, 1696, 1106, 2437, 1198, 1293, 2418, 1142, 1207, 1911, 1108, 119, 1122, 1108, 170, 8953, 1815, 1283, 1121, 1103, 176, 8871, 1377, 3400, 1104, 6686, 1134, 1108, 7588, 12053, 119, 13450, 1108, 170, 8362, 8985, 2749, 1134, 2148, 12478, 2849, 117, 27447, 2849, 117, 16735, 1348, 10094, 1116, 117, 3576, 119, 117, 1106, 1155, 1129, 5165, 1112, 107, 19669, 4546, 107, 119, 1122, 1522, 6686, 170, 2006, 1207, 1718, 3507, 1177, 1277, 12594, 1107, 3400, 1106, 1115, 1134, 1125, 5131, 1196, 117, 1105, 2136, 170, 3686, 1111, 2174, 1718, 1104, 1103, 2548, 119, 1330, 1696, 7631, 1104, 1103, 4784, 1104, 19669, 4133, 1108, 1115, 1122, 2148, 6686, 1106, 1129, 3666, 1106, 2111, 1107, 170, 1236, 1134, 1125, 1136, 2171, 1196, 119]\n"
          ],
          "name": "stdout"
        }
      ]
    }
  ]
}