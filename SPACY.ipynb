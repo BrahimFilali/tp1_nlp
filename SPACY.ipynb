{
  "nbformat": 4,
  "nbformat_minor": 5,
  "metadata": {
    "colab": {
      "name": "SPACY _tp.ipynb",
      "provenance": [],
      "collapsed_sections": []
    },
    "kernelspec": {
      "display_name": "Python 3",
      "language": "python",
      "name": "python3"
    },
    "language_info": {
      "codemirror_mode": {
        "name": "ipython",
        "version": 3
      },
      "file_extension": ".py",
      "mimetype": "text/x-python",
      "name": "python",
      "nbconvert_exporter": "python",
      "pygments_lexer": "ipython3",
      "version": "3.8.8"
    }
  },
  "cells": [
    {
      "cell_type": "markdown",
      "metadata": {
        "id": "d2bbdf78"
      },
      "source": [
        "# TP1_ problem solving with spacy "
      ],
      "id": "d2bbdf78"
    },
    {
      "cell_type": "markdown",
      "metadata": {
        "id": "536093c9"
      },
      "source": [
        "### dowload package spacy"
      ],
      "id": "536093c9"
    },
    {
      "cell_type": "code",
      "metadata": {
        "colab": {
          "base_uri": "https://localhost:8080/"
        },
        "id": "b135f5ec",
        "outputId": "5ace6cb2-fe94-40de-8fdc-8e63647fcd51"
      },
      "source": [
        "!pip install spacy"
      ],
      "id": "b135f5ec",
      "execution_count": 77,
      "outputs": [
        {
          "output_type": "stream",
          "text": [
            "Requirement already satisfied: spacy in /usr/local/lib/python3.7/dist-packages (2.2.4)\n",
            "Requirement already satisfied: murmurhash<1.1.0,>=0.28.0 in /usr/local/lib/python3.7/dist-packages (from spacy) (1.0.5)\n",
            "Requirement already satisfied: preshed<3.1.0,>=3.0.2 in /usr/local/lib/python3.7/dist-packages (from spacy) (3.0.5)\n",
            "Requirement already satisfied: numpy>=1.15.0 in /usr/local/lib/python3.7/dist-packages (from spacy) (1.19.5)\n",
            "Requirement already satisfied: blis<0.5.0,>=0.4.0 in /usr/local/lib/python3.7/dist-packages (from spacy) (0.4.1)\n",
            "Requirement already satisfied: tqdm<5.0.0,>=4.38.0 in /usr/local/lib/python3.7/dist-packages (from spacy) (4.41.1)\n",
            "Requirement already satisfied: catalogue<1.1.0,>=0.0.7 in /usr/local/lib/python3.7/dist-packages (from spacy) (1.0.0)\n",
            "Requirement already satisfied: setuptools in /usr/local/lib/python3.7/dist-packages (from spacy) (57.0.0)\n",
            "Requirement already satisfied: requests<3.0.0,>=2.13.0 in /usr/local/lib/python3.7/dist-packages (from spacy) (2.23.0)\n",
            "Requirement already satisfied: plac<1.2.0,>=0.9.6 in /usr/local/lib/python3.7/dist-packages (from spacy) (1.1.3)\n",
            "Requirement already satisfied: wasabi<1.1.0,>=0.4.0 in /usr/local/lib/python3.7/dist-packages (from spacy) (0.8.2)\n",
            "Requirement already satisfied: cymem<2.1.0,>=2.0.2 in /usr/local/lib/python3.7/dist-packages (from spacy) (2.0.5)\n",
            "Requirement already satisfied: thinc==7.4.0 in /usr/local/lib/python3.7/dist-packages (from spacy) (7.4.0)\n",
            "Requirement already satisfied: srsly<1.1.0,>=1.0.2 in /usr/local/lib/python3.7/dist-packages (from spacy) (1.0.5)\n",
            "Requirement already satisfied: importlib-metadata>=0.20; python_version < \"3.8\" in /usr/local/lib/python3.7/dist-packages (from catalogue<1.1.0,>=0.0.7->spacy) (4.6.0)\n",
            "Requirement already satisfied: certifi>=2017.4.17 in /usr/local/lib/python3.7/dist-packages (from requests<3.0.0,>=2.13.0->spacy) (2021.5.30)\n",
            "Requirement already satisfied: idna<3,>=2.5 in /usr/local/lib/python3.7/dist-packages (from requests<3.0.0,>=2.13.0->spacy) (2.10)\n",
            "Requirement already satisfied: urllib3!=1.25.0,!=1.25.1,<1.26,>=1.21.1 in /usr/local/lib/python3.7/dist-packages (from requests<3.0.0,>=2.13.0->spacy) (1.24.3)\n",
            "Requirement already satisfied: chardet<4,>=3.0.2 in /usr/local/lib/python3.7/dist-packages (from requests<3.0.0,>=2.13.0->spacy) (3.0.4)\n",
            "Requirement already satisfied: zipp>=0.5 in /usr/local/lib/python3.7/dist-packages (from importlib-metadata>=0.20; python_version < \"3.8\"->catalogue<1.1.0,>=0.0.7->spacy) (3.4.1)\n",
            "Requirement already satisfied: typing-extensions>=3.6.4; python_version < \"3.8\" in /usr/local/lib/python3.7/dist-packages (from importlib-metadata>=0.20; python_version < \"3.8\"->catalogue<1.1.0,>=0.0.7->spacy) (3.7.4.3)\n"
          ],
          "name": "stdout"
        }
      ]
    },
    {
      "cell_type": "markdown",
      "metadata": {
        "id": "76887718"
      },
      "source": [
        "### importation library spacy"
      ],
      "id": "76887718"
    },
    {
      "cell_type": "code",
      "metadata": {
        "id": "uy_Hk9KuxQyw"
      },
      "source": [
        "import spacy\n",
        "nlp=spacy.load(\"en_core_web_sm\")"
      ],
      "id": "uy_Hk9KuxQyw",
      "execution_count": 78,
      "outputs": []
    },
    {
      "cell_type": "markdown",
      "metadata": {
        "id": "4e6bb226"
      },
      "source": [
        "### assign the english test to a variable \"eng_text\""
      ],
      "id": "4e6bb226"
    },
    {
      "cell_type": "code",
      "metadata": {
        "colab": {
          "base_uri": "https://localhost:8080/"
        },
        "id": "c769130d",
        "outputId": "3241201f-a903-46da-9ff9-7ba799bd3ca1"
      },
      "source": [
        "\n",
        "Eng_text=\"\"\"Perhaps one of the most significant advances made by Arabic mathematics began at this time with the work of al-Khwarizmi, namely\n",
        "the beginnings of algebra. It is important to understand just how significant this new idea was. It was a revolutionary move away from\n",
        "the Greek concept of mathematics which was essentially geometry. Algebra was a unifying theory which allowed rational\n",
        "numbers, irrational numbers, geometrical magnitudes, etc., to all be treated as \"algebraic objects\". It gave mathematics a whole new\n",
        "development path so much broader in concept to that which had existed before, and provided a vehicle for future development of the\n",
        "subject. Another important aspect of the introduction of algebraic ideas was that it allowed mathematics to be applied to itself in a\n",
        "way which had not happened before.\"\"\"\n",
        "\n",
        "#afect  the result under doc  variabl\n",
        "doc=nlp(Eng_text)\n",
        "#call the variable to examine the object \n",
        "print(doc)\n"
      ],
      "id": "c769130d",
      "execution_count": 79,
      "outputs": [
        {
          "output_type": "stream",
          "text": [
            "Perhaps one of the most significant advances made by Arabic mathematics began at this time with the work of al-Khwarizmi, namely\n",
            "the beginnings of algebra. It is important to understand just how significant this new idea was. It was a revolutionary move away from\n",
            "the Greek concept of mathematics which was essentially geometry. Algebra was a unifying theory which allowed rational\n",
            "numbers, irrational numbers, geometrical magnitudes, etc., to all be treated as \"algebraic objects\". It gave mathematics a whole new\n",
            "development path so much broader in concept to that which had existed before, and provided a vehicle for future development of the\n",
            "subject. Another important aspect of the introduction of algebraic ideas was that it allowed mathematics to be applied to itself in a\n",
            "way which had not happened before.\n"
          ],
          "name": "stdout"
        }
      ]
    },
    {
      "cell_type": "code",
      "metadata": {
        "colab": {
          "base_uri": "https://localhost:8080/"
        },
        "id": "75ec52d1",
        "outputId": "b89bb557-106e-46eb-c07f-e7cf10c4e3df"
      },
      "source": [
        "#Tokenization world\n",
        "for token in doc:\n",
        "    print(token)"
      ],
      "id": "75ec52d1",
      "execution_count": 80,
      "outputs": [
        {
          "output_type": "stream",
          "text": [
            "Perhaps\n",
            "one\n",
            "of\n",
            "the\n",
            "most\n",
            "significant\n",
            "advances\n",
            "made\n",
            "by\n",
            "Arabic\n",
            "mathematics\n",
            "began\n",
            "at\n",
            "this\n",
            "time\n",
            "with\n",
            "the\n",
            "work\n",
            "of\n",
            "al\n",
            "-\n",
            "Khwarizmi\n",
            ",\n",
            "namely\n",
            "\n",
            "\n",
            "the\n",
            "beginnings\n",
            "of\n",
            "algebra\n",
            ".\n",
            "It\n",
            "is\n",
            "important\n",
            "to\n",
            "understand\n",
            "just\n",
            "how\n",
            "significant\n",
            "this\n",
            "new\n",
            "idea\n",
            "was\n",
            ".\n",
            "It\n",
            "was\n",
            "a\n",
            "revolutionary\n",
            "move\n",
            "away\n",
            "from\n",
            "\n",
            "\n",
            "the\n",
            "Greek\n",
            "concept\n",
            "of\n",
            "mathematics\n",
            "which\n",
            "was\n",
            "essentially\n",
            "geometry\n",
            ".\n",
            "Algebra\n",
            "was\n",
            "a\n",
            "unifying\n",
            "theory\n",
            "which\n",
            "allowed\n",
            "rational\n",
            "\n",
            "\n",
            "numbers\n",
            ",\n",
            "irrational\n",
            "numbers\n",
            ",\n",
            "geometrical\n",
            "magnitudes\n",
            ",\n",
            "etc\n",
            ".\n",
            ",\n",
            "to\n",
            "all\n",
            "be\n",
            "treated\n",
            "as\n",
            "\"\n",
            "algebraic\n",
            "objects\n",
            "\"\n",
            ".\n",
            "It\n",
            "gave\n",
            "mathematics\n",
            "a\n",
            "whole\n",
            "new\n",
            "\n",
            "\n",
            "development\n",
            "path\n",
            "so\n",
            "much\n",
            "broader\n",
            "in\n",
            "concept\n",
            "to\n",
            "that\n",
            "which\n",
            "had\n",
            "existed\n",
            "before\n",
            ",\n",
            "and\n",
            "provided\n",
            "a\n",
            "vehicle\n",
            "for\n",
            "future\n",
            "development\n",
            "of\n",
            "the\n",
            "\n",
            "\n",
            "subject\n",
            ".\n",
            "Another\n",
            "important\n",
            "aspect\n",
            "of\n",
            "the\n",
            "introduction\n",
            "of\n",
            "algebraic\n",
            "ideas\n",
            "was\n",
            "that\n",
            "it\n",
            "allowed\n",
            "mathematics\n",
            "to\n",
            "be\n",
            "applied\n",
            "to\n",
            "itself\n",
            "in\n",
            "a\n",
            "\n",
            "\n",
            "way\n",
            "which\n",
            "had\n",
            "not\n",
            "happened\n",
            "before\n",
            ".\n"
          ],
          "name": "stdout"
        }
      ]
    },
    {
      "cell_type": "code",
      "metadata": {
        "colab": {
          "base_uri": "https://localhost:8080/"
        },
        "id": "Li6uzd2lytlh",
        "outputId": "ac0a0e72-9a34-4b57-e0af-96a310c8a1de"
      },
      "source": [
        "#Tokenization sentence\n",
        "for sent  in doc.sents:\n",
        "    print(sent)"
      ],
      "id": "Li6uzd2lytlh",
      "execution_count": 81,
      "outputs": [
        {
          "output_type": "stream",
          "text": [
            "Perhaps one of the most significant advances made by Arabic mathematics began at this time with the work of al-Khwarizmi, namely\n",
            "the beginnings of algebra.\n",
            "It is important to understand just how significant this new idea was.\n",
            "It was a revolutionary move away from\n",
            "the Greek concept of mathematics which was essentially geometry.\n",
            "Algebra was a unifying theory which allowed rational\n",
            "numbers, irrational numbers, geometrical magnitudes, etc., to all be treated as \"algebraic objects\".\n",
            "It gave mathematics a whole new\n",
            "development path so much broader in concept to that which had existed before, and provided a vehicle for future development of the\n",
            "subject.\n",
            "Another important aspect of the introduction of algebraic ideas was that it allowed mathematics to be applied to itself in a\n",
            "way which had not happened before.\n"
          ],
          "name": "stdout"
        }
      ]
    },
    {
      "cell_type": "markdown",
      "metadata": {
        "id": "vbvtGUfC-K_h"
      },
      "source": [
        "# Eliminate the stop words from the text "
      ],
      "id": "vbvtGUfC-K_h"
    },
    {
      "cell_type": "code",
      "metadata": {
        "colab": {
          "base_uri": "https://localhost:8080/"
        },
        "id": "3-kN0pGh-VEN",
        "outputId": "e4611388-ddaa-434c-c8ae-1487a86405c6"
      },
      "source": [
        "filter_text=[]\n",
        "for word in doc:\n",
        "  if word.is_stop==False:\n",
        "    filter_text.append(word)\n",
        "print(filter_text)   "
      ],
      "id": "3-kN0pGh-VEN",
      "execution_count": 82,
      "outputs": [
        {
          "output_type": "stream",
          "text": [
            "[significant, advances, Arabic, mathematics, began, time, work, al, -, Khwarizmi, ,, \n",
            ", beginnings, algebra, ., important, understand, significant, new, idea, ., revolutionary, away, \n",
            ", Greek, concept, mathematics, essentially, geometry, ., Algebra, unifying, theory, allowed, rational, \n",
            ", numbers, ,, irrational, numbers, ,, geometrical, magnitudes, ,, etc, ., ,, treated, \", algebraic, objects, \", ., gave, mathematics, new, \n",
            ", development, path, broader, concept, existed, ,, provided, vehicle, future, development, \n",
            ", subject, ., important, aspect, introduction, algebraic, ideas, allowed, mathematics, applied, \n",
            ", way, happened, .]\n"
          ],
          "name": "stdout"
        }
      ]
    },
    {
      "cell_type": "markdown",
      "metadata": {
        "id": "seCgwNMDAgah"
      },
      "source": [
        "# Part of speech (POS) tagging"
      ],
      "id": "seCgwNMDAgah"
    },
    {
      "cell_type": "markdown",
      "metadata": {
        "id": "LKWBWU-wEmhp"
      },
      "source": [
        "![pos_tag.PNG](data:image/png;base64,iVBORw0KGgoAAAANSUhEUgAAA54AAAA8CAYAAAAOs2WfAAAAAXNSR0IArs4c6QAAAARnQU1BAACxjwv8YQUAAAAJcEhZcwAADsMAAA7DAcdvqGQAAGs/SURBVHhe7V0FYF7V2e42oLgVdysw3DbYYOjYmMCMKXNhYwKzfxtb0UJb6u6u1JW2qcbd3T1pmjZtPPnyJXn+5znnu0naBhkMSNrztU+uHbuvv/eee++AAwdq8L9ETc1+tLa2AOhEZ2eHg4ODg4ODg4ODg4PDR4KOjnaThzQ3N6GhoR5+fxuamxrR2tyM1qZWog0tTT40cbu5pRG+5no0cr+ylzlR1fjOK8tQ7gNqD9Zg375q+HytSElJxpQpk7tynPZ2f699O7wzXOLp4ODg4ODg4ODg4HBU4N0TTx8Tz1aXeH4McImng4ODg4ODg4ODg8NRgbdLPFua/vvEs7p6r0s8/4foSjz37q1CZWUF9uypNMv/Fqrn1a2tPWgYI4Y7ODg4ODg4ODg4ODh8VGhpacbBgwfMHUsln8p1ag8cQG1NLVGPgwfquO8AsR91NXuxn/sPdADTgsvxjRcWoaAe2FtVibKyUtTV1SIuLhbjx48zOY7abmxs6LVfhyMhejUx8VeyPkB3KPfv34f6+jpzUAd6gwj8bvDK6UqA+7mf+7mf+7mf+7mf+7mf+7nfx/HTHTZ7hxLo0B3KdmaWuhlKdBIdHYG7o/5W+LXNQwviavH911ZhH9ebmxpMwqpfZmYGZsyYbtp0v/f768QAJZ3K3rOyMhEREY6YmGhERUV2ITo6yiwjIyPeMxIS4pGcnITU1BRza9rBwcHBwcHBwcHBweHDgvIOIS0tFRkZ6SYfUV6jnCQ+LhaJ8fFIik8ikrnOfQkJRDzXeSyRbeSVY8TiHfjGH4cjNCkPUcxpgoN3mzbXrFmNIUP+w3IJpn31p6XDO0O0U9Kupe4cD9AtZP1++tOfYMCAATjuuE+ZpYODg4ODg4ODg4ODw7GFT/ayz+GDIiws1Es8O/Gb3/za7DzrrDNxwgnHfyCceOLAruXAgSc4ODg4ODg4ODg4ODh8JFAeoqVyEeEk4pSTTsIpJ55CnMrtUzDwxBMJHh94Ik4YeBJOOJE44QQc/8lP4UQuBxI98xrdnDu8H4d3xxlnnI5PfGIAduzY3p14/vznPzOJ5ymnnGyWn/zkJz5Q4ugx3MHBwcHBwcHBwcHB4aOGl3ieyPWTmWiePPBk4hQmlkwyBzKhNDgJx3PfcUxGtTyBZQZy30Ae661Nh3eH8kDvTqe3vmrVyiMTz5NPPqmroIODg4ODg4ODg4ODg4PD+4GXeM6dO+fIxPPcc88xy0cf/aJ5/bBeOlRYWODg4ODg4ODg4ODg4NAvUVRYSBQRxWZZyO0CA7teZMpY9Fbf4d2Rl5eL0tISxMbGmHzyU5/6pLkDqvUxY0YfmXied965ZvnNb36D+4G2Np9Zup/7uZ/7uZ/7uZ/7uZ/7uZ/7uZ/79fbzPjej76d6iefxxx9n1ocNe/3tE8+vf/1rpqK+X3P4h0AdHBwcHBwcHBwcHBwcHDzU19eZm5bFxUVHJJ6vvPLy2yee3/jGEybxVCPKXh0cHBwcHBwcHBwcHBwceoM3U3bPnsojEs+XXnrRJZ4ODg4ODg4ODg4ODg4OHwwfSeKJznYuhU4DmH29w5bT+pFlvfr2uN3u6Cpn93cY2DZsW+2BfXbbjsXWtW146G5b9Y+EHx0guN6zrIMHjyZH0kW0bw/860nT7jLdPPG2xadunttyVg4sr3uiuw2vHY/P6sf2z413weFt2HOxY7eQrFl4ZbvLHSpLfROWFpYm3rjtMY/e3bD7vTLd6D5Pj7YeTQTt83RENFdbflPW9uHx0LbdESC9+WP2ORwJSzsPPfXoUH7ZfT2h+jTdBqK1hccX0dzy3/LRHrd89vjq7bPb7Wbbjsn2efhY+yf4J0ALT467dvVYP3SHpdOhUF3bZoAfxmr05IlHaw+q45X3s93eaHr00PlYQbd987YlFz11x/L6UJt3qCx5sDJi17kSkD8rT0a6eh7vgu3H6/9w2L6tnaZ0HaLXtozXf8863nn1tAUqY2X37frq7+CfrvN+LxAdumlxJB27IbpZO2r13tLR+kvPh3bvs2OwY+nJBy29Niy6eXUkVF4Lyzev/KHj6u/opoXd9ujv2d+e+mLpYst42x7dewf/UPDpUwVT9/D6Pfl1OLx2yN+Ab/C2Pdg2bHtH1j968E6J58svv/RBE08xSsRsCywtUe2yBzoEu98yQkTnJmHLWAXpCbXfbQDNEO0+kxy2cb2bmRI4sdmOx7ZlBcUy1xNGC22rtFX+LqCNbfi4JEwZ9Xt0C8c7wyqNpYVHQ5H0SJron5/U85u/oqWlqW3D45PlufnD/d08t+2ZdUN0lukJHu/JL9unbVdJkHrV/ret76GrntA9Fp2bbaVb1rTPjlllTTHzp+c5902QFpRjO/bufVY/BRoDg25+9IR0zG6onmguvns0Ia1Ea6Mjqq92bdumX0MrElq6zqXqkCtm2d2mQzc8WbS0tDSUBrUZiI/dfOO2jnu6FYC1cSKyIa+hdTdf7DH1ZUpz3R63fRv+dO2THnSyX/FMvFOfPWWof8OcJBfcCJyvpZlgDh22z9LtSFh/YHlm/YW1HBaiqWhn6a0S1o4IVk88XVEbhmGB493lHPoDrLL12O6SGW17OiueezIh2fHkR+W6oX2SF6PLXcKoPe2y5LICRk+trtt+0RGQwUD73ji6xmPkSzZElgQG1l5I/mxfpjmu2/EF2g7Ipfoz/eq0jLyqLdX3cGSf/ROGCIbmng3Ufk8vj4TlCykWoLut3nvZbp3vhnyveGDpaf2oPWbaZltcISxPuvnutWVlyvOxR8Ljq5bi5dHEK0Hn05Ou3vlZWhru8Px7+jV7XBtSAi09uhwO639VlM1Y4Td0Fl+sbJi6Hey3w/Lh0LHZcRgdo/ZIewUbj8l/a6l6bNOyivDGd/ThQ008uxXCKpQM4tsqhZiuVUNsqyBWOLTTCkM3Q8XsbuXzE+bKH/9ZU+xjGctIC1teS9uWZxi8vixU3/4zItoFcz5al4CglZAQekGKPddjFZYPHjxaHlmmXTwwNLT882CNq/gqYhpRC8iCIe6hoCgcDss3rx216fVv93UF6JId45QPa4PN2nX+MfVV1xoSr53AyPmv+9y6ZVdjs+30du59BVbue+jiIbp5KKzu6Fy42QPdtNIOtaul9tvztsmPx89uiII6Yo2zpZvWjd72oKlDT0gWPfsVgKGilWlj5wz/LC+NvB8B0flwvpEnxtmpjwDfDIdsHSsnVo+6VdDjry1pnaX6PHzM/RP8Y/Vf/knbhlaim/yLLL+1Bx74v1fYFdHOBhQ2uLCJp2hr+1MbHh276e3pouqabRHfjIH/WefwMTv0XVj+iadaFx8DMDIg3bH6I5mwdyy7+ezJV0++W9kJtBmIn4z9ZCFps9VT9S17q34trA3pbXx2jJJstaE1K3eSP7WhBtVut/zberZ9K7/2uO3H2h/b7pH99VdY+6lz76n3lha9wTv3btvr1TuyrKWzZ78tjN0QSF3PPthkx3hPbtn2vH68BMrS3WsnICOHw9Sx47L9a73ndv+HpZulYzc9AvQzNNT5Wn3rhrcigRYtLb+727XrRlfVAouqSnd5HbMwtDdLi+42LIweS+M4Lvlv60cDY2Trpp7aFEw/by9r/R0fWuJpie8pF5e6EuBvZU7YxLhHaA7AW29lUTLCwId2H42grtx1cNlVzqKzrYV5BBNAv4/Nsmy7BItC0c71tkbWbaSNbuE4ejhyD+3cVl+s38nyph215yO0JNoPQwfL+30sp3NQEBG4q2MdwpHnfizAKBbp3k7atPtFY+2jotDIdZWh3Jh18ZFlOkhD8dZC6+RRgP/aR4IGFI/GISAHkgdrOLW/BwLbGoP4Y3hHeTDOmQfEK7+/meNrtH20U/ZM8un1EYC5BMY67Evja9cYNV7+84yyNSw0O5SdTvZhxqVzDhh0D95590VY+e/p7LhOmnSQ9h1+0U7QusD97aIhi5E8Hrp4wGOdfrbnZxvik3RDdBGNTH/qS0vrKBV6+9ifX7wi3cR79dFJfhzLOvTOEF2s07SOk3TTumyW7JJPOiP9Cdgs0rMnRF/ZQ4++RkalG+ST6hpZJjOP7LcHWF721fBLfQhs03+U8e1Q3ZBeSK4DdCYd/QG08dzbSLd2Y+NYlOigPTFNaJ9sXIAfxr+QbmrHg9lmG/zD8qQ/141vIz+6/SHrUp+oLFbXBNPXoWN26LuwutYDkif5JsqE0T+BOmQCWXka8dfPddpSPyHbq51WPyWbHuTrKJeyuzxu/ZKVD6PbKiO9ZiwjsKAZzxHjU7ssp5jHxl2yJYyZZPslk2rDyLi13/KxVpYF1bH1vG0jw7L/8psq30uf/ROGA4YG7Tw3P2mvWKe3smKCsZeyAYYWspE2djiyvMqxjLERnq2Q3aDNVtzCdnShXktJiJ888dFG+MWzQBuSMY1PvO9k/GL8t/jAMtZxE95S5cQbtq14zdh+7n/78fVP2HRd52ZjHMX/ygOMTSaN20mfdtLJ0J+E87OOYhIvjjGxTMBOHw7pnZ+8lb7qYoz0Q3pteMa2xU/JRjvb6iA/eo6rQ7TXumSC5Y3+SEe5lE81/kW8ZTkWDKC7/tGID/GOp4gtwydiWgXoILO4RtHQPUkLrfeE9lEMDLqu6GidIMsMVIasM9C2KUuovra1bq4cKWnVVoCR5LoRFv1URj+vTw9eH4LXh6Bjpl39k0CzhKbe2vPs7fyPXvAPySlFt7QXDRWAeXzuKkfqa2np1s1XlRe8/V0/tctmfNyp4x5vBdOelzRKJgQlQFxol8dP0wCh8ajeIX2YNrj0YC5f2abMZmCpevppv73ia42HOdj141FjKLjTyHjvTr5vQeMkZakXZuz86a/oTJdlILrrvL1k3PsZJydjq31a8qe6grZURwGLCaxpYFnBsMs4g04lQXKqlifqw7SgSm3cE7iM2PuYj1V49lMUs7DBaje/tBSHZJ88/jUFtj3dsbwJ0LZrOwDxmHssb7lNmEBT/JOMsG+OwrRzSHs6bgKco8P26TyNXpilKGPPVXQUPQXRWedufvIhRg8o45Rdk3xaEnb5EC0l56Kw2hK0bn/q065pv1de64Hdpm0TDHlJSC/jduib4B+aQHJb6woyFdiKpeavOWySOV0ctTZZQXC3jEkGTOJHidEF7p5yqeOSI7sluVBjXDUHqI+SG3NEIiT97NZRW55BH/W3lfUkn4JnL7Ruass3MEBXvCR70Madqq3jKtdTvr2lflYPDqVF/4al5eG/nsmapRjPm//EZdHDo4ls56HtqbxgeSgcWt7+lIjq4oT68cqpbZVR/GnaCvBZP6155cxejVs+2oP2cp9kTFumL41FbRx1PCMVTIxDKTUyLM7YczZ0Jh2MTlAHRAuPbjoueHT20JM3OuY39CTIH8UuImHPOjpq9J48NPmG1o0Omkyki0eerHh1aDGovkxGNW7ji1jykPM6uvChJZ7mDpHIy3XLgE7soRyEVHViXTWwYj+wksvley1WEmu4vWofzPGQfX7sZfXSemBHmR8rK3uUrbLlhVVsL6a6FXXkZn4jsKG0GVsrmlFI/ilgaBNXBQVZLFOpMezpQFBpG6LZT1QdsJbtrVKbxIo9wJvsaxmXK7TNPoQte9uQ06RUU20poaVR5lZPw35sQOdLkpKcOeTNhvJWhOxtQi2tmu4EWCWzZe2Vnk6UkRdBleQh6bmWtFxDrCbMOnmwaU87Yqqa0ER+S5HLyLjtVe1YxePryMvcZk0JEh8lS1oSdOat9IjZDWynshMrytsQtqcR9T4NDtjHKDxS/VR0Ym25H2kUEDlYE8h5bagolyUsGyTZY9mde9pQzPEag8CxM/Tnkn9ZjsNAygGOrbQF+Q2UbtY3AbgxEn098dR58CRk1MyVOiC7Fthc2WHk/E1P9yj3YVxWNgYMJc9R/FZVkYykQTH5E0X93UKsZb0tezoRT7qQxYZPuiMmx6Z+7dShThxk5ZSDpLPqkC/biCzyTsmS+KDGNcYjx32sQrrjJZ6GE4a2FWRAMPkjHVpF2kunZKuWEEvFR+5fwePLeSyIOlQpQdaP9K1jAzHkweYyn9FdXeDRAXP1VuvSB8kJt6Ur5fwTSxnZRJ5JFzezzWjWV5tqtu2QoKX/8s7or0m2tQRqSOOt9CuLaFdER9F5w95O7CIdEinn+1lUHJFvkb3SHapWrqeTNm+RD8ZPkQfig+quCLSxvsqP1Lo2o0PKS7LJgzUVfixmefky6cVm+h7pVhF1TL7GXAjoYVMd+j6MLgUuaraRzxW0czE1iiGkk9Sp6nYTCxnV1EUMlqFLwVtVbdhS0YIqCohMokk8TRDto7x0opCxyvbSVkQxFtnP3Z5Nlwx6NrSG+2W/txQ3gK7MtkPZNuOiHEmeGthlam0nfWM7lgVkVf54I+OiSI6zkGORXVa0IxnMoywGKR6SPqi8ZJpLyazqreaxyP0daJRSBO6mHR0g9UgzP0knuxtS0YY40p5qG9BLMdrjFO0l6bqFRF/HACaf5aXnunPZs03ZmTrGLXEHOky8Ifqto76vplxsIR9SatpRy2KtbFZtMqRFPHmyrrABKbXtXW2qfzNNm8yvYb/hDJa3lDUgv0kXFljZ2HS1oIba0UBZSJItp3zFH/RZv6vhEz3H159hFMGctwS/3YR6hSRgGOm3kbTdRFob/0V68b/Rg2Ta8w3yoZTpZVpSxpfQBi8m5E+Xss5yLjdU+pBBPRD91ZUuxkiHY1h/K9tWDqF2wmo6UUDiSm/MTQvxgD6cVYwM7WIZ8Vr+VDnHRi530x5k0kaQPSarMD5fnfQ4t6MNH2LiaWGCGr8Rc6xP3Y+Hxu7EZaN3YdDYYFwgjA/F+cRFxAWjduG88VG4kMe/MH4ddpc1Y3VKLR6ZFI6Lx4XhvHGhOIdlLhgTjPPGhOCSceE4b9hmPDV/JwrZxY6sGnxl8jbc/MZ6DAkpYMICtFBAzBVHop6LGQn7cO+kXXhs0g78a206frI8FZeO2obzRu3A+Wz3/FG72XYoxxeCQSM5zjd24lzuv27YKowPz7LJi6a5SfmVlvQ452MBukorljaRthPDK/HpYevw1OJglMiRktaabmbLMvmgU1W+vyn7IB6ZEYZLxkfg8nEhuHDUTmI3+b2bvA/DpcPW4jtT1qHogNSOBjiH5aeF4NJxwbh+3GZMii82xh5s2xhT3VVj21VU1hEhhbhm4i5cPH47npi+CdnV3Mlf0t4O/GBhHC4dvRuXjyGvt+eiWNUYCZgpQaYdP5o47qUp1bh9ahguJJ/vHb8JWyuaDJ81/cEYAiVSlJ0MGpinV2Xh9je2YGRoLhgHsA1ak8Ddn75jKOQUD4WxyVyaE5Eu0IiOCS7GreOojxPCcMHonbiIenfZ6GDcMz0a/96SifDKZpAlNi4nc/eSKJuLWvGXnWX4/OwYXDmB+jt6B64mHluYiKHRexFVxeSfZNGlGemIHO0B9rU0swk/WpuL66ZE4NyRO/HpiSH4wao0rCz0oYrtmusBvZ7LsQwFLRZobzbOLCivFV+dEo7LR27D+eN241zarQvGh9BuhuAc6ovs4yDSdxBl+c6xm7G54CDrS5iBXAY4v1mfhWupb0N35xj57aA8mDufEg0xgevN5PluBkWvhFfhS4sScPkE2mjawytpox+YH4/XovYggs78gIZFWZJscdXE2l5A1p8gvZX+tisb5P+IvDo8PDsKZ7yxAxeOpT8YEYSL39iKG0njbyxJx3DavSjaAsaO1sbRLh2kDA/fVorbaM8upJ86l77tLPFiTBjOHhNJ/0aeDd+Af29NMgFGTV0nRoeU4MrR23HauAj6HNpC2sVLydd7pkfi7ztKsZOJwEGfbBV5JJt12Lgd+iasQnSaC6mxlW0YElSE+2cl4iraV/H74enBGBZajFQpEMu0N3ViMwOYu6fuwJ1j1mNbUSN0/VRNGQfKIK2ZbmYBY5d7Rm7CTxZHIGFvs9E3BbbSOR/tM8UEwYWteHxuDG4fuRGr8upNctup+MeMS487dJik9Y3dBbh6zDacMyEE53Jc8slXjNqOe2dF4e/BFdhZ0Yx9ba3m4v1Sxm33Tg7DRbQvZ7PcWcQg1jmHvvWCsYzZ3gjCd+aFoLBWzkJ3bo6OuEg3TxS7KlGcTxp8nnHGjxdHI3GfHjewSZ/htXhA8obuaccXZ4Qy/lyDlfnVUCTiC9hH44PFILaZSd49vToZF4vutKsXUvfPo624ivb124vjMT15P5L3taKB3RezkT9vyMbl/1mMl3amM8kkr2Vz2Gcr21P7Sfs7Oa4Y3DN6HeYmlqDWJ/prppH6Y+dclDIB+/u2Ilw3YiOe25SMcsmOiYX6n71+O8iHGSVgPNZCUYwt9+O5rUX47GzGgbTLl1BuH5wbhxHR5cii86NrxJ9XJuGKN97CWYxLB4kPtNNnM684k7HqmfShZzDPOJ/2/NLXV5P+KYanimciK4DXwvbi0cWpGDw+GBez7qXU7c/NDMdfd+RjR1kTqjkU6Z8SYa5iOzPSJziWC8cyb2H5i8jzS+lbbhm3DT9ZnYYlTFgYerJ8AP3Ql75XfKiJp5kLbQS/xdyi3p7XiJ8tTsEDc+Nx96JU3DE3FRfPSMepk5Nw6YxEfG5hGvdn4975yfjRkhBEVbdhWUYL7pyWirOnpuD6+ak8noK7FyazbAoeWpRu2vq/DQmopGHeS+V6NbQagydH48Zp4XizoN4YTjRRXKiwISXN+MbyTFw4YieefasQu6uB57dm44EFsfgCA6x7FqRg8IwUnDYlAydPSsZ1HN/dC5JwN4XrkdkhmJtUahNPzaU353nsBQN6BkTxqRKX4REHcf7IYDy+LB75JIwST3vFU3TRM5ZM3Chfq7Jbcc+cNAyanIqb5qQYOovH9y5Ixj1L0nD/nDD8YVkIyuts4rmWCnjXnFQMnJJJXiTgZ5uykHKQVthcxKAqi/40mMkM/r7LRPCkmWn45NQkOs1gpO4zHDeB4ZffzMJxk9Jx/LRMPLQwCVvKNUefVfV8hRJGbil5/de2EpzFMgPY3/WTg7G2wrsrEUg8aeh1d3Ndjg+fnZeLs8Yn4ntMmpIblNAp8eTJB5xKbzT7aCGdMzbrEHg+0jCPAbaM58vh+3He2GhcMD0Zd5IX981PwOfnJOCWafG4jkb66zN3I7yc+s1qtSy/JK0OX5QRp+G8bmo07pqfhM8toN7OTsCNk2JxDYPsby+KwtayBtSrEvklB7A+/QDrxeOKiZG4xeg+ZWBOPK4dsQVPTN+G0KL95u6RnGnv5+TQSRuqi2gRpe14Zjnt3qxo3LMoCbfNTcJF05JxKu3jueTbndSre+ZxSXn/5pJohNKTGf5T8INyW/CFJdk4cXQEvrUiBZm0l2yZgaJ0i8GTkk6KcRCD1ycWp+Eq6vZNU6LI5wR8ln3dTX5fz+2rR+/E1xbGYlMZA1O23c4IWLpvdIud9Tr+Pg89SyUhZPBe0Iq7FubieOr5TfPT6RtSqBexuG9WPG6fHIdr3tiJx+ZEYENxszl/PTNVTVq+vLOGMp5MfUrFXYuz6TvS2E4meZGBz9NnPTg7DGMj82zwwsRzaFgNzpyQgFNmZOKOxVnUJdKYgdHNM+JwNYOdR6ftQlipubxFW3rsXeTsrzDKxv+Z9EHPrcvGTQx6b5qeYOyreHzLhF343MgNmLQr3c7YpuysLQIGz07BlZPDsYY6Li9m7TXh4zZdzLTkZgweF4mvLk1CFLNHHTJ3VOh7dNFId92nRR/A4GkpOHtCDP66uzQQyNJvK/lkOV1AZE6Dlxk0n8MyZ05NwO0LUjk22v95ibhheiwuHxuGJ+aEIKTqoJHVhckHcTvbPJ9x2A1z0+i/kynbiYzD6HMXJ+Ge+bH43bpElNItH02Jp54R1N3mwtoO/HpTPk6dlIRrp8VgSnSxscXmep252kbbQfLurAL1N50JyE4szq81tGujr/V8r3lHCHmRXNWJ764uwGkTE3HJ9CTabNqXhan4zDzSd1I0rmf9vzE51IyIXDby843lOPPVzfhrcAH2kset5LVmpfg4gDYmmdGUs8eXZuOGCaGYlrYfB/S8MJNOv+60yabxf0RZJ760vBAnj43Fg4x1N5XZC5mye0fTBV/dCOjkOWfXAM+uzcFVTCKvnc6knLp3z1za80mR+NyYjZgRmo580nbYDsb/8yLwmaXMPagH187LwYlTM3AC/engBencn4V7af/vm74TU2PzwWaxKacR35ybgMEjd+E6+sPP0GbfS//4WerPjVNjcNXYEDw0dReW5tRiP8vrgoMS0I15fjw0OwvnTkzHDXMycD/j4AdY5x76lWs4zs9MCsOc+CrUSex4KpKr3s7xaMCHnHiSdoS2/QxI5EJLqKAFVNhcru+sBb69vgrnT4zBL4L3II7Hsrk/n8dLuX6A6wszfExQc3ADHfiUYiCN+1I45kweJx+RT45qSglXNUwkUgmfWleESyYn4Nsr0xHD5FVTJXLZ2F+Dq3DR6GA8tiQZQaWt5sqzpo1lsb8iIpkGeXg6cPncAlw5KxUL2FYOy2Swfj7b3ktIgGyCYU6s63yPFXQlnnQyr0U346wx0XhseSoY05qrtIcmnjR+JNiKnE7cOSMNty3IxMR8P5JZLJcMy2E7mayTyyVzPbS1Ms0jH9YVArfMz8GAqbk4cWYebp0ehQVZNZbHPhZsbTHT9+ek+3ANk6YBc4owYFoWk9UoJO1rMYlSBDX+weX5GDApC5+aU4qLxkdgaMwe4wzMi4yYvMpAbSlqw1eW5uHk2aXsLw9XTIvCykpNoqbs0mlo2qiEuILnO2RXFS6dloHTp+Xi5pkJmJRcbe/Emrn5Ou++4HDfLfHkH2Z5+xmQvBRdzyQ6Bp9blo4dlH3pXRoJNC8PeGhlBS4aGY5RYeXG2a3LacNDi7JxMXX1ayszsLDAh2SWz+exhIMMeBKa8MWFObiMevfYojiEMeKR3hWTQH/eVoZBI0Px5U1lWMdt6XAonfSIXfkYviMTqeRZG8clZ9r7OTnI5oh1jdIViqRsqGzTbvLrR1v24aKpqfjetgpEkY+FLJfBY3lc1rG8r60dRSz3yu5KXDolBSdPz8V10xMxKbrEPKKgAMa7ShyxlzZ5dT4uHBeFLzLAnJ3VjCTuT2OfCWxjflYjnlydi8tG7sB3F0chTXP72IaSNo7U2P3ext/XobsbXuK5u7iTiWARTh8fi9F5HaA6IJcGIZXnvzinFd9dX4ILxoTiS4vjEHWg3UyLq6BzG7J9P66anIqv8HgQk4lstpVKuqWx2SzxjKhmWXaIBh5/LboFZ0xIxl3Lc7GN9iyTfSSyj7lMQr6wvIj6txvDIsoYSJJHVF5vyqRD34V5FwCDX9m+VRktuId+78op8Xgtsw3p5H0M7e78tAN4eWMKtmZXoa2F/pS+ZU0JcOmcLFw0PQ7LKzpQy7KtulMiB9raijqWmcrA55pJybS/2Uw8mWxS3/QCGvXXxmQvjXb4Keru2VPSccq0dNwzJxab86pNgtqmdqTnlDFNJf9PRD3OGBeHL6zKwVaOKYuHM9jHDMr7Zxbl4bKxoRgVX4w9rLskuQG3sN/7V5RgcQXlmbKaofJsTrGTYrFSjZdlZQx6o0u/g+gqn87FBgaZ98xLw/EzcnAybcKPVqcijyer5LNTc6lpN5R47qgGbqfzPJ+J+4KC+rdJPDuRRN/35JpixhLJ+EP4fsSIjuRLFH3jP2NbcfG0NCaRO7C2pNnEuE9tqsbJQ3fjjyGl5k5lo54tJHxMOn0tfkSy38eWFuDaSbGYkl5r7IUedZEsKlyq0UWLxEbGSik4dUYWLp8Sjb8ziWV4y/G1mnK90qCfwbtDLZaszGzG3XPScc2MFIzI7jCyqqmy81Pq8crmDOzK32cujiu2yZR9Ji2yyYM3MqmHzDcumZOCGfSFilW0X1Onq9nGdirEt1bm4qKxUbh/TjymUJcTSe8stqH8YTELf3tVIS6bGIfP8/iKgkYzrbmVdTcxf/nCzCx8dnY+9Yztkjd5hC5Y/DRoP304dXtZElJrzUOKPBcm0b2c59GAD/HlQgpCpAAW5At//BswlPLxxcz8fr+uGNeMDcY/qAiVHAuP0jiS7G00plxdSCt3O4VHV/E3l7YYBuotUibVNEkB+5LWU8H1ZrgmVlqT58PnFzBIHh2OEVFVKOLhuekNuGt+Bq6bFIYJ8RU4yDG1KknqUCLFjlub0UgJmZncjOtnp+HmaeHYJanU2M0bdpVYeEmVhFwG9hhOPKnEr0c2YNCocHyVypJH49brHU/yY1VOO+6ZnoD758ZiHZnewHbgo5VlwmbeRCynKKPMbFKPtKxn4HXLvEwcPzEFVy4sxuCxIUY+lPjrzbNo9WEPZefP2/biwvFxGLSwFMdNTsNdMyPMFBUNQ8b4oaU5OGFcEi5kG1dMicGPN2Qho1ZyQiFiO/Uc84iYWtw8NQkXzSk0d0cvnxSK1XT8FBlZZYoYC/EXTof7nYVJuG1OKu5hUnbV2Aj8bF0aCjV0/tNzF1rrjWYfLd5L4tmO/Qx8X4k+aKaRfHlxtLlwQE+GTgY5ej766d1NuGx8Ev62Ph/hNMCi9RmjohkQZ2MV9VDPbPoUXenlQFTKGhl1GvgbZ2fgojEhGBdTjmq2Q7uLn20uwinDd+H7QeWI53Ytq7S1dqCa+lZG1LMZTV3q/XwcPPAPmSgdpKwpYGCwWc7o5q9vVeDa8TH449Y8VDTxmN78bWws+dnWbO5i7mDE8r3Fqbh5ZgbuXLkXl4yLxc+XJxrb2KLLq7TL1ZSB0ZSJ62Yk4q55cVhVTr5KrI1os1/aSE3DDSrpwHfmx+AbM7djXUqhtfO6m0KtEXobe19Hz8RzV1EH7lqQg/NG7sSSvDpjT2SvOn1NEHk3M/h4ZGUBLpsUgSG7cowuVNCcvbRtDwZPiKWdyTTPnisatXdExDsqQzuVxE+wvybqwesRTTh3bAwT2Firf3LG1MFC8uSZ0EZcPi4Gf9iSj5wDvh4X9Xofv0PfgE08bZyyLKMVt09Px+CpCZie3WxmS7X4OswdjUryn2wlvxkoM4NR4nnF7BRcMiUEqyrpm3iotbMFbXrZCPW5kYtZSc24bgz17k1dUKffpB2wdzzb0EB7uiSzFp+dHoPBM9NwBxOR68btxsiQbHPXRbGOcdzs8wAHMoSJ5zljI/GN5fEmiUIHd1K+c2iPfxPciCsmxePZLSlmJtPy1CbcST/7+NIMRO+hIOrhcM9nazon2zVTNuX/+oQP/GAwF88MHztQJb0O3YdrJ4TjhkW5uJ5x5WdmRGFZXr25cWHiEfJBIeh2JhB3zM0yj2styK81z2cekXiyzVT606dW5+F6tjk8otTYj86WWsZBepYcuGlBPi4aFYR5OfXI4b6fMPE89ZXdeDakHAxD0GwuFNLS0raIDbrj+fVlObh2XDimJNcgMOOZPOo0SVgKY6HfrM3DVezvruWFuJGx2NeXJiCxTndN7bTd3ujQ/yC6tBrxnMME85bZqbhpdjLm5bWb5znR6kcT2bWHJrhO4it9IE+kY1pvb+jEwtQWXDszmUl6ODbssVPN0cK/LH+QNv2ViBpcPDEKt81PwUwqyz7uN295V5JIXmtmwgYmmJ9blIdBTE6f21GMvDo/Wji0jfQrDzD5f3RWCrYU6rlt9k/50UUlhp64fHY6rpsazLyD9kP96uZIr+fZ//Eh3vG0D1wLUjrulOYZKBjS1LqCA3Swa0sxeFwY/hZchHIyUQTX3HM9x6fpjUsyfLhtRgZuYtI4lUNJYr0kjjmVRYQMCtQe7jNdmPl6naji8ZcjD+CqKQm4ZUok/hVTjx9sKsd5w3bg95uzjXHVe2k1HcEGTazsa0cjhWZyfB2uprBeNy0EQXsVSCl+YCcmySVkaE1ipcTaJZ6DRobjK70knsog9fyXXv61KtuPu6bF49a5KZhQ1Ik4FksT/7hMInJYbx+3ZXllSNeZxDMHg8bF44m3anAPHbL6CGNkrLe9qaPQ0g48PD8Tn56Wgsd2+jBoSipunxaOVD3Awp+m2j5MI3vaG5H40uZ9eGB5Hj47M4pj2WfvWrMj3QX/AR3ArRzbEzsYBE5NwyXjd2M1BcqU0eVCyqqM1Ni4WgweGYSfvlWI8bnAfXPTcOeMSKwsqLcvAugzxvu/STzrcM74aNzzZg42kp8pPM8EKuBcBkEPrSjCZSNDMDqsyvDjK9we+EY4/hhcZq6USn90F8YqECtyqZdQ/HB9Kc4eE43vr0lHYuA5lVGRe3Dt1FhcOjkav9haYB7Ep92FZk+bKZrke3+9U/bRwtobY3eoB3pLsO4oP7exAtcx8fzdllwU0bYZHWRwYp4LZDmpxJjEBtw8NgRPMWsaUwAzZfxuBqlrilvRQkMrGUmoAb63IhdXjA3DkOhKlHCfpnVZA8mfCTLbUcs+YsubEXvAvryIeylWni3sn0FMb4nnuaN2YhEDTHP2eiW/kXObNPwzrA6DRofiW2/GGFneQ5q8tKMKV05MwJfXFWI9o1LN3klned3x1FX1YqJWdo7LRgYxw6PqMYh8u3NZBjawvmYQxNOOzqWf+8KyIlw4fBdeDSs1/szqmrvj2fdBJjLxbGv1IaSkHV9h3HLBuDg8uDQLU9PrkUgbuY/8190yc7eytY6i1Y61tLlXzUrFoKnRmFBOXaSYJLOcoDuKmnUwNKmT8pWEx5dnIJaJp9FLXdmVHWC7v99cjBvGh+PZ0Dr8J96H22cm4DuLoxCxt9HYa12YV+6jO54vR1J+GRjf+2YG3pLtZx8p3D9DtmFRPi6lbA+Lykc5u1iS0oCbmHje92YBltB2p7Jr+e9knkMaodkX+4k2nU8/vfDUE7IF5kWJPJ3wsg4m5zm4aUIw/k6a/SHah0uGB+G5LVkgKRimkmiMc2QavMTzgtE9E08bYxqYxLPdJJ4/XF2AyybG4pmw/YhgV5pREkU+/CexFZdMScTNE7ZjXXEjckjrpzZV4bhXabvDGhDBNpNYNl0ywfGlsO4q2pr7GetcMy60O/EUKzg0hrVYmtGOzzAO/tKSZAxL7cA3V5XhxilRmJxYYV/AaXzF0cE3b7bBzqJWfHlRKs4eF4NHluVimmYc0MYqzjTxmgmKSET6NPP5GtbxkWGzU1oY/6fhiumRWEUfJ/p0ttIos15mJfm2rgSnjonAtzfkmlmb8snmOX+1YT7JQn/LZv8echAXM558eEkqdhbXGX3fUNiBL8zKZBycg/GMqeK5T/zbsd/e8Tx3cgLumxeBRDoJ7mZbLUec49GCD3eqLf/pr7n8IkYbcN1PJ85F0UEmnuvKmXhG4B+7i1ElvrFN+5KHVqOsS9NbcfucXJw1LR23Ls7CwzSUDy9OpSFPwyNk6hOL4zEncY+5imgyVQbV4r/eaPrDjaU4b3wsLiGzL2cS+qXFSdhcWIsGSqaZQqmxaGiENFRXQ6YmMvGcw8RzeiiCqjWdRU1KKdm2BmTORdC6Fl7AdWzASzzrqJGvRTbh7FERXYknyUeD1yPxbLOJ58rsVtzF5PH0ycm4dUk27iPvHqQRfGBZKh5YkY5vLYrA9JBMtNIikNRYm9eB2+bk4NIxUfhHbAuD5XJcNWorJsUWGfmoZV9T4mtxw4RofI0J5V9TgAsnMrFV4qmpf/zpzZBfXFmCs17bgWci6vBsdAMGj97B4DDT3O3WVbHNBS24e1osHpmfjBcygSumppjEc02VnWrbzuBBd/Sy9nbgqTX5uOD1TRgWUkTDAPxqXQGuHh+M/9uWbe4KmZe09EKvjx42iTgcnvPzEs8aGtmXoupwxvhknDUjh8lnEY1kJu5fmIxbZiVg8IQQPDRtG7aX+bC2GLh7QTYGjYvE69F7DJ/bOnxMGgN9iWl0sLqD+e+wWlwwJRV3zIxGsKYw8Bdb3oLfbS7C1RMjceWUaHxuYSp+tjIFizIOoohFGvU9Kzrl3s/HwUK07oYiHb3cooQJzJ832cTzmS35KKJuSIl0V1TPlqhMihzbhhJcOmwL/sNEJoFlfrqhFFeO2o1/7sjHQXpFXbOjmuHOmUlMPEOxiBkszTNa2hQ+0VHwuJ5voSiAsalJqoQKDkXOWWJlvCX76338fRu9JZ7nMPFcmK97T/wpgjPOoMPYn/HJrThvVAgeWRyNuPp2lJBMQ7ZX4uJJybh4dgY+uzgTDy1JZ9CTjQeWZjLoS8DTaxOxrfCAaaaWzb4WeQCnTYjHyfRPdy7LwoPLUvDg4kQGr+TBxGjcNy2E/qrOdquLnxxjb2N36FuQ71NQqzsrk2IO4J4ZibiASd7Ns+Lx5SWJeHlXLqL3dZqXc6G5Fp3N7VivO54zs/CpqZm4YRFjnOVpeHRFKh5dnoLH3kyiHKXjxrnZOGNcAr6yPB2xVc2MmdlAq75NyOC1AnhoXipuGbUNbzIT3MIg+ZEFKfj0yM2Ym7nX+LMOxj0amqZevhy6D4MmJuDs6Sm4e0kWHlmajkf13o1ZlN9xUXh4VijtwX5zV29ecj2up00/Z3oGbl+cg/sXp+D+JSlMWtPpMxLxg8WxWJ1ejUZF/Jr1oAtevdClv0C80zOzMqUzkhtwx7QYPLEoFttI4wX5wG2TwvE49Tl8n1ypbEabmfizzSSemTifief8/LrAVNsjE88UxqbfXVWIU8Yn4IpZqUzoyW/GQvcvScNNM2JwOe3Os29lmGfws+lTn6KtPu6NKJw/Lw9fYBKsZOYR0v+hpcm0Fwn4LP32+dPTcOX4cExLO2gST2M0yPTyOiZBskvDt+LPQbmI5fY/d+3HZaN24de0R3rDq3kLLgO13mjRn8C/JLJueLSb55gnRO3FbdMTcen4OOYQ6XhsUSKGhpcijo5tP4vqs0JKPE19slGfe5+T6sM1s9JwFRPPdRU++06XVh7g8cgSP3WvEGeOi8VvthaCKsZjmqps8x02xOZ8ZrbD9GQfrqNdHzw1Am9mVhn905Ttz8/JwimTM3HtolzGvlnU70w8uDAdV0+IwvWTwzEyttxcxFEyK7k6/ByPFnyIU22tM7evBiYle+xX4il91VulnlbiOT4C/2TiuZdjkb7oTllnB8tQOJamNzMQzsTxExJx6phwDHpjB84lBo3YifOHB+Ga19dhaFAG9unhJzVqlAjm9dFTsjpx+fxCDJiSi1PGxuBFSpyeM9X0CBO8CZIXQne3Gtj/ZGYVVwUSz23VZDwP6SUzKmo2vHqBbRsIHnreRzOUeMq/HKRBfCWqGWeNiqRjTARzSxuAatqC4TcNblfi2YS75qfikwzKTp8QizNG7MKg4eThyJ04a/ROXD10JYasiUJDk3gIbKLjvHNuFq4cvQsz8n0Yn9aE68bswh+D8syzJLoz85PVebiLSczIyP14I6UTl02MwS0M1FJqdG3XJp6PrCjGuUPfwmvJB7GQEfNnpoTjyaXxrN9pnil9ObQaN1L2/kYjMofHr5uSwMQzGGur/Ca58tOpa4qEZPCu2en4zOw4bM4/iIM8p6nxB3Hj5Ah8cUG0uYqtFzv0jbt2kseAiPaA5/x6Jp4vRNaSHyk4flIGTn0jAucO34kLh23D7ROC8ed1cdhZWmWS9BVZLbhzXg51IgGz0w8a+pqrfDxm2tcKdbaVejclrR2XTc/E1ZMjsUHzaPlravKZT7dMSTiAL81PoNPbYd4gfP3EcPx8YzoiD7ainmPXc+BWL9mDcQjHcqBtaWHIEUBPm6MZIXJ4Sjz/sqnMJJ6/31JgPg2kSNTcgafyySwuzQXlNwOfnx+HlUUHzbPz0zKbcfX4UHxxYbz5rI10d00ZcP2sFFxNvmyqtC/Y8vmVeHVamY/Zg68uSsDDawrw8Mo8fPnNFDy/Kd7oUnfiqfH1dj59G70lnoNG72Cg2WBOS5GDzJoubjbyfBcxAP00E4p75kZha1UTSnj83zsY4OkZ2kkJOG1kMM5+YxfOpJ07fcR2nP/6Btw3YROWJFcYutbQEb0aUYeTJybTP2Xg5FGhOJPlLnx9I26fuBO/35iBoJIm+4kK6UE/D+aPNUhnNHFrHyPXTXmN+NXGQlw7MQJnjQjGVeOj8NWlaZiZVGWCVEW36+h/Lp+ZiwGTczCQcc5pwzez7BaczYThnGFbKEe7cPrYeJw0Jh6PMSmNqaJcMi7RlHs90zc0uh6Dx0XjWwsjkcgdFWzzX7v34LI3duIPwWXIo3zqTk+HbD8F8JWQapw5MYm2n/I6YjfOGhaEC4duxt2TQvGnLXnYVdmEmg6fmfI7O7UVN87OM2VPeCMEZ7yxjdiOU5ggncNx3vz6esyMLEWdT/GBAvH+JavSfWo/9VzTYmUDSCwusmgUf8Sk70LS8IXQUkPnBCaXP1hbxCQhGm/EVYOhBH8+NJGRW3ns9nmZOJeJ59yCehNr6nEU+V37zCXbpY1J2QN8b20pTpyQhJPHROKskdvJ3y24kMsvz4nAxNhKZDKO0eevcjiGH28oxvGjo/Cpqak4hXHvoBE7jFycxTpnDXsLp5J/A8cl4MoJEZieXmu+3mCuFFK2thZ34qFFGRhMvs5KqTJJzfKcFnxuZiwenhdjPlunsMu8sNGcv6VBb3Tq6/BmIJrp7qR5DU9pdU4jE+xsfJq0OX3YLlw2OQaPLk7BzIx6cyHVfHUjYPdN4pniw+BZqbhmWiTWlzOJVBklnvxtL27FA4uzcenUJAyPr7FfNdB7SVjd+Gf+RDtdD1qdA9yxMBfnjNuJ6YlFRo/W5TbgCwsy8YmJqfjEmAjybRf9wlbcMGobfrAsDktzDmJPi5jRaXT7aI5/PtTEs3eQQzSWujmZz2D06fVlTDzDzR1PJZ4ie4efRGfiKf1ZnNqE22ak4Zq5Gfhnqh9Lq+n0yxlMVdrvba4p95s3nppnYCRtEqK2TuxhMPXvkAO4eEYWjpuaizPGJ+CXQeXmW2utTIgoniZwMzGcIoq2VtSy/4mJdUw8U3D9tDDs0IdE+dN4VFBlj8Th53d049DEsyWQeCYhixraIGfbSd5Si3XBoaONSkmarqTy3z4rDlfOS8efk9uwgAb6TfJQ301atJeJTXkbkpjhtJFvYsWmQr8x4JeN3oYlJa3mof2H5yThwVlR2Fjmwwby/d7pcXhiUTLCeWxMYjMu1bz7GaFIrmmRDbF3PJcz8XxtM4an7EMYrcS338zAbWO3Y07SXiTQlnxrKYPxGdFYU9SOJXT8gyfrtdshTDz1Nlsy19dqAvtnt5bg3LHR+GHoQTNNmEPHW9z/0MpiXD8llMkWDTpFRdLy8U9Z6V1Oj0g8ef4vRh7EGWNjcdPiXEwmTVfSIa7mUg+75ykZ9DUZdVqT3oR75ufjyknRmBBfGbh6TmdNQsvY2+ea9JwR8EZ0HS5mgPLp6ZHYzOBFv/Ymml2W0zOEel50VmY9frAhH5dOiDKvFf/N+jgU6K6bGav+sD2TeH7ctPw40UvSaX2S3TYzDzpQSjn8q5d4bi6wb5YkL8wVU/JZV7z/smMfBo2KwFOh+xDDw2QB1jYC963MxU2zYjEndY95DmxtsQ/XTYvB5eN2YW3A6fr1vCj71cui/7kuHec/vwKnj4zAcaPjCQa6S6PNc86Sk+7x9XY+fRu9JZ7njLKJp9FrnqPEXBdY6qkAM9J9uGJCDBPPaOzY1wyaKQzZUYbLJ8bhsytyMIpJ/CLq0WLqlL6xuqKyA9ur/eaONLszdzyHRTYav3TVokyMolGZT8asLGvH9j3tyCHfRH/9FBz1NmaHvglja/nHz5iik2ihADHOxUr6mX9SBz8zNx1njwjBA7MisDWrRu/KM+81uGpmFk6dkoy/ZHRgDmVnAeVG3xOUr5xXAfwyrAUXjo/H15h4RulzKrpAzwQjjRH0t1cV4Er6ryFpDUinzLA6ZjN0u5Vx0+fnJWBjaZOZ+qmLqfspWHpW7cxxMfj0oiyMZfsL2c9yyt7uvR3mQpSeu29tbzIXpOaltePGyem4cVEuhmR2YhHHJcyjvC7lclN5J3Ipr8Z+dygQ72eJJ5Xeb6IWm3za5+f1bgof7mIccvXMFExlfKBHTPKJ/0sGzqe9/dHaTBQYJW1Di89vEs/bWP6c0cGYU9BoEpM2BrrW92oGCgvTLqey3A/XlOLiySn4wfa9mEPaL6roxHIuw6s77Q0Y9i+5ySUDfv5WJY4fuhsPB1VjKutKFvSSp/m6A0u8zkHdujjffI5FiaceDdItWL3DYnj0QVw+KQZf2liKzWyLxRHK9p98qwrXTozEy2FF5qU5HW31HGOroQFHyvXeadWXoTGLzuZtxHo3R3srmiiU6TUdWFXgx1+Ca3ALk8oz6QsfXZiCzYWNxrb7SSuGGibxnJ3SimtZZvC0CKyjD2QrTDzlVOkXitvw4JJcXEAb//zuQpt4mlyFZQJOup2+l7kolqT5cduCPOprMGYnFRs92lBQj3tnxePqORn4Y1oHZlF33qSObi7vQNI+v3ksiQ2pUbXUL3nwXvGuiWd2dhYaGxvw4x8/9ZEnntKfJWkt+MysDAa+KdhExdRwZUCNbgUgfumvgn5dbtCD+EszWvD5uWlMJKLw4Joy3LWkEFcyeRgdvReUQ8Zk3tQC1lSg25V41jPxTGXiGd4j8eSS5VT2SBx+fkc3Dp1q24JzRkbia8sSkUOa632ynZ1SVXJFkZqEy9eJ1TlNuGNalPkcw8qyTjN9R5SVzVZpD7TMipmxrqANt8/PMt/fXJpXjyLue2ZTOa4csQvPhezF8wltuGZMCP60OQ9lHMu4xCZcxMTz9pmHJp6PUKsHDduGYYlVKOG+16Jqce2YXfjZW9kYkdOJGyeE4HtLYszYl9GxXDU5AZdNCMX6Pfb5YrR0ILTEj4cWZ+ATk1Nx7YpifGt7OX68vQyPbazAZQtLzFthf7gy3j7jyiq6y9Qb3T46vPfE8yUmnueMicYXl6WZt7pJt8QX6aCWbdQJrezO9eGBN0tw6qgQPB9WYt8M3Mqgit7RTJGVQyU0tezZ7dU4d0IyHlqWjCh9CZs/TXvZ29SGulY7hVkGVh9e/lfMQVwxNR6fYfK+IbcGzdxvv43GFZd4Et38k/0xjPH2KbkMJJ6646mXCz3TdcfTPl8tgYxgsPvIm0UYMDYeg5fl49tby/DLbSX40oZiXDw/G6dPScD334w0L7cJpb3TYwyXTQzBxEx7Z9RPPktedGcmgcdX5jVhSiEDl92tOG1CHL67OhmlHNfRl3hmM4DcjgUFtea0zFw63QlhdLKfNH85sh5nMYB5ZHEsEpv8KOWhF7aXYPDEGPxgU555Dkt+SvIuuyAYnWJf7NB8B3k42zh3XDTuX5ZknnWXXfR0kMPgeCgDtvghY3Xo4yDPxG/xs6jBh/20fbowrjuOVeT7/NxOPLiy0Hwb99k18cZubqKDunpGGi6ZFImV1TDT3GVn5Rclf9qezARQL6/62vJUJig+k9TUU8iWptTjmhnJOGV6Ku5ZV4TvBhXhp9Tx+5ncXDg3D+eODWcCUmFfhkN9ts941mLQ2Eh8aUW6eQO2ZNWTV/XZ3KavAejZUL3gkUH0xCQ8uiwTIWyE1Q1kanRc4+Opmb/98VlB6b5NuDR2co4+XHeq/7OrChdMScOgeYV4YE0RfrG5EE9tKcftq8px4pR03DkvCevzDpo7XDKTQUwkbp+XgfPMM56NNqah7WQASdKQUnp9Mdu2LxcqxXWTkvAafaAuBHo0VR3N6pe90VLvTfjFlr0Y+NI2/D6sGmU8JFlQOd1FU/Kji+pfXVmAa8eFYmraAeyXI6XBzqrw40nKw4ns5xrGv1/fXIafMnb5+lsVuPrNKpw+MRWPzo9GknlOjS0yduvg+Xt3fnujVV+H7iyLNpL10kYfDjY3m+fjdSOxmASex0Dn3qXFuIiy/9ymNByg4Op4B3VJ+eWs1EDiOdUmnpJxc4AkTWT+8Y11VTh1TBx+vjEbVFNWptYwwbUzOyk7LbXmBacjo5twxfRs3DEvBWvzGNuw6PqCJtw/PQ73zUvF0grYl34FoHhTTeiuju50mgsVh53b0YTeEs/jjvuUWf/3v5/HgJYWQ3o888zvzM7zzz/vI008FzPxvGNGKu6dl4ANOQfQ6utAY30D+d1EtMBHD66rimY+NJVVj+WFVQFPrC4xH2r95cZMbKjoxJCwfbhifBzunZ2ENYVNRhD0bVG9jc1LPKV/LvF8Z/R8udDwiCacNzICX1mSgHTqXx1p6WtrRitpKfg0DYE0Xa3veOo7ZnMS8GZmjXmmrL2+Hv6mJrQ1t1CvqeAtLOgjyPSNhe3myuHlY3djRa7MLDA7oRY3T0/B1XNz8en5ubhzeiQWsy3lNhMSGnDRpBjcwcQzhYmnuKbPqTy0vAxnDt+J4UlVxqkGFXYwUMzGFbOTceOyXPOG4zGheebV9cs11WlKovlY/tbqdmP09cmYcbH1GEz5O25iIk54PQgnvbwJA1/YiJNe2YqTxsTihOGRuHNmAtaV+m1C5mv+mK/4vrfEU59TeTniIC4YG42vLo5DbjP3+3gGMgiSdzLZPrvZgYJ9wA+ZqGiq+5NvFSKOxVgKDWynjh63iUGKAqugMgZUS3Jxzqhw/G1nATLoELdm1+Cv69MxNqYCGWRCM/v3N9cZvq1ju3cuysbNU2Mxj1a9Tpd4NUaXeBLvJfHs7Eo8r5kQg6eZeBYbwya985u3V46LqsOVs7Jx/KRkyu8unPrSWziN8nvqy1swcEQYPjUuHjfPjMQmOlkFOf/YXoorJ0Xgm+uyEM22FNw0Uo/FN03blVOP4f6ndjTg1LFR5q2YxWTX0Zh4ns3EcxaDBgV3DU0Mwklz+aRI2pZvrSvDhePC8fS6eFTQmZWSdkO2l+P6SXH44dp0JNcwkGXQ09JIX9UiO0d/RV/q85GC1C8lnsMi60zi+cVFscgkH/V5J73lVHdF7FvUNbYAv/nn8DE79D2Y2R9kY1alD8PDy/GLVfHYUkZfSLlp1yuh6fv0Juk/xOjCTRS+szAChWT5BmYUV9LPXDExDOvKGqhvlBMfhUryQnvZ1ujHHPq5G8bH4GtvpiCsmokJ+8mjcP4lqApnTk7CJ8ZH4sTh23HySxsNBr4ahJPHRBs9/dbKNMTV0O9yCJqC+FJkA84dE4nH30xArrm9yRgqEEfJRygu6uig7HLci9LbcNuEeHx1WRpCKhhz0V/7Kdt+ymp7axPDOcq2T1Ns2Q4NQG906cswd8pMsiW/1yr143mCdC7EKaPp48fFYeBQ2suX1uOEFzdg4GvbcOKEBJxHXX92Q5p5N4keM9nOxOSOuRnmGc85ObWooyi0NCsWauNxLpWkMEBNV+K5qhDXk/+vBReiTsmp+K2ZdbIBImO7jUHyKQI/31LFuGMrnttVhH1miPxjZIPttbQinu09sdS+1XZaSg0TTzbAuivSW3Drwjx8Ss+RvxGME2TzX9qEE17ZjONHxuCkccm4bkY8pqftRb3p234WTnToj0mP4gZNbY7f04JXwkrwq1WxCNlj72o21teamXqFJPOvdjXhzNGR+NHqJFRxnx6T0ou3lOrM1FttZ6Xg2qmR3YmnbDLJU34AeG77PpwzOgYPL8vCNtJdF5OayNuGDsZBHbT5bCuB5Z7cWI7zxsXiZxvz6Qva7B3PQj8enJaML85OxOrcWsqE+OjFXBo/C2nBNoXezvFoQW+J5wknHG/WR4wYjgG//e3T+Pvf/4Ybb7zB7DzzzDM+hMTTvlyot6m2uuN56/Rk3L0kHWur7XQHXSnQFQ1BQYGEQ/ZeV3n0ve1/7KrGFdPS8dm58Vhb1GCvClW0mzduXjQiBL/akIt0RlRmOjWtjHklOY2uu+P57tDccylXAzVJV+zPHhmOx1ZmmKummjMvBaMqmUSPOm4u+OlzKp+flUZ+pGMZDfoe7hdPBPFQwa2u+piEhwqu107fOj8Tl4wLxvJctcpEsrQVX1tZiFMnZ+DsSQkmuMtiJ7q7PTGhHhdNjsUds7oTzzBWe2B5Cc4YsRvDk6uNjGTRUDwTVI1zKBsnjo/DAwuT6GB8oE/Hm0w8L5uahEvHB2Mjo3mNPZFWSTJzHo3U4wzuR2c0YUJmC8ant2JChg8vpvhx75ICDJ6SjL9vzUOlkjcm3t2Jp5zwR+2I1d+RcuoZM5t42u94vhxxABeOicJXlsabb0qZqwSmoNb5X3rhbzHPS4+L3Y8bpicwCU+kAyw1U5XFR10WkJqEkq+/3VyOK6bE447p4ViTX2dmFsyJKsft40Kow9EYlVpvvjEpfhewq/FZrRg8MxGfmRGJLSWN5lMVxj7wPFzieSgfe008uaLE88+bSnE1E8/fbA0knjLqVDy9VOiHq/PNNPGvU36HZ7RhQko9JqY1YQbXhyZ14P7VFbh0Siz+sS0PReTpuuxW3Ds3BZdNisQfdpchjAyWvTV8Jn+iK1vw520luGxaCk4cF4NvL48zMxJMzNk1vt7Op2/jiMRzYQ6Dk52YXeoz9kx3f/XW9SDK+R9DD+Iyyvkt08KwKne/Cc73UKhf3L4X10yMw5ObCpDAdmTbPH+l+rKNKis6NXFjWFQDzmFw8sjiJPMSEZFPNrD7bek9ZeCjtiMO7wf6xIlkKKmoHk8uScY5w3fgl1tKEEVhMP6OMrSLhvO7W/bigsnR+MPaJJTT2axT4jkzE5dOigp8ToXBme4+6aK4v9l8pmFmUiuu11TbZbrj2WY+k7ShELhfF2kZ0P4yooY63oyJ6U0Yn9GKcUw8/hJVz+QjC4MnhmJafLmJefZT1l7U3XYlnsuTzHOEnQrI5BskhF1gQsnFwnQ/bpmYgIeXZ2MrT8KLv3Q+suVayt/L7+qlZr3RpW9DY9bFHp6B32em0k9JbMEtU5Jw57xU/CW+HqNzW/AGbePYHB/GZDbiJzurzFcTHp0bi/B97eZ5zF1MPO+ck8HEJASzS/xG50UbD7Ijso9pVcBP1hbTVoTj1bAiHCCtmeZLbAwLBAadTIg6TeL5iy2VTDy34E/BJdAn5ZR3KgjzK3b1tyOGsc7X3yzANeMiMC2pEgdZQJ/Z+uPmMpxPeXl0YxmGUhZGZbVhLB39JMYwr8Q34WsbKnDh+EgmwYko0IOeSjjNTEBd9OqHvldJM4kYVtqCr86PwwXDt+IP2/NNrKIoUrZYFwceX1dOPYvAc5tTDe0NvVlPNzZn0jdeOys5kHhSx3jIPP9KuWhhlrkitw336q23kxPx1Lpc7K5qN+3KP1axnQRu/Du8hnFNEq5iLDklcZ/5XI7eFaLveN4/PRUPzUnCKn3f0/Srz55p5tih/l5h2NFs83tLPD/5yU+Y9XvuuVvLAWZD+MQnBuDkk08y6x808dTzAEz68auNFbiaxvafISXQG8Jl78x3OXXHk2UWZ3Ti5rl5OH9OJn4QUoMXUhvwfPx+PJ9QiyFJdfhPXDUWpFLZaNBliBdRse5g4nghlfBlfcOTbbb6fDjIY3MzmMROS2SQFo1hsdXGgPqZ5Ppl3EkIJZ7jk1tw+fwcXDszFtvNvXTKhl/j7haKbhx7wYCXeOrbQ6/ReZ06MQWXL8rDc7F1eCHuAF6N249XEmrwekwFVqZVYi8d5so8XQnMwYVz8vH94IPkXQNeiqvBiwkH8GJSPV6P3YuFicU42GS/77qGzvTmRfm4iMHvm3oDFX9ldR0YsrMEnx4fgtsn7caIsHyj0Ho+ZmpyKy6ik7h9TiSSa+z3X0Np9e9fVYYzRoVheOoB4yAPMEmdmdiAz82KxzWjt+P361PN5yeUvJrEU1OdJodjY1mTKb8k24fbFxcwGY3AXGZKUhUFj2pfoA3jufpwyYRYfGlRovkAt6afmu8sGgH5OGRE/R1qxLrBPxobkxI9s/dSdL1xTI+9mWI+IG6vdtqyXgKh51L0uvFMes5/bq/A4DGhuJKJ5JNrMvHPmGo6sBo8H1KF7y3PxVVv7MItE3ZgeEyZedmK6JVIT/mbjQU4Z9gO3DwtBn/cXYGh5P3fd+/B/fNT6Ry24ZcMvsxbkclP9a/ObTDQH4OY/xWO5KN4YggkGIfVYd6m+tyWPbhySjJ+ta3U3D2R9xUtl+S344556Rg8LQ5zCvzGOUpuFbfoJ/s3PLkTF02MxwOzoxFPHleQaUND9uKWyZG48o0gPLk6A0Oo0y9SR/8TXoUfLEnETeN34yrayPPpRL+1PB650sPAsOxYezufvgw9h6VAjidC9dhV2IlbFhVhAJPCb+6oxCupjXg5uhp/2VGOxxZn4bKxYbiC9uPFyEpUkJjS+WoajBd21eNSvZV0WQF+F9OE/8TT1sXtw3+SDuIV+qrhMXuxvdh+nkWfUxmql7NNTMSDS1LBWNDwRb7PfprG8t5jt93ubewOfQn2Yp3fPO8+mfy/hcnllaN348m12XiF/nEIg9IfrSvBNRMi8NmZ4ViVecDMtFLiecWcHPqxOKyoZCJDWWjt9FEmJBj15o37M1Lacc2kdHyNCaBm9OiZ+aGxPvqnRHxhXhJiWEbJDRfmwqnkSZ9i+RUDmbPpB/+wrQBlNAB6+/gLUU04Z1wMHl+RihxVUrBlEs+AETbCZ33pnHTg09OYvC4uxI9Da/HvuFq8xHN7gXgxkefEGGx+ejXMC+V5/h/vjJ/3C47Z3O3tMHeRf7mlGheNDMNz9FcZZKn8vpJr0VanuY30f3RpAW6anoSxyXvN22H1OZWb5mZh4ORkfGs3bWYy45zYA3gh4SBeStyLVyOzEV3RgBQa4h+uLmLiGotXIspN8qO0U+0KXuKpZCWPvPpFUBVOGroLfwqtsNNyxViJGcfa7u9ENLOqr64oNm+Nn5FciRoe31zUhM8vzsNZIyOYKLd2JcE6B1Y16zNzgCsnRjFZjsYOFjDNkgY26ex/PNRb3HXHXjHnmOi9uI2x3NVjg/G9tVl4OWE//hNVjR+sL8blo0PwhdkRWJdfay7E+HW3kVX1DqEZac24anYqrp4ZgzXUQ/HdfHtZjxMxbymnro7Rt9/HReLyYdvxjWXpeD6SvI3fhyGRVfjR6jzcMCkGV48Kwt93FpobXJqKrdkJG0qAe2dl4gH65FX5LebRIt34kr6Yd2UE1K4bR6/N7y3x7JlrDjj99NPMXU7vNuipp55ilu8/8SQYNOlqThYV5umV6bh26BoMCUo2bw0TL8wdRpbRi7kWM1G4Y1Icjh++G8e/vgMDX92CE1/djONe3YqTXtuGgUPW4JvT3jIfqo+isn1lRhguGLYJ31+VgIT9dgogWuvp0JtQRAP7fzsrcdnIXfjcxCAsSylDE5W3jQG3pjnUczEp9iAGT4rArRO2Y4ekjD8JpnP8AZBWMox1VO7XdxTjjGG7MGBECAa+FoSTXtmCU8mfU17fhjNfWo3vTtmEtCo/1mY24/bx4ThhZCQG8tiJL2/Cya9swkDiBG6fMWQFHhu3EnkH7fOZG3NacPfUWFzz+gasyaU156/V50cKjfbSxDIsTylH+p56+5lNjmM+HeA1I7bingkbkL6/0bQRWQ3z+uzzhryJsfFlxiFrNm/hfj9Wp+3BgvhiRBbtRxNFTYZhHQ3BtSODMHjEamwrrUMhKzy3Jg3nD30L31megPi9DejU1JZmWpIWdqpnB2g5NuS34jOTQ3DDqLcwL3kPahmBm8TTRIzs1BiQXuj4kcIMguCA5Fx5wko8XwkuxyU8v6/PCQZPg8cVNLCIKW7l3Vxx79TFGTpB6uuE8Ep8dVEqrhodjLNf347Th24jjbbhxjEh+N6KNMwiXcvYlnjgo3HRiw52lTTjT9tLcfesBJz3ehBOf2UzLqKc3DV2J/68MQ3hZbXmyqJe6y6SGdIZOJ3rRoB/JjAkddv11u928x3Pv9KxXku6/m5dGrepn5S/QkYWf9qQjYuHbsT3lqcgbq8fmumHZgq2PGzjAXSST1vzWnHf1CjcOmoL5kpPuK+4Vm+wrcL3lyXjxgmh5HEQTiOPL6CO3z1hF/6+qwTD0ttxH+X+ydlByOGQFNAodu2fPDs08QzOacKtU+Mw4LWdOGn4DtqqLTjj5c04n+d/0+QofHd5MqYn7TFJvo92qZNyvo8EeHFrGS4fGY6BI4Jx/NDt9FW0dfRTJ5B+p7+2HecMWY1/vZVsZL2WNH41eI95+dnDM3cimyZF3kbP5pr4PwAlobrA0Pu4HfoizMU9/tc108kx+/DNpcm4avxunPHqetq+TbjmjSA8MT8Cc5PKaYc79A47bCpqw/UTQnDViI1YX9JoZMRnEk/qqp8BMrOQufRz17++E9+cFYHoqg7Q3eDb81Nw+dAt+Mu6BFQ26oVvtOGMdzo0FZO+Sknt5Jhq3DQ+DA9OCsKWrCpjk1/aWUHb8Ba+MWcnCjXVlrJmHKHsveyLzqPDviF+bkIjbh4TiVOHh1CWGYNRnk/WNF7K9qmvb6YfX4MvT9+MYr3umSeui/m90aUvgyfL0yYjuLo2eT8+NyUKl728GnOo57oZ6G9tITnIlVbaT18LiugL/7KxCFcMC8L3F2xHbkM7dlb4cfP4Xfjk8J04btgOnEAfp3j1uKFbcRpj0tP/NQuvBCUijU08NT+K8c16vLYz29wU0V1G3eGm9htbJD+tZCWfZX+7Phtn/2s5/ro101wspMkx8qUbIh00usyp8PjsGFw/dBXmxOShtNGPoVtTceUb23HfjChspTNQbtXGczDfHdWc0mY/Yis68I0FcRg88i28vDPLXMgwU6yNPeyfvld08zNxyD/YgSnRe/D1xWnmws8Zr23FmUM3m0/qPbkoFotS92IfySAa6jv9yllbqDLzkg/gBvq4T4+lHjIOJEmYOzRSLHxUDeY63NZz2gviD+AnS1NxI+Pac5iHnPbKWzhbuj0qGF9ZkITRIXkoaOg0+UcnaS6WbSlsxYPjg/Ho5GDGuHVmKrUuUnlvLPeST4GrhHhwdMZA75R4Dhx4gpY9slDilFNONsv3k3hKocy/Tn2uohMVYmBCFV4KysCadAY99Ljm4oPeMkVJUBwQU9KK13aX4ZmdZfhtcBV+F1JN7MPToQfwTDixqwLT40uhTwaG5tbgP0FZeH53DrZVNuAAuW6m0TLC6uhoMlP5wqs68VpEBf5vczJWJOWhiYz1mymGNPGUju0UjhfCKjA0OB8ZBykQPEfzaYLDzuVYhRyTAiM9QB2UW48/bc3HL3aV4+mQqgB/9uK3YdVmmt70GCYhVOaUve14fXcxfs3k43e7y/HM7kr8LrgSvw2pxK9Z9nc7CjA2Mhd7aBOloGlV7RjJpOiFzRlI2KNJPdJPezdOxyWykhM5CT2PEVHSgiHbsjBidwoqGhSQA7l1HRgbXYK/bUrAtpID9gFuBYkyNFyXi9QzvuYhbi6Tq9vwwrZMPL85DpkHm1FEbzA1vADPvZWOZdn7UMUst72TAquLFOqbwikfXciAc3JCJZ7fnomV6ZXY38I2TQDLQagcF73R8aOGEWQZMekDz1fTidbn1uLvpPGUqAJzldQmNaYY0W3wdCWx3c8K3K/Pamwv68TohFr8X8QB/D54P/4vbB/GxdcgdJ+9ktrGc1cAZPpiJT1ykk45WJDbjOej9pH/e/Cv0ArMTqpCHumnhKWNQY/IJbL1xNFqeN8vjNBpXTzhUncvVibvxctbsrE8ZQ8OtugZbD9yD/gwJbbCJPZvZh1EJcsZJ2jkl9CLLrhdxuB4VmwVXgzKxNqUMjS2kN7sQncvQve0Y0JqLZ4N329s7j9Cq7Awqw75lAFhSkg+5khv2Y4ctC5O9MeARX5JtDQfjef/nCo/XqWP+Nn2IjwTuge/D6U9o237Z+ReTE47iLgDgccDZIRYR7yoI3HXZRzAv3eW0leV077toT3cZ/B0yH78gW08u7MYq/MOGFo1k/wbKPx/256DMeFZKGNiIRXUG2w9PfDT4Aku8exf4B/DQL2Pah/1aFt5O4Yl1uDZkDI8G1qO4VFl2F7SYC6G6qKFnsdO2d+OF4ML8e9tGUipUXQkUZSO03Mx4G2j/4ksacJLW3IxI7wQhbWdSK/yYcTOArywJQs7imrNS9s080AvsGLqRz1uN3d04ir9GBlegRffSkR4fqV5UdiG7Hr8MygbkyJyUGMfcrPvyuDSrOsCJe2ExhFZ7MOru8rwJ8Zavwvei9/Q0P+WMv0MY7FnGCs9HVKMcXHFqFZGpGS138VL8lM81w69XId2L6+O8V8pXt6ehSQyUEelh/ayqOhjv/m+Oa8J/9iSidG7k5nstSGbPHlldy5+tTWXel/JGLWKtNqLX9E/PhNehT/uyMb6/Bpz12xeVBFtbgY25+w1z8+L5u1majXpLh4wsJEYaRbggpS9eG5dIlZkVqGR+3RdQ4PSd1n1UpxiCtLkyBImtSmIKN6HSiaeSxOK8Tf69hlJexmj2JhHF7Fko73YaS9t0OJU2izGzHOi8lAj28/jokH/9LsaPE+MtFM8oZcabi5pwwjGJs+GV+M5xpsjoiro1+zjE2Ymo7GtklfShaSPrGjDiyEF+PeOVCTVNBm6Sf9M4ine6MIOF43kS2xlByYn1Zs4SLrwF8bAo+IOYmup337bXfRWgkVdYvNIIzPHUAYmh+YjTW+lFh/EZzOGw5PO/sqD94Z3veN5ww2fxm233YqzzjrT7DjttFPN8n3d8ST79FchplhBOe96RkCCoMDII7yY1k6FlCFVGc3R1tWe3qC6EhA5dLUlMM61V7DNT/36qXDtJgHRlDNBV+kpThyPlJzCyr7UllIdHademnr9derBhwFqCZf2AoHoI77onqRmJWuuu6B1jy8SL0HrKqvjHi+1rqkjKu/xUPxXefFckIzwvzGa7e10am10DkyCbACtaQpMbHhcU0nEMx/51E5+SRa8fTruGaVOtuHXM8ZqR1c4jQWXWbF8Vx3tZetGjjRWex7si61KHmxwrYGRDjymeiqn8aqeyMSC9mR60O7jhL2a5sE6Ism/d37WGYlGWlp6eXXNhRcZdIGeSzMRRFPRVvTS+ast84irIafa8cC+yK9mrqsflRfvRVu1Yfo1SarGKD53Q9tHs/F9/7DyZwIJkk/yKtrK5vEo/1rbKhp78i++sDj/aIVSqrcsyq5xs4n7JbsqZ+hOu6lnTtSuZ3ulq1rXvlYeV0Cr8oaHhOWV0P/4ZRJPUs7caeA5SId1zrJLWkpmteySWdFdF8Jof+xbPOlBuE/HPJvRs5633mWLCP3x9MGzG2TFITqgINHYvX5I02MZRp5kz8hQJQlenCO7JxmQnsrf6Pk8MwOFsqdtHZP8SMeMvQ20Jz+ndcmH6sq3qZan9126S1Aaeczad8mSoLbVrspqXfZZbag/7ZMJNtMfCMU6sgv65qR51o/jUFymPjx/7flsbQuer1f//fLZQJ2zKGPO19JI5ytai87mAip1kH/4T/TRtuWDx0+du8qKDqKJp/denOPt89oU7+QztTQ/tmdsp+E7t8kjXQzTcS++UHnzE8NYRja6nbbYi5EFta2z0ThUR+PT+WjkkkudhmRC56lm1GaXXVM5Y2u85eF06tvwBF72WG/b18Vvj5eiv2yt6N+k/ZJx/lPZDpY1L8ZidfHU45toYl44pRtX0ixDGP5n0XYGQfKpKu/xR0vVkb5It+3FerUrSpPXXHj6K56Jf2zUtCve9ERv53c04Z0Sz3PPPQcDFi9ehE2bNuLhhx8yOwcNOvv9J56E7jDpnzWQZBKZ0UIG+Eh8KW+AFwZaV+6oKXgKdlopHLpaJ5jAx9TVcZZjBV3pa6WR8FGwDFO5X0zXlDT1aF4goTZ4TPVaVYeFdNQIK8ckoZGA6BXLevbTpMgmUFOZ3s/pWITIK541k57ig6ApKXrzpZZKNHzkmfRZPNS0AkNzoQf/mlhObbQpiTT0VhBHZxcop7rqS4GYUXw5AeOIZQhsEqgLBmpLvLec1gWGdiZCTEBZ1ry9mOWsgrMPU89C5yJjoiDPnIfkwByjHLFjjdO8btuMTS0bSeJf7QucG9GiczB1reE2f3rQ6+OGPW/BGjaNU+O2dLPnwtPqgqXXoW1YZrINXVGU8ea2j4wRbwUlkSpm2uhqz7YjXRJ/hBYD0ot1O8VYdc7/Wj0cvY3jWEZPp2Tkj5D9M3aR67KrNlmx+w1fiMN5a2WfekQ+6Li1h7a+uTih/YT41MS+NDNEdloX87jL6Jy1k1Z31J9hY7/kl8as8duxi346V5279TnyP5LzdtKUAY0XlAd0yvoXG6CLjkdAvCG6dCRAK1uebXOfuRNBiI6HwxuXQ/+AtbHiGUHeej7CyBL9kY/2z75R39NFxRrUqYCMiOfcFTimQtzJOkqAjL2VHgZkQ7pr8lfuM/0aDyUfZe2AHQN9JMvIzusCiWwtmzL7zOMNpp4iIZuy9oQNzFXf6kMzy8pneLKtNjVm2Rrpgsr3RpO+DOsXFVPwRERXnovOycYv3GAZY/QCZa3eWz7In7XxGFcDdBKP5Be9NqzuKx5qYrlWtiEetBleSg5ka2mXxRavG61rHNwtPrayv2aWtxeHPRtu4dWTDLSZ8dpzaSWaOn1o0XRt2ipr7zV28TtQnytq0/CT255smD643hut+jIM8QwBxQ/RVXS2curJrORYcZrPaEnP+jxxljcXXAnj69SO4n+l/0Y+TBHDF10U0I0sj79GFwwPWIZ9dF1AMO1ynVA/0jfVke6qLdutch9Pc+2/nn7+aERviaf3cqHvfvdJDFi4cIFJPB955OH/SeJpkgVLWkNwq+x2XcwQPOG3TNGKAiQlf55xENiOUaRAQa0bASGUmIirPGTbUfvWYNg22FYgedFY7H47DtOWqav9Om4Ncn80qB8mrLOSMdNVHZuYm32GFwGeaR6soaWlp0fzQ6H9LG/orTYCfNA+o51WHjwlNdtmn1VW25+3T2PTfhoAs0ttidcqZ5tTnW71tv15Q7RyEDgfM16BDQvmnNSOTTzVvpy/GZM5Zi9QGEdv9mvZl2RG52bHY+mmMWugVs613xpKoXenY89T7ZBvhi4s3EUfry7BTUHNe7S1hlR1JSuicXefOu7pfk9YnvQ/B/hhwupYtzx7NPL0j9wktE9/RF/Ld7PDlPUQOBbgo+f8vPa7+xSfxDNPV9XWoTziHupE91i66/YXWJ3V+EUH7TO082yWgWyCpYOliYWxH+af1aNumopO2g7QrktfuNlFax1XO9wWHd8G3pgc+gvItADPrHx4OiS7J1gdsrJgYf4EbKmVD+mUaga8TQ8dNHruVTQypYY8Oy6Z1AVSe5FUY/DsgLW/Kh9Q1oBMSr7Ui61zKKw/Jozv7vb1tq6WHrpl/VBa9BdY+nj2z5yjWVo+iU4sYGDoz502LlTMGaCJhwAfe0J9WEnQUuUsL9WemjW2OVA80I3p0iLAR/43COw3ctZVyLZpzoG9KC7TDC091KbXFnmyYc/V1rXyoG1rf9RMdx/9z+ZYfmndJtc9oUPeuem8RSV7YcacqqljVnryzbRlaenx2OO9jR3FQ9Ngj2XPNgX98WSC6wYejW0Z7SKHD4H66e0cjxb0lnh6dz2/851vY8C2bUFISUnG449/3ew855xBHzDxFMMsA63wS9GtoHQJf4Ab9pitY+vZslawPCX2GG0NgScgtm22ZRisdSlZT1jFP3S/Jzxa2D5ML0b4VLbneRzbMDwz/zz6BPYZWouAUjTSNKDAHo09XnbTXcc8Htm2tW745sHww8Lbp3UZDiMvgTIetE9JocZi+7DlLDROa3isQdf47djtmAIOoacBOuQcbFmWCsirHfehMm1lxzufvgA7/kPHZrc9Othtb19vsG0EwP/dvFAdU/UQdNPclummSbcu61jPAPtwHD6GYx0e3bppZml7+HGLgIOUlQzwmLsJ/fH4aHZ01enZlkV33W7+q2w3b20/tt8j6/cPaOzdMqh9li7e+Vvdt3Swx7Vu/YKhuaFxdzBpYff3bE9QG+KLDV68vm2/tv8j0XOsDn0b/NPFZysB+idZ8eRDZbrtp/VbqqP9asMGnzb109+eF797ygTrBPTX9GWOW3RFR4H2rGzZdf45BGrC6K/+qq4Hs23HZNHdXnd975jOrX8mnt3nZs9Zfy29uJvo5o+F6hjaGBrbu4ldcYPKsDmvstkMgCUI8babFx70s4+b2P3q06vr2Xnbrreff7wCgqln+WX5rrFZ6dE/a6ssb/jHLO05Wv6bJgjbh9de/8PhdD3y3Iiu8ipjj5njPTcMVEY89WTbJvC2D3usux2rkz37s/sCbZgDPcZgCtm6nj4fDu+cjkb0lnged9ynzPrPfvZTDEhMTEBlZYW9/cmdZv7tB0o83z+sovR+7IOivyraxwmPH2/LEyaeWoq2nmHvHUfWtXW6Dcihxw5XysPL9Ka4h2+/PWzfh6K3cv9Nm0cj+KfHttbfCYfWdfig+LjpevTxtdueHWqTugP6Q8u93faheHsb142jj5YO7wXvzPd3liuLt/dNHwfeTc77I/573Twybuhuw/JUCeKhtGLhQ7aPhNdGd1vCkX0dineTH4sj2z268MHP7+3o+9/gnfh0rOGdEs/f//4ZDCgpKYbP14qf/OTHZud55537sSWeDv0LR77dzgvCeqLncQcHB4ePD+8tUHNwcHD434EZSWDdxUQORz/eaart3/72VwyortY7zIBf/eqXZuf555/nEk+H94T+91p1BwcHh76N7iDVwcHhaIDTaYdjCe90x/Pf/34eA2pq9GJh4Ne//pXZ6e54OrxXuMTTwcHBwcHBweHt4RJPh2MJ75R4vvDCEAyordWXgICnn/6N2enueDq8V7jE08HBweGDwwWmDg5HLzz9djGTw7GAwxNPJZ1e4jlkyH8woL5en5d1iaeDg4ODg4ODg4ODg4PD+8M7JZ7mjmdDQ70p4BJPBwcHBwcHBwcHBwcHh/cDl3g6ODg4ODg4ODg4ODg4fKhwiaeDg4ODg4ODg4ODg4PDh4reXi7kfU7lxRdfcImng4ODg4ODg4ODg4ODwwfD/zDx1Fu5PPAAYdeP7NTBwcHBwcHBwcHBwcHh6AX/8H8nOrjeweU7JZ4vvfTie008bbIpdASWFi7xdHBwcHBwcHBwcHBwOLZg80Plhu0B+NraTP74ARPP7qTTa9wmoOrUT+jbRA4ODg4ODg4ODg4ODg5HP3SXszvpFFrb/CZ/fNvEU9/xVMbaW+Kp/U1NjWhv14dvO9GhJTNZCx8621qIZgcHBwcHBwcHBwcHB4djBsoDW9HpU07oQ4ffjzZfm8kfKysrjkg8X3zxPSae/o4O+LneSjQH0BKAt91zv8+hX0F8dehfcLzrv+ipew4ODn0LTk+PDvS0uQ79B45//QviVVsPKFf0telOqBLP3l4u9B4TTzXWRFQQIXWd2HKgEzu53F7fiSBi22HYymMOfRy1AfR2zKHv47/gX5BDn0BvvHH4H8PZNYf/FZwc9U/0sAG92WGHvo2evOzt+EcJJ0PvDTsI5X7bazqR09iJWn8n2pkvvu/Es7mpAc1+P+q5vrOmA/fNCsV5I7bh6kkRuHxCaK+4dLxDv8K4EId+hst68s6sa3k47PFLHPoEuvjn8cbhQ0GXbjg4vB94+io9Ncteyjj0aRgbID6ODSYvCS0d+i7Eoy69C/DOQ2/lPwqM282x7ObS2/cxjqVPQ3QJw0XjI3DF0DV4YV0k9jFf1OzXiory3hPPurpadHR04De/+fUhiecTTzxu9jc11qPF34YGrkc3duDrSxNx3eQw3DkvHrfNisbtM6Nw+yzCLKPNvttmxRCxgaVD34HHk1jcNC0St8wgr2bH4taZMQ79CLfMjOYy2izFQ4d+ggDfLHrnrcMHBO2bo6/DB4F09abpkbhxWoTRWflLI1cO/QLi380zouxyepRDP4Hxj+Sf9E3bRu+oj5aXHz1unRnJ8TBO5tKTp97KHesQbW6SzZydgLsn7cSILXHY7+9AK3PG8vLSXhLPF9498WxsbICv3YeWjnbs53ZqUweiGjoQw2Usl3GHQftiHPo04si7oNImhOzrQEKz3XboB2jsXm4tbjD803ZM/ZE8dui72FbWhMjaDsRT92LFU4cPDNFRtiy4uh07ylsMbaUbWjo4vCdIXgIyI9saVNpo9TNgc83Soc9CvEpskQ2QjW3u2ufQfyDdCz/QgR0VrSaX6K2MQ99DNHVNSCTPShrb0dDWhnbmixUVZe8v8Wxg4uln4tne0Qa/vxW+1ma0EX6hpYloPAxNaGtpho/Q0qFvwPCjtaVrWVFagroDNejwt5ltv0Ofh8cnLcvJv1ryT9utzU2Gr28Hj/8OHy9kN7UU7xpod/0+2tN34Z3DewTp2E561uyrxp6KckNbY/sC+uLg8F4gWZIcHazZb/RU+/w+e6ynLXboYwjwSPFMLXlXWV7WZReMf3Tou+jBp/Y2n+GfdK/Ltn8skC3w0Ntxh24wBm1pNWihDjYTLXq7LfPHsl6n2jLxrK09iPb29l4TT+3Xdz7b2lqZdPrQSoOsRLS+vh6N3N/YUEfUoikArWuf6jj0PejudUODUI/CokLsY5DW1NRk+FnPfQ59HAE+iYeFheTf/n3m5V/afzivHfoWLN8s8gvyqXv70Gh45+zl/wKio2yZXt9eXFzU5ad60t3B4d1g5agRVXurUEQf2eUbnY/s0+jmXROqqgK8M/tpBwLHHfoqbEwqPjU3NxvdKywsYLza2GXHj6zzYUNjYv+BsTm8PeqNjjWhrqEZtaRZPXnY2Npq8sey8t7ueL6A/wcVN0ISxwxHEQAAAABJRU5ErkJggg==)"
      ],
      "id": "LKWBWU-wEmhp"
    },
    {
      "cell_type": "code",
      "metadata": {
        "colab": {
          "base_uri": "https://localhost:8080/"
        },
        "id": "WB1mmWgzAv95",
        "outputId": "98082e74-a618-4762-e5cf-39637fde113e"
      },
      "source": [
        "#Part-of-speech tagging :  determining the word class of a token\n",
        "#To access the results of POS tagging, let’s loop over the Doc object doc and print each Token and its coarse and fine-grained part-of-speech tags\n",
        "for token in doc:\n",
        "    print(token.lemma_,token.pos_,token.tag_,token.dep_,token.shape_,token.is_alpha,token.is_stop) "
      ],
      "id": "WB1mmWgzAv95",
      "execution_count": 83,
      "outputs": [
        {
          "output_type": "stream",
          "text": [
            "perhaps ADV RB advmod Xxxxx True True\n",
            "one NUM CD nsubj xxx True True\n",
            "of ADP IN prep xx True True\n",
            "the DET DT det xxx True True\n",
            "most ADV RBS advmod xxxx True True\n",
            "significant ADJ JJ amod xxxx True False\n",
            "advance NOUN NNS pobj xxxx True False\n",
            "make VERB VBN acl xxxx True True\n",
            "by ADP IN agent xx True True\n",
            "arabic ADJ JJ amod Xxxxx True False\n",
            "mathematic NOUN NNS pobj xxxx True False\n",
            "begin VERB VBD ROOT xxxx True False\n",
            "at ADP IN prep xx True True\n",
            "this DET DT det xxxx True True\n",
            "time NOUN NN pobj xxxx True False\n",
            "with ADP IN prep xxxx True True\n",
            "the DET DT det xxx True True\n",
            "work NOUN NN pobj xxxx True False\n",
            "of ADP IN prep xx True True\n",
            "al PROPN NNP compound xx True False\n",
            "- PUNCT HYPH punct - False False\n",
            "Khwarizmi PROPN NNP pobj Xxxxx True False\n",
            ", PUNCT , punct , False False\n",
            "namely ADV RB advmod xxxx True True\n",
            "\n",
            " SPACE _SP  \n",
            " False False\n",
            "the DET DT det xxx True True\n",
            "beginning NOUN NNS npadvmod xxxx True False\n",
            "of ADP IN prep xx True True\n",
            "algebra NOUN NN pobj xxxx True False\n",
            ". PUNCT . punct . False False\n",
            "-PRON- PRON PRP nsubj Xx True True\n",
            "be AUX VBZ ROOT xx True True\n",
            "important ADJ JJ acomp xxxx True False\n",
            "to PART TO aux xx True True\n",
            "understand VERB VB xcomp xxxx True False\n",
            "just ADV RB advmod xxxx True True\n",
            "how ADV WRB advmod xxx True True\n",
            "significant ADJ JJ acomp xxxx True False\n",
            "this DET DT det xxxx True True\n",
            "new ADJ JJ amod xxx True False\n",
            "idea NOUN NN nsubj xxxx True False\n",
            "be AUX VBD ccomp xxx True True\n",
            ". PUNCT . punct . False False\n",
            "-PRON- PRON PRP nsubj Xx True True\n",
            "be AUX VBD ROOT xxx True True\n",
            "a DET DT det x True True\n",
            "revolutionary ADJ JJ amod xxxx True False\n",
            "move NOUN NN attr xxxx True True\n",
            "away ADV RB advmod xxxx True False\n",
            "from ADP IN prep xxxx True True\n",
            "\n",
            " SPACE _SP  \n",
            " False False\n",
            "the DET DT det xxx True True\n",
            "greek ADJ JJ amod Xxxxx True False\n",
            "concept NOUN NN pobj xxxx True False\n",
            "of ADP IN prep xx True True\n",
            "mathematic NOUN NNS pobj xxxx True False\n",
            "which DET WDT nsubj xxxx True True\n",
            "be AUX VBD relcl xxx True True\n",
            "essentially ADV RB advmod xxxx True False\n",
            "geometry NOUN NN attr xxxx True False\n",
            ". PUNCT . punct . False False\n",
            "Algebra PROPN NNP nsubj Xxxxx True False\n",
            "be AUX VBD ROOT xxx True True\n",
            "a DET DT det x True True\n",
            "unifying ADJ JJ amod xxxx True False\n",
            "theory NOUN NN attr xxxx True False\n",
            "which DET WDT nsubj xxxx True True\n",
            "allow VERB VBD relcl xxxx True False\n",
            "rational ADJ JJ amod xxxx True False\n",
            "\n",
            " SPACE _SP  \n",
            " False False\n",
            "number NOUN NNS dobj xxxx True False\n",
            ", PUNCT , punct , False False\n",
            "irrational ADJ JJ amod xxxx True False\n",
            "number NOUN NNS conj xxxx True False\n",
            ", PUNCT , punct , False False\n",
            "geometrical ADJ JJ amod xxxx True False\n",
            "magnitude NOUN NNS conj xxxx True False\n",
            ", PUNCT , punct , False False\n",
            "etc X FW dep xxx True False\n",
            ". X FW conj . False False\n",
            ", PUNCT , punct , False False\n",
            "to ADP IN prep xx True True\n",
            "all DET DT pobj xxx True True\n",
            "be AUX VB auxpass xx True True\n",
            "treat VERB VBN ccomp xxxx True False\n",
            "as SCONJ IN prep xx True True\n",
            "\" PUNCT `` punct \" False False\n",
            "algebraic ADJ JJ compound xxxx True False\n",
            "object NOUN NNS pobj xxxx True False\n",
            "\" PUNCT '' punct \" False False\n",
            ". PUNCT . punct . False False\n",
            "-PRON- PRON PRP nsubj Xx True True\n",
            "give VERB VBD ROOT xxxx True False\n",
            "mathematic NOUN NNS dative xxxx True False\n",
            "a DET DT det x True True\n",
            "whole ADJ JJ amod xxxx True True\n",
            "new ADJ JJ amod xxx True False\n",
            "\n",
            " SPACE _SP  \n",
            " False False\n",
            "development NOUN NN compound xxxx True False\n",
            "path NOUN NN dobj xxxx True False\n",
            "so ADV RB advmod xx True True\n",
            "much ADV RB advmod xxxx True True\n",
            "broad ADJ JJR amod xxxx True False\n",
            "in ADP IN prep xx True True\n",
            "concept NOUN NN pobj xxxx True False\n",
            "to ADP IN prep xx True True\n",
            "that DET DT pobj xxxx True True\n",
            "which DET WDT nsubj xxxx True True\n",
            "have AUX VBD aux xxx True True\n",
            "exist VERB VBN relcl xxxx True False\n",
            "before ADV RB advmod xxxx True True\n",
            ", PUNCT , punct , False False\n",
            "and CCONJ CC cc xxx True True\n",
            "provide VERB VBD conj xxxx True False\n",
            "a DET DT det x True True\n",
            "vehicle NOUN NN dobj xxxx True False\n",
            "for ADP IN prep xxx True True\n",
            "future ADJ JJ amod xxxx True False\n",
            "development NOUN NN pobj xxxx True False\n",
            "of ADP IN prep xx True True\n",
            "the DET DT det xxx True True\n",
            "\n",
            " SPACE _SP  \n",
            " False False\n",
            "subject NOUN NN pobj xxxx True False\n",
            ". PUNCT . punct . False False\n",
            "another DET DT det Xxxxx True True\n",
            "important ADJ JJ amod xxxx True False\n",
            "aspect NOUN NN nsubj xxxx True False\n",
            "of ADP IN prep xx True True\n",
            "the DET DT det xxx True True\n",
            "introduction NOUN NN pobj xxxx True False\n",
            "of ADP IN prep xx True True\n",
            "algebraic ADJ JJ compound xxxx True False\n",
            "idea NOUN NNS pobj xxxx True False\n",
            "be AUX VBD ROOT xxx True True\n",
            "that SCONJ IN mark xxxx True True\n",
            "-PRON- PRON PRP nsubj xx True True\n",
            "allow VERB VBD ccomp xxxx True False\n",
            "mathematic NOUN NNS nsubjpass xxxx True False\n",
            "to PART TO aux xx True True\n",
            "be AUX VB auxpass xx True True\n",
            "apply VERB VBN ccomp xxxx True False\n",
            "to ADP IN prep xx True True\n",
            "-PRON- PRON PRP pobj xxxx True True\n",
            "in ADP IN prep xx True True\n",
            "a DET DT det x True True\n",
            "\n",
            " SPACE _SP  \n",
            " False False\n",
            "way NOUN NN pobj xxx True False\n",
            "which DET WDT nsubj xxxx True True\n",
            "have AUX VBD aux xxx True True\n",
            "not PART RB neg xxx True True\n",
            "happen VERB VBN relcl xxxx True False\n",
            "before ADV RB advmod xxxx True True\n",
            ". PUNCT . punct . False False\n"
          ],
          "name": "stdout"
        }
      ]
    },
    {
      "cell_type": "code",
      "metadata": {
        "colab": {
          "base_uri": "https://localhost:8080/"
        },
        "id": "AwBqx7uOFxdd",
        "outputId": "fb5cef12-08d3-4d12-f0d0-96d5413e7cd5"
      },
      "source": [
        "# A word of speech defines its function within a sentence\n",
        "for word in doc:\n",
        "  print(word.text,word.pos_)"
      ],
      "id": "AwBqx7uOFxdd",
      "execution_count": 84,
      "outputs": [
        {
          "output_type": "stream",
          "text": [
            "Perhaps ADV\n",
            "one NUM\n",
            "of ADP\n",
            "the DET\n",
            "most ADV\n",
            "significant ADJ\n",
            "advances NOUN\n",
            "made VERB\n",
            "by ADP\n",
            "Arabic ADJ\n",
            "mathematics NOUN\n",
            "began VERB\n",
            "at ADP\n",
            "this DET\n",
            "time NOUN\n",
            "with ADP\n",
            "the DET\n",
            "work NOUN\n",
            "of ADP\n",
            "al PROPN\n",
            "- PUNCT\n",
            "Khwarizmi PROPN\n",
            ", PUNCT\n",
            "namely ADV\n",
            "\n",
            " SPACE\n",
            "the DET\n",
            "beginnings NOUN\n",
            "of ADP\n",
            "algebra NOUN\n",
            ". PUNCT\n",
            "It PRON\n",
            "is AUX\n",
            "important ADJ\n",
            "to PART\n",
            "understand VERB\n",
            "just ADV\n",
            "how ADV\n",
            "significant ADJ\n",
            "this DET\n",
            "new ADJ\n",
            "idea NOUN\n",
            "was AUX\n",
            ". PUNCT\n",
            "It PRON\n",
            "was AUX\n",
            "a DET\n",
            "revolutionary ADJ\n",
            "move NOUN\n",
            "away ADV\n",
            "from ADP\n",
            "\n",
            " SPACE\n",
            "the DET\n",
            "Greek ADJ\n",
            "concept NOUN\n",
            "of ADP\n",
            "mathematics NOUN\n",
            "which DET\n",
            "was AUX\n",
            "essentially ADV\n",
            "geometry NOUN\n",
            ". PUNCT\n",
            "Algebra PROPN\n",
            "was AUX\n",
            "a DET\n",
            "unifying ADJ\n",
            "theory NOUN\n",
            "which DET\n",
            "allowed VERB\n",
            "rational ADJ\n",
            "\n",
            " SPACE\n",
            "numbers NOUN\n",
            ", PUNCT\n",
            "irrational ADJ\n",
            "numbers NOUN\n",
            ", PUNCT\n",
            "geometrical ADJ\n",
            "magnitudes NOUN\n",
            ", PUNCT\n",
            "etc X\n",
            ". X\n",
            ", PUNCT\n",
            "to ADP\n",
            "all DET\n",
            "be AUX\n",
            "treated VERB\n",
            "as SCONJ\n",
            "\" PUNCT\n",
            "algebraic ADJ\n",
            "objects NOUN\n",
            "\" PUNCT\n",
            ". PUNCT\n",
            "It PRON\n",
            "gave VERB\n",
            "mathematics NOUN\n",
            "a DET\n",
            "whole ADJ\n",
            "new ADJ\n",
            "\n",
            " SPACE\n",
            "development NOUN\n",
            "path NOUN\n",
            "so ADV\n",
            "much ADV\n",
            "broader ADJ\n",
            "in ADP\n",
            "concept NOUN\n",
            "to ADP\n",
            "that DET\n",
            "which DET\n",
            "had AUX\n",
            "existed VERB\n",
            "before ADV\n",
            ", PUNCT\n",
            "and CCONJ\n",
            "provided VERB\n",
            "a DET\n",
            "vehicle NOUN\n",
            "for ADP\n",
            "future ADJ\n",
            "development NOUN\n",
            "of ADP\n",
            "the DET\n",
            "\n",
            " SPACE\n",
            "subject NOUN\n",
            ". PUNCT\n",
            "Another DET\n",
            "important ADJ\n",
            "aspect NOUN\n",
            "of ADP\n",
            "the DET\n",
            "introduction NOUN\n",
            "of ADP\n",
            "algebraic ADJ\n",
            "ideas NOUN\n",
            "was AUX\n",
            "that SCONJ\n",
            "it PRON\n",
            "allowed VERB\n",
            "mathematics NOUN\n",
            "to PART\n",
            "be AUX\n",
            "applied VERB\n",
            "to ADP\n",
            "itself PRON\n",
            "in ADP\n",
            "a DET\n",
            "\n",
            " SPACE\n",
            "way NOUN\n",
            "which DET\n",
            "had AUX\n",
            "not PART\n",
            "happened VERB\n",
            "before ADV\n",
            ". PUNCT\n"
          ],
          "name": "stdout"
        }
      ]
    },
    {
      "cell_type": "markdown",
      "metadata": {
        "id": "-WEVgbB0GfLV"
      },
      "source": [
        "# Lemmatization "
      ],
      "id": "-WEVgbB0GfLV"
    },
    {
      "cell_type": "code",
      "metadata": {
        "colab": {
          "base_uri": "https://localhost:8080/"
        },
        "id": "vfY1qzfsGpU7",
        "outputId": "3d62f1e6-8232-410c-c2fc-051b9a8f162b"
      },
      "source": [
        "for word in filter_text:\n",
        "  print(word.text+'=====>',word.lemma_)"
      ],
      "id": "vfY1qzfsGpU7",
      "execution_count": 85,
      "outputs": [
        {
          "output_type": "stream",
          "text": [
            "significant=====> significant\n",
            "advances=====> advance\n",
            "Arabic=====> arabic\n",
            "mathematics=====> mathematic\n",
            "began=====> begin\n",
            "time=====> time\n",
            "work=====> work\n",
            "al=====> al\n",
            "-=====> -\n",
            "Khwarizmi=====> Khwarizmi\n",
            ",=====> ,\n",
            "\n",
            "=====> \n",
            "\n",
            "beginnings=====> beginning\n",
            "algebra=====> algebra\n",
            ".=====> .\n",
            "important=====> important\n",
            "understand=====> understand\n",
            "significant=====> significant\n",
            "new=====> new\n",
            "idea=====> idea\n",
            ".=====> .\n",
            "revolutionary=====> revolutionary\n",
            "away=====> away\n",
            "\n",
            "=====> \n",
            "\n",
            "Greek=====> greek\n",
            "concept=====> concept\n",
            "mathematics=====> mathematic\n",
            "essentially=====> essentially\n",
            "geometry=====> geometry\n",
            ".=====> .\n",
            "Algebra=====> Algebra\n",
            "unifying=====> unifying\n",
            "theory=====> theory\n",
            "allowed=====> allow\n",
            "rational=====> rational\n",
            "\n",
            "=====> \n",
            "\n",
            "numbers=====> number\n",
            ",=====> ,\n",
            "irrational=====> irrational\n",
            "numbers=====> number\n",
            ",=====> ,\n",
            "geometrical=====> geometrical\n",
            "magnitudes=====> magnitude\n",
            ",=====> ,\n",
            "etc=====> etc\n",
            ".=====> .\n",
            ",=====> ,\n",
            "treated=====> treat\n",
            "\"=====> \"\n",
            "algebraic=====> algebraic\n",
            "objects=====> object\n",
            "\"=====> \"\n",
            ".=====> .\n",
            "gave=====> give\n",
            "mathematics=====> mathematic\n",
            "new=====> new\n",
            "\n",
            "=====> \n",
            "\n",
            "development=====> development\n",
            "path=====> path\n",
            "broader=====> broad\n",
            "concept=====> concept\n",
            "existed=====> exist\n",
            ",=====> ,\n",
            "provided=====> provide\n",
            "vehicle=====> vehicle\n",
            "future=====> future\n",
            "development=====> development\n",
            "\n",
            "=====> \n",
            "\n",
            "subject=====> subject\n",
            ".=====> .\n",
            "important=====> important\n",
            "aspect=====> aspect\n",
            "introduction=====> introduction\n",
            "algebraic=====> algebraic\n",
            "ideas=====> idea\n",
            "allowed=====> allow\n",
            "mathematics=====> mathematic\n",
            "applied=====> apply\n",
            "\n",
            "=====> \n",
            "\n",
            "way=====> way\n",
            "happened=====> happen\n",
            ".=====> .\n"
          ],
          "name": "stdout"
        }
      ]
    },
    {
      "cell_type": "markdown",
      "metadata": {
        "id": "aLbeOZF1Hml9"
      },
      "source": [
        "Named Entity Recognition (NER)"
      ],
      "id": "aLbeOZF1Hml9"
    },
    {
      "cell_type": "code",
      "metadata": {
        "colab": {
          "base_uri": "https://localhost:8080/"
        },
        "id": "vSf3BJUoHzn9",
        "outputId": "23934593-9529-453d-dc2c-a1e20dc67e31"
      },
      "source": [
        "for word in doc.ents :\n",
        "  print(word.text , word.label_)"
      ],
      "id": "vSf3BJUoHzn9",
      "execution_count": 86,
      "outputs": [
        {
          "output_type": "stream",
          "text": [
            "Arabic NORP\n",
            "al-Khwarizmi PERSON\n",
            "Greek NORP\n",
            "Algebra ORG\n"
          ],
          "name": "stdout"
        }
      ]
    },
    {
      "cell_type": "markdown",
      "metadata": {
        "id": "nr2xz_MBLxUl"
      },
      "source": [
        "# visualazing  the dipendency parse"
      ],
      "id": "nr2xz_MBLxUl"
    },
    {
      "cell_type": "code",
      "metadata": {
        "id": "9pU_Ib6pJctY"
      },
      "source": [
        ""
      ],
      "id": "9pU_Ib6pJctY",
      "execution_count": 86,
      "outputs": []
    }
  ]
}