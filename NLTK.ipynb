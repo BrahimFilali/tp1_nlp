{
  "nbformat": 4,
  "nbformat_minor": 0,
  "metadata": {
    "kernelspec": {
      "display_name": "Python 3",
      "language": "python",
      "name": "python3"
    },
    "language_info": {
      "codemirror_mode": {
        "name": "ipython",
        "version": 3
      },
      "file_extension": ".py",
      "mimetype": "text/x-python",
      "name": "python",
      "nbconvert_exporter": "python",
      "pygments_lexer": "ipython3",
      "version": "3.8.8"
    },
    "colab": {
      "name": "NLTK.ipynb",
      "provenance": [],
      "collapsed_sections": [
        "T4FliuXfMlmV",
        "xcpa31KYMlmb",
        "Oe9CYpCfMlmd",
        "0fCx5-5zMlmp"
      ]
    }
  },
  "cells": [
    {
      "cell_type": "markdown",
      "metadata": {
        "id": "ZkvJozzjMll0"
      },
      "source": [
        "#  TP1:NLTK - Natural Language Toolkit"
      ]
    },
    {
      "cell_type": "markdown",
      "metadata": {
        "id": "HJLRcD8iMll-"
      },
      "source": [
        "### Importing libraries"
      ]
    },
    {
      "cell_type": "code",
      "metadata": {
        "colab": {
          "base_uri": "https://localhost:8080/"
        },
        "id": "ghTQpSiDMll_",
        "outputId": "a0be9826-dd88-4cd8-c650-d3e9ce00954e"
      },
      "source": [
        "!pip install nltk"
      ],
      "execution_count": 202,
      "outputs": [
        {
          "output_type": "stream",
          "text": [
            "Requirement already satisfied: nltk in /usr/local/lib/python3.7/dist-packages (3.2.5)\n",
            "Requirement already satisfied: six in /usr/local/lib/python3.7/dist-packages (from nltk) (1.15.0)\n"
          ],
          "name": "stdout"
        }
      ]
    },
    {
      "cell_type": "code",
      "metadata": {
        "id": "iVwsUT2TMlmD"
      },
      "source": [
        "import nltk, string\n"
      ],
      "execution_count": 203,
      "outputs": []
    },
    {
      "cell_type": "markdown",
      "metadata": {
        "id": "bMuda13oMlmE"
      },
      "source": [
        "### importing  data"
      ]
    },
    {
      "cell_type": "code",
      "metadata": {
        "id": "zQA4j-gWMlmG"
      },
      "source": [
        "english_text = \"\"\"Perhaps one of the most significant advances made by Arabic mathematics began at this time with the work of al-Khwarizmi, namely the beginnings of algebra. It is important to understand just how significant this new idea was. It was a revolutionary move away from the Greek concept of mathematics which was essentially geometry. Algebra was a unifying theory which allowedrational numbers,irrational numbers, geometrical magnitudes, etc., to all be treated as \\\"algebraic objects\\\". It gave mathematics a whole new development path so much broader in concept to that which had existed before, and provided a vehicle for future development of the subject. Another important aspect of the introduction of algebraic ideas was that it allowed mathematics to be applied to itselfin a way which had not happened before.\"\"\""
      ],
      "execution_count": 204,
      "outputs": []
    },
    {
      "cell_type": "code",
      "metadata": {
        "colab": {
          "base_uri": "https://localhost:8080/",
          "height": 120
        },
        "id": "eokU3mwYMlmI",
        "outputId": "410e9c8c-a228-4975-d9cc-95f50190df21"
      },
      "source": [
        "english_text"
      ],
      "execution_count": 205,
      "outputs": [
        {
          "output_type": "execute_result",
          "data": {
            "application/vnd.google.colaboratory.intrinsic+json": {
              "type": "string"
            },
            "text/plain": [
              "'Perhaps one of the most significant advances made by Arabic mathematics began at this time with the work of al-Khwarizmi, namely the beginnings of algebra. It is important to understand just how significant this new idea was. It was a revolutionary move away from the Greek concept of mathematics which was essentially geometry. Algebra was a unifying theory which allowedrational numbers,irrational numbers, geometrical magnitudes, etc., to all be treated as \"algebraic objects\". It gave mathematics a whole new development path so much broader in concept to that which had existed before, and provided a vehicle for future development of the subject. Another important aspect of the introduction of algebraic ideas was that it allowed mathematics to be applied to itselfin a way which had not happened before.'"
            ]
          },
          "metadata": {
            "tags": []
          },
          "execution_count": 205
        }
      ]
    },
    {
      "cell_type": "code",
      "metadata": {
        "id": "auyGXed_MlmJ"
      },
      "source": [
        "arabic_text =\"\"\"ربما كانت أحد أهم التطورات التي قامت بها الرياضيات العربية التي بدأت في هذا الوقت بعمل الخوارزمي وهي بدايات الجبر, ومن المهم فهم كيف كانت هذه الفكرة الجديدة مهمة, فقد كانت خطوة نورية بعيدا عن المفهوم اليوناني للرياضيات التي هي في جوهرها هندسة, الجبر کان نظرية موحدة تتيح الأعداد الكسرية والأعداد اللا كسرية, والمقادير الهندسية وغيرها, أن تتعامل على أنها أجسام جبرية, وأعطت الرياضيات ككل مسارا جديدا للتطور بمفهوم أوسع بكثير من الذي كان موجودا من قبل, وقم وسيلة للتنمية في هذا الموضوع مستقبلا. وجانب آخر مهم لإدخال أفكار الجبر وهو أنه سمح بتطبيق الرياضيات على نفسها بطريقة لم تحدث من قبل\"\"\""
      ],
      "execution_count": 206,
      "outputs": []
    },
    {
      "cell_type": "code",
      "metadata": {
        "colab": {
          "base_uri": "https://localhost:8080/",
          "height": 69
        },
        "id": "816aQleXMlmL",
        "outputId": "ca108c70-f897-4d63-d0a0-a3f088656919"
      },
      "source": [
        "arabic_text"
      ],
      "execution_count": 207,
      "outputs": [
        {
          "output_type": "execute_result",
          "data": {
            "application/vnd.google.colaboratory.intrinsic+json": {
              "type": "string"
            },
            "text/plain": [
              "'ربما كانت أحد أهم التطورات التي قامت بها الرياضيات العربية التي بدأت في هذا الوقت بعمل الخوارزمي وهي بدايات الجبر, ومن المهم فهم كيف كانت هذه الفكرة الجديدة مهمة, فقد كانت خطوة نورية بعيدا عن المفهوم اليوناني للرياضيات التي هي في جوهرها هندسة, الجبر کان نظرية موحدة تتيح الأعداد الكسرية والأعداد اللا كسرية, والمقادير الهندسية وغيرها, أن تتعامل على أنها أجسام جبرية, وأعطت الرياضيات ككل مسارا جديدا للتطور بمفهوم أوسع بكثير من الذي كان موجودا من قبل, وقم وسيلة للتنمية في هذا الموضوع مستقبلا. وجانب آخر مهم لإدخال أفكار الجبر وهو أنه سمح بتطبيق الرياضيات على نفسها بطريقة لم تحدث من قبل'"
            ]
          },
          "metadata": {
            "tags": []
          },
          "execution_count": 207
        }
      ]
    },
    {
      "cell_type": "markdown",
      "metadata": {
        "id": "7dsjuwQWMlmN"
      },
      "source": [
        "### cleaning data "
      ]
    },
    {
      "cell_type": "markdown",
      "metadata": {
        "id": "ty6IM2onMlmO"
      },
      "source": [
        "#### Lower Case"
      ]
    },
    {
      "cell_type": "code",
      "metadata": {
        "id": "j8NQpnRFMlmP"
      },
      "source": [
        "english_text= english_text.lower()"
      ],
      "execution_count": 208,
      "outputs": []
    },
    {
      "cell_type": "markdown",
      "metadata": {
        "id": "UgtC5hQIMlmQ"
      },
      "source": [
        "#### Eliminate Ponctuation : this step is not important becouse not change our content  "
      ]
    },
    {
      "cell_type": "code",
      "metadata": {
        "id": "oC4wknu3MlmR"
      },
      "source": [
        "#english_text_clear = ''.join([x for x in english_text if x not in string.punctuation])\n",
        "#arabic_text_clear = ''.join([x for x in arabic_text if x not in string.punctuation])"
      ],
      "execution_count": 209,
      "outputs": []
    },
    {
      "cell_type": "code",
      "metadata": {
        "id": "_-3x-0qwMlmS"
      },
      "source": [
        "#print(english_text_clear)\n",
        "#print(arabic_text_clear)"
      ],
      "execution_count": 210,
      "outputs": []
    },
    {
      "cell_type": "markdown",
      "metadata": {
        "id": "JDM3XfKlMlmT"
      },
      "source": [
        "###  step Tokinization"
      ]
    },
    {
      "cell_type": "code",
      "metadata": {
        "id": "0jAcmdcxMlmT"
      },
      "source": [
        "from nltk.tokenize import sent_tokenize, word_tokenize"
      ],
      "execution_count": 211,
      "outputs": []
    },
    {
      "cell_type": "markdown",
      "metadata": {
        "id": "sm-ioabMMlmT"
      },
      "source": [
        "#### Tokenizing by word"
      ]
    },
    {
      "cell_type": "code",
      "metadata": {
        "colab": {
          "base_uri": "https://localhost:8080/"
        },
        "id": "hbNdRqB3M8fG",
        "outputId": "c2d54c6e-98b3-47b4-afe4-aff660430738"
      },
      "source": [
        "nltk.download('punkt')"
      ],
      "execution_count": 212,
      "outputs": [
        {
          "output_type": "stream",
          "text": [
            "[nltk_data] Downloading package punkt to /root/nltk_data...\n",
            "[nltk_data]   Package punkt is already up-to-date!\n"
          ],
          "name": "stdout"
        },
        {
          "output_type": "execute_result",
          "data": {
            "text/plain": [
              "True"
            ]
          },
          "metadata": {
            "tags": []
          },
          "execution_count": 212
        }
      ]
    },
    {
      "cell_type": "code",
      "metadata": {
        "id": "wZRl3pE8MlmU"
      },
      "source": [
        "eng_words =nltk.word_tokenize(english_text)\n",
        "ar_words = nltk.word_tokenize(arabic_text)"
      ],
      "execution_count": 213,
      "outputs": []
    },
    {
      "cell_type": "markdown",
      "metadata": {
        "id": "gWS2KHVzMlmU"
      },
      "source": [
        "# result after tokenize words"
      ]
    },
    {
      "cell_type": "code",
      "metadata": {
        "colab": {
          "base_uri": "https://localhost:8080/"
        },
        "id": "oBkNYe7SMlmV",
        "outputId": "5f823930-db40-4212-8b48-5e50cb6eae37"
      },
      "source": [
        "print(eng_words )\n",
        "print(ar_words)"
      ],
      "execution_count": 214,
      "outputs": [
        {
          "output_type": "stream",
          "text": [
            "['perhaps', 'one', 'of', 'the', 'most', 'significant', 'advances', 'made', 'by', 'arabic', 'mathematics', 'began', 'at', 'this', 'time', 'with', 'the', 'work', 'of', 'al-khwarizmi', ',', 'namely', 'the', 'beginnings', 'of', 'algebra', '.', 'it', 'is', 'important', 'to', 'understand', 'just', 'how', 'significant', 'this', 'new', 'idea', 'was', '.', 'it', 'was', 'a', 'revolutionary', 'move', 'away', 'from', 'the', 'greek', 'concept', 'of', 'mathematics', 'which', 'was', 'essentially', 'geometry', '.', 'algebra', 'was', 'a', 'unifying', 'theory', 'which', 'allowedrational', 'numbers', ',', 'irrational', 'numbers', ',', 'geometrical', 'magnitudes', ',', 'etc.', ',', 'to', 'all', 'be', 'treated', 'as', '``', 'algebraic', 'objects', \"''\", '.', 'it', 'gave', 'mathematics', 'a', 'whole', 'new', 'development', 'path', 'so', 'much', 'broader', 'in', 'concept', 'to', 'that', 'which', 'had', 'existed', 'before', ',', 'and', 'provided', 'a', 'vehicle', 'for', 'future', 'development', 'of', 'the', 'subject', '.', 'another', 'important', 'aspect', 'of', 'the', 'introduction', 'of', 'algebraic', 'ideas', 'was', 'that', 'it', 'allowed', 'mathematics', 'to', 'be', 'applied', 'to', 'itselfin', 'a', 'way', 'which', 'had', 'not', 'happened', 'before', '.']\n",
            "['ربما', 'كانت', 'أحد', 'أهم', 'التطورات', 'التي', 'قامت', 'بها', 'الرياضيات', 'العربية', 'التي', 'بدأت', 'في', 'هذا', 'الوقت', 'بعمل', 'الخوارزمي', 'وهي', 'بدايات', 'الجبر', ',', 'ومن', 'المهم', 'فهم', 'كيف', 'كانت', 'هذه', 'الفكرة', 'الجديدة', 'مهمة', ',', 'فقد', 'كانت', 'خطوة', 'نورية', 'بعيدا', 'عن', 'المفهوم', 'اليوناني', 'للرياضيات', 'التي', 'هي', 'في', 'جوهرها', 'هندسة', ',', 'الجبر', 'کان', 'نظرية', 'موحدة', 'تتيح', 'الأعداد', 'الكسرية', 'والأعداد', 'اللا', 'كسرية', ',', 'والمقادير', 'الهندسية', 'وغيرها', ',', 'أن', 'تتعامل', 'على', 'أنها', 'أجسام', 'جبرية', ',', 'وأعطت', 'الرياضيات', 'ككل', 'مسارا', 'جديدا', 'للتطور', 'بمفهوم', 'أوسع', 'بكثير', 'من', 'الذي', 'كان', 'موجودا', 'من', 'قبل', ',', 'وقم', 'وسيلة', 'للتنمية', 'في', 'هذا', 'الموضوع', 'مستقبلا', '.', 'وجانب', 'آخر', 'مهم', 'لإدخال', 'أفكار', 'الجبر', 'وهو', 'أنه', 'سمح', 'بتطبيق', 'الرياضيات', 'على', 'نفسها', 'بطريقة', 'لم', 'تحدث', 'من', 'قبل']\n"
          ],
          "name": "stdout"
        }
      ]
    },
    {
      "cell_type": "markdown",
      "metadata": {
        "id": "T4FliuXfMlmV"
      },
      "source": [
        "#### Tokenizing by sentence"
      ]
    },
    {
      "cell_type": "code",
      "metadata": {
        "id": "y5kNeMlsMlmW"
      },
      "source": [
        "eng_sent = sent_tokenize(english_text)\n",
        "ar_sent = sent_tokenize(arabic_text)"
      ],
      "execution_count": 215,
      "outputs": []
    },
    {
      "cell_type": "code",
      "metadata": {
        "colab": {
          "base_uri": "https://localhost:8080/"
        },
        "id": "HUctdsCWMlmW",
        "outputId": "e784e38c-fdb6-404c-f1db-7007e6d56ce3"
      },
      "source": [
        "print(eng_sent)"
      ],
      "execution_count": 216,
      "outputs": [
        {
          "output_type": "stream",
          "text": [
            "['perhaps one of the most significant advances made by arabic mathematics began at this time with the work of al-khwarizmi, namely the beginnings of algebra.', 'it is important to understand just how significant this new idea was.', 'it was a revolutionary move away from the greek concept of mathematics which was essentially geometry.', 'algebra was a unifying theory which allowedrational numbers,irrational numbers, geometrical magnitudes, etc., to all be treated as \"algebraic objects\".', 'it gave mathematics a whole new development path so much broader in concept to that which had existed before, and provided a vehicle for future development of the subject.', 'another important aspect of the introduction of algebraic ideas was that it allowed mathematics to be applied to itselfin a way which had not happened before.']\n"
          ],
          "name": "stdout"
        }
      ]
    },
    {
      "cell_type": "code",
      "metadata": {
        "colab": {
          "base_uri": "https://localhost:8080/"
        },
        "id": "5m3aBSoEMlmX",
        "outputId": "858146e4-b371-4e2e-929b-112c64495733"
      },
      "source": [
        "print(ar_sent)"
      ],
      "execution_count": 217,
      "outputs": [
        {
          "output_type": "stream",
          "text": [
            "['ربما كانت أحد أهم التطورات التي قامت بها الرياضيات العربية التي بدأت في هذا الوقت بعمل الخوارزمي وهي بدايات الجبر, ومن المهم فهم كيف كانت هذه الفكرة الجديدة مهمة, فقد كانت خطوة نورية بعيدا عن المفهوم اليوناني للرياضيات التي هي في جوهرها هندسة, الجبر کان نظرية موحدة تتيح الأعداد الكسرية والأعداد اللا كسرية, والمقادير الهندسية وغيرها, أن تتعامل على أنها أجسام جبرية, وأعطت الرياضيات ككل مسارا جديدا للتطور بمفهوم أوسع بكثير من الذي كان موجودا من قبل, وقم وسيلة للتنمية في هذا الموضوع مستقبلا.', 'وجانب آخر مهم لإدخال أفكار الجبر وهو أنه سمح بتطبيق الرياضيات على نفسها بطريقة لم تحدث من قبل']\n"
          ],
          "name": "stdout"
        }
      ]
    },
    {
      "cell_type": "markdown",
      "metadata": {
        "id": "qG1ufGQUMlmY"
      },
      "source": [
        "<B>Tokenizing sentences</b>\n",
        "\n",
        "The same principle can be applied to sentences. Simply change the to sent_tokenize()\n",
        "We have added two sentences to the variable data:\n",
        "        \n",
        "          "
      ]
    },
    {
      "cell_type": "markdown",
      "metadata": {
        "id": "ZN63WA5TMlmY"
      },
      "source": [
        "## Filtering Stop Words"
      ]
    },
    {
      "cell_type": "markdown",
      "metadata": {
        "id": "4ZTg5-1BMlmZ"
      },
      "source": [
        "Stop words are words that we want to ignore, so we filter them out of our text when we’re processing it."
      ]
    },
    {
      "cell_type": "code",
      "metadata": {
        "colab": {
          "base_uri": "https://localhost:8080/"
        },
        "id": "bYVooLS4MlmZ",
        "outputId": "4b7f5f33-2e2f-4847-b5ff-c67442fcd445"
      },
      "source": [
        "nltk.download(\"stopwords\")\n",
        "from nltk.corpus import stopwords"
      ],
      "execution_count": 218,
      "outputs": [
        {
          "output_type": "stream",
          "text": [
            "[nltk_data] Downloading package stopwords to /root/nltk_data...\n",
            "[nltk_data]   Package stopwords is already up-to-date!\n"
          ],
          "name": "stdout"
        }
      ]
    },
    {
      "cell_type": "code",
      "metadata": {
        "id": "wf_3EAv9MlmZ"
      },
      "source": [
        "stop_words_eng = set(stopwords.words(\"english\"))\n",
        "stop_words_ar = set(stopwords.words(\"arabic\"))"
      ],
      "execution_count": 219,
      "outputs": []
    },
    {
      "cell_type": "markdown",
      "metadata": {
        "id": "uYE8NW7jMlmZ"
      },
      "source": [
        "<b>export the stop words from our text </b>"
      ]
    },
    {
      "cell_type": "code",
      "metadata": {
        "colab": {
          "base_uri": "https://localhost:8080/"
        },
        "id": "NKAVvRh3Mlma",
        "outputId": "820e48af-9ba0-4fe8-eb9e-121fd0bd8cf2"
      },
      "source": [
        "filter_english_text = []\n",
        "for word in eng_words:\n",
        "    if word.casefold() not in stop_words_eng:\n",
        "        filter_english_text.append(word)\n",
        "\n",
        "filter_english_text"
      ],
      "execution_count": 220,
      "outputs": [
        {
          "output_type": "execute_result",
          "data": {
            "text/plain": [
              "['perhaps',\n",
              " 'one',\n",
              " 'significant',\n",
              " 'advances',\n",
              " 'made',\n",
              " 'arabic',\n",
              " 'mathematics',\n",
              " 'began',\n",
              " 'time',\n",
              " 'work',\n",
              " 'al-khwarizmi',\n",
              " ',',\n",
              " 'namely',\n",
              " 'beginnings',\n",
              " 'algebra',\n",
              " '.',\n",
              " 'important',\n",
              " 'understand',\n",
              " 'significant',\n",
              " 'new',\n",
              " 'idea',\n",
              " '.',\n",
              " 'revolutionary',\n",
              " 'move',\n",
              " 'away',\n",
              " 'greek',\n",
              " 'concept',\n",
              " 'mathematics',\n",
              " 'essentially',\n",
              " 'geometry',\n",
              " '.',\n",
              " 'algebra',\n",
              " 'unifying',\n",
              " 'theory',\n",
              " 'allowedrational',\n",
              " 'numbers',\n",
              " ',',\n",
              " 'irrational',\n",
              " 'numbers',\n",
              " ',',\n",
              " 'geometrical',\n",
              " 'magnitudes',\n",
              " ',',\n",
              " 'etc.',\n",
              " ',',\n",
              " 'treated',\n",
              " '``',\n",
              " 'algebraic',\n",
              " 'objects',\n",
              " \"''\",\n",
              " '.',\n",
              " 'gave',\n",
              " 'mathematics',\n",
              " 'whole',\n",
              " 'new',\n",
              " 'development',\n",
              " 'path',\n",
              " 'much',\n",
              " 'broader',\n",
              " 'concept',\n",
              " 'existed',\n",
              " ',',\n",
              " 'provided',\n",
              " 'vehicle',\n",
              " 'future',\n",
              " 'development',\n",
              " 'subject',\n",
              " '.',\n",
              " 'another',\n",
              " 'important',\n",
              " 'aspect',\n",
              " 'introduction',\n",
              " 'algebraic',\n",
              " 'ideas',\n",
              " 'allowed',\n",
              " 'mathematics',\n",
              " 'applied',\n",
              " 'itselfin',\n",
              " 'way',\n",
              " 'happened',\n",
              " '.']"
            ]
          },
          "metadata": {
            "tags": []
          },
          "execution_count": 220
        }
      ]
    },
    {
      "cell_type": "code",
      "metadata": {
        "colab": {
          "base_uri": "https://localhost:8080/"
        },
        "id": "CT7jHK-vMlmb",
        "outputId": "167f263f-d881-4f1e-e525-581542e7956d"
      },
      "source": [
        "# Arabic Text using List Comprehension\n",
        "filter_arabic_text = [\n",
        "    word for word in ar_words if word not in stop_words_ar\n",
        "]\n",
        "\n",
        "filter_arabic_text"
      ],
      "execution_count": 221,
      "outputs": [
        {
          "output_type": "execute_result",
          "data": {
            "text/plain": [
              "['ربما',\n",
              " 'كانت',\n",
              " 'أحد',\n",
              " 'أهم',\n",
              " 'التطورات',\n",
              " 'قامت',\n",
              " 'الرياضيات',\n",
              " 'العربية',\n",
              " 'بدأت',\n",
              " 'الوقت',\n",
              " 'بعمل',\n",
              " 'الخوارزمي',\n",
              " 'وهي',\n",
              " 'بدايات',\n",
              " 'الجبر',\n",
              " ',',\n",
              " 'المهم',\n",
              " 'فهم',\n",
              " 'كانت',\n",
              " 'الفكرة',\n",
              " 'الجديدة',\n",
              " 'مهمة',\n",
              " ',',\n",
              " 'فقد',\n",
              " 'كانت',\n",
              " 'خطوة',\n",
              " 'نورية',\n",
              " 'بعيدا',\n",
              " 'المفهوم',\n",
              " 'اليوناني',\n",
              " 'للرياضيات',\n",
              " 'جوهرها',\n",
              " 'هندسة',\n",
              " ',',\n",
              " 'الجبر',\n",
              " 'کان',\n",
              " 'نظرية',\n",
              " 'موحدة',\n",
              " 'تتيح',\n",
              " 'الأعداد',\n",
              " 'الكسرية',\n",
              " 'والأعداد',\n",
              " 'اللا',\n",
              " 'كسرية',\n",
              " ',',\n",
              " 'والمقادير',\n",
              " 'الهندسية',\n",
              " 'وغيرها',\n",
              " ',',\n",
              " 'تتعامل',\n",
              " 'أنها',\n",
              " 'أجسام',\n",
              " 'جبرية',\n",
              " ',',\n",
              " 'وأعطت',\n",
              " 'الرياضيات',\n",
              " 'ككل',\n",
              " 'مسارا',\n",
              " 'جديدا',\n",
              " 'للتطور',\n",
              " 'بمفهوم',\n",
              " 'أوسع',\n",
              " 'بكثير',\n",
              " 'كان',\n",
              " 'موجودا',\n",
              " 'قبل',\n",
              " ',',\n",
              " 'وقم',\n",
              " 'وسيلة',\n",
              " 'للتنمية',\n",
              " 'الموضوع',\n",
              " 'مستقبلا',\n",
              " '.',\n",
              " 'وجانب',\n",
              " 'آخر',\n",
              " 'مهم',\n",
              " 'لإدخال',\n",
              " 'أفكار',\n",
              " 'الجبر',\n",
              " 'أنه',\n",
              " 'سمح',\n",
              " 'بتطبيق',\n",
              " 'الرياضيات',\n",
              " 'نفسها',\n",
              " 'بطريقة',\n",
              " 'تحدث',\n",
              " 'قبل']"
            ]
          },
          "metadata": {
            "tags": []
          },
          "execution_count": 221
        }
      ]
    },
    {
      "cell_type": "markdown",
      "metadata": {
        "id": "xcpa31KYMlmb"
      },
      "source": [
        "### Stemming  English Text"
      ]
    },
    {
      "cell_type": "markdown",
      "metadata": {
        "id": "VWCkpECAMlmb"
      },
      "source": [
        "Prerequisite: Introduction to Stemming\n",
        "Stemming is the process of producing morphological variants of a root/base word. Stemming programs are commonly referred to as stemming algorithms or stemmers. A stemming algorithm reduces the words “chocolates”, “chocolatey”, “choco” to the root word, “chocolate” and “retrieval”, “retrieved”, “retrieves” reduce to the stem “retrieve”.\n",
        "\n",
        "Some more example of stemming for root word \"like\" include:<br>\n",
        "\n",
        "-> \"likes\" <br>\n",
        "-> \"liked\"<br>\n",
        "-> \"likely\"<br>\n",
        "-> \"liking\""
      ]
    },
    {
      "cell_type": "code",
      "metadata": {
        "id": "yniQKo_RMlmc"
      },
      "source": [
        "from nltk.stem import PorterStemmer"
      ],
      "execution_count": 222,
      "outputs": []
    },
    {
      "cell_type": "code",
      "metadata": {
        "id": "SNvPyQraMlmc"
      },
      "source": [
        "# you must to Instanciate PorterStemmer Object\n",
        "\n",
        "stem = PorterStemmer()"
      ],
      "execution_count": 223,
      "outputs": []
    },
    {
      "cell_type": "code",
      "metadata": {
        "colab": {
          "base_uri": "https://localhost:8080/"
        },
        "id": "hWfRRr8KMlmc",
        "outputId": "70130cca-10ae-4c2a-a707-3cf215e364b4"
      },
      "source": [
        "english_words_stem = [stem.stem(word) for word in filter_english_text]\n",
        "english_words_stem"
      ],
      "execution_count": 224,
      "outputs": [
        {
          "output_type": "execute_result",
          "data": {
            "text/plain": [
              "['perhap',\n",
              " 'one',\n",
              " 'signific',\n",
              " 'advanc',\n",
              " 'made',\n",
              " 'arab',\n",
              " 'mathemat',\n",
              " 'began',\n",
              " 'time',\n",
              " 'work',\n",
              " 'al-khwarizmi',\n",
              " ',',\n",
              " 'name',\n",
              " 'begin',\n",
              " 'algebra',\n",
              " '.',\n",
              " 'import',\n",
              " 'understand',\n",
              " 'signific',\n",
              " 'new',\n",
              " 'idea',\n",
              " '.',\n",
              " 'revolutionari',\n",
              " 'move',\n",
              " 'away',\n",
              " 'greek',\n",
              " 'concept',\n",
              " 'mathemat',\n",
              " 'essenti',\n",
              " 'geometri',\n",
              " '.',\n",
              " 'algebra',\n",
              " 'unifi',\n",
              " 'theori',\n",
              " 'allowedr',\n",
              " 'number',\n",
              " ',',\n",
              " 'irrat',\n",
              " 'number',\n",
              " ',',\n",
              " 'geometr',\n",
              " 'magnitud',\n",
              " ',',\n",
              " 'etc.',\n",
              " ',',\n",
              " 'treat',\n",
              " '``',\n",
              " 'algebra',\n",
              " 'object',\n",
              " \"''\",\n",
              " '.',\n",
              " 'gave',\n",
              " 'mathemat',\n",
              " 'whole',\n",
              " 'new',\n",
              " 'develop',\n",
              " 'path',\n",
              " 'much',\n",
              " 'broader',\n",
              " 'concept',\n",
              " 'exist',\n",
              " ',',\n",
              " 'provid',\n",
              " 'vehicl',\n",
              " 'futur',\n",
              " 'develop',\n",
              " 'subject',\n",
              " '.',\n",
              " 'anoth',\n",
              " 'import',\n",
              " 'aspect',\n",
              " 'introduct',\n",
              " 'algebra',\n",
              " 'idea',\n",
              " 'allow',\n",
              " 'mathemat',\n",
              " 'appli',\n",
              " 'itselfin',\n",
              " 'way',\n",
              " 'happen',\n",
              " '.']"
            ]
          },
          "metadata": {
            "tags": []
          },
          "execution_count": 224
        }
      ]
    },
    {
      "cell_type": "markdown",
      "metadata": {
        "id": "Oe9CYpCfMlmd"
      },
      "source": [
        "### Stemming  Arabic Text"
      ]
    },
    {
      "cell_type": "code",
      "metadata": {
        "id": "MeEAVb9bMlmd"
      },
      "source": [
        "from snowballstemmer import stemmer"
      ],
      "execution_count": 225,
      "outputs": []
    },
    {
      "cell_type": "code",
      "metadata": {
        "colab": {
          "base_uri": "https://localhost:8080/"
        },
        "id": "kFRgDc1FMlme",
        "outputId": "7d485434-9acb-4c94-92d5-5d1d48bef7e4"
      },
      "source": [
        "ar_stemmer = stemmer(\"arabic\")\n",
        "\n",
        "arabic_words_stem = [ar_stemmer.stemWord(ar_word) for ar_word in filter_arabic_text]\n",
        "arabic_words_stem"
      ],
      "execution_count": 226,
      "outputs": [
        {
          "output_type": "execute_result",
          "data": {
            "text/plain": [
              "['ربم',\n",
              " 'كان',\n",
              " 'احد',\n",
              " 'اهم',\n",
              " 'تطور',\n",
              " 'قام',\n",
              " 'رياض',\n",
              " 'عرب',\n",
              " 'بدء',\n",
              " 'وقت',\n",
              " 'عمل',\n",
              " 'خوارزم',\n",
              " 'وه',\n",
              " 'دايا',\n",
              " 'جبر',\n",
              " ',',\n",
              " 'مهم',\n",
              " 'فهم',\n",
              " 'كان',\n",
              " 'فكر',\n",
              " 'جديد',\n",
              " 'مهم',\n",
              " ',',\n",
              " 'فقد',\n",
              " 'كان',\n",
              " 'خطو',\n",
              " 'نور',\n",
              " 'عيد',\n",
              " 'مفهوم',\n",
              " 'يونان',\n",
              " 'رياض',\n",
              " 'جوهر',\n",
              " 'هندس',\n",
              " ',',\n",
              " 'جبر',\n",
              " 'کان',\n",
              " 'نظر',\n",
              " 'موحد',\n",
              " 'تتيح',\n",
              " 'اعداد',\n",
              " 'كسر',\n",
              " 'والاعداد',\n",
              " 'اللا',\n",
              " 'كسر',\n",
              " ',',\n",
              " 'والمقادير',\n",
              " 'هندس',\n",
              " 'غير',\n",
              " ',',\n",
              " 'تتعامل',\n",
              " 'انه',\n",
              " 'اجسام',\n",
              " 'جبر',\n",
              " ',',\n",
              " 'اعط',\n",
              " 'رياض',\n",
              " 'ككل',\n",
              " 'مسار',\n",
              " 'جديد',\n",
              " 'تطور',\n",
              " 'مفهوم',\n",
              " 'اوسع',\n",
              " 'كثير',\n",
              " 'كان',\n",
              " 'موجود',\n",
              " 'قبل',\n",
              " ',',\n",
              " 'وقم',\n",
              " 'سيل',\n",
              " 'تنم',\n",
              " 'موضوع',\n",
              " 'مستقبل',\n",
              " '.',\n",
              " 'جانب',\n",
              " 'اخر',\n",
              " 'مهم',\n",
              " 'لادخال',\n",
              " 'افكار',\n",
              " 'جبر',\n",
              " 'انه',\n",
              " 'سمح',\n",
              " 'تطبيق',\n",
              " 'رياض',\n",
              " 'نفس',\n",
              " 'طريق',\n",
              " 'تحدث',\n",
              " 'قبل']"
            ]
          },
          "metadata": {
            "tags": []
          },
          "execution_count": 226
        }
      ]
    },
    {
      "cell_type": "markdown",
      "metadata": {
        "id": "Q13hznnNMlme"
      },
      "source": [
        "<b>Understemming</b> happens when two related words should be reduced to the same stem but aren’t. This is a false negative.\n",
        "<b>Overstemming</b> happens when two unrelated words are reduced to the same stem even though they shouldn’t be. This is a false positive."
      ]
    },
    {
      "cell_type": "markdown",
      "metadata": {
        "id": "Mi5F32kSMlme"
      },
      "source": [
        "### Part Tagging Parts of Speech"
      ]
    },
    {
      "cell_type": "markdown",
      "metadata": {
        "id": "Ik6rqBr8Mlmf"
      },
      "source": [
        "POS tagging, is the task of labeling the words in your text according to their part of speech."
      ]
    },
    {
      "cell_type": "code",
      "metadata": {
        "colab": {
          "base_uri": "https://localhost:8080/"
        },
        "id": "Yrf0Ua3jNP-h",
        "outputId": "872100f7-91b9-4fd8-bd50-95c6e6a43b0e"
      },
      "source": [
        "nltk.download('averaged_perceptron_tagger')"
      ],
      "execution_count": 227,
      "outputs": [
        {
          "output_type": "stream",
          "text": [
            "[nltk_data] Downloading package averaged_perceptron_tagger to\n",
            "[nltk_data]     /root/nltk_data...\n",
            "[nltk_data]   Package averaged_perceptron_tagger is already up-to-\n",
            "[nltk_data]       date!\n"
          ],
          "name": "stdout"
        },
        {
          "output_type": "execute_result",
          "data": {
            "text/plain": [
              "True"
            ]
          },
          "metadata": {
            "tags": []
          },
          "execution_count": 227
        }
      ]
    },
    {
      "cell_type": "code",
      "metadata": {
        "colab": {
          "base_uri": "https://localhost:8080/"
        },
        "id": "Pi3bxq9kMlmf",
        "outputId": "f31333a6-77c6-43b3-8f18-78a55e4772cc"
      },
      "source": [
        "\n",
        "eng_pos_tag = nltk.pos_tag(eng_words)\n",
        "eng_pos_tag"
      ],
      "execution_count": 228,
      "outputs": [
        {
          "output_type": "execute_result",
          "data": {
            "text/plain": [
              "[('perhaps', 'RB'),\n",
              " ('one', 'CD'),\n",
              " ('of', 'IN'),\n",
              " ('the', 'DT'),\n",
              " ('most', 'RBS'),\n",
              " ('significant', 'JJ'),\n",
              " ('advances', 'NNS'),\n",
              " ('made', 'VBN'),\n",
              " ('by', 'IN'),\n",
              " ('arabic', 'JJ'),\n",
              " ('mathematics', 'NNS'),\n",
              " ('began', 'VBD'),\n",
              " ('at', 'IN'),\n",
              " ('this', 'DT'),\n",
              " ('time', 'NN'),\n",
              " ('with', 'IN'),\n",
              " ('the', 'DT'),\n",
              " ('work', 'NN'),\n",
              " ('of', 'IN'),\n",
              " ('al-khwarizmi', 'JJ'),\n",
              " (',', ','),\n",
              " ('namely', 'RB'),\n",
              " ('the', 'DT'),\n",
              " ('beginnings', 'NNS'),\n",
              " ('of', 'IN'),\n",
              " ('algebra', 'NN'),\n",
              " ('.', '.'),\n",
              " ('it', 'PRP'),\n",
              " ('is', 'VBZ'),\n",
              " ('important', 'JJ'),\n",
              " ('to', 'TO'),\n",
              " ('understand', 'VB'),\n",
              " ('just', 'RB'),\n",
              " ('how', 'WRB'),\n",
              " ('significant', 'JJ'),\n",
              " ('this', 'DT'),\n",
              " ('new', 'JJ'),\n",
              " ('idea', 'NN'),\n",
              " ('was', 'VBD'),\n",
              " ('.', '.'),\n",
              " ('it', 'PRP'),\n",
              " ('was', 'VBD'),\n",
              " ('a', 'DT'),\n",
              " ('revolutionary', 'JJ'),\n",
              " ('move', 'NN'),\n",
              " ('away', 'RB'),\n",
              " ('from', 'IN'),\n",
              " ('the', 'DT'),\n",
              " ('greek', 'JJ'),\n",
              " ('concept', 'NN'),\n",
              " ('of', 'IN'),\n",
              " ('mathematics', 'NNS'),\n",
              " ('which', 'WDT'),\n",
              " ('was', 'VBD'),\n",
              " ('essentially', 'RB'),\n",
              " ('geometry', 'JJ'),\n",
              " ('.', '.'),\n",
              " ('algebra', 'NN'),\n",
              " ('was', 'VBD'),\n",
              " ('a', 'DT'),\n",
              " ('unifying', 'JJ'),\n",
              " ('theory', 'NN'),\n",
              " ('which', 'WDT'),\n",
              " ('allowedrational', 'JJ'),\n",
              " ('numbers', 'NNS'),\n",
              " (',', ','),\n",
              " ('irrational', 'JJ'),\n",
              " ('numbers', 'NNS'),\n",
              " (',', ','),\n",
              " ('geometrical', 'JJ'),\n",
              " ('magnitudes', 'NNS'),\n",
              " (',', ','),\n",
              " ('etc.', 'NN'),\n",
              " (',', ','),\n",
              " ('to', 'TO'),\n",
              " ('all', 'DT'),\n",
              " ('be', 'VB'),\n",
              " ('treated', 'VBN'),\n",
              " ('as', 'IN'),\n",
              " ('``', '``'),\n",
              " ('algebraic', 'JJ'),\n",
              " ('objects', 'NNS'),\n",
              " (\"''\", \"''\"),\n",
              " ('.', '.'),\n",
              " ('it', 'PRP'),\n",
              " ('gave', 'VBD'),\n",
              " ('mathematics', 'NNS'),\n",
              " ('a', 'DT'),\n",
              " ('whole', 'JJ'),\n",
              " ('new', 'JJ'),\n",
              " ('development', 'NN'),\n",
              " ('path', 'NN'),\n",
              " ('so', 'RB'),\n",
              " ('much', 'JJ'),\n",
              " ('broader', 'JJR'),\n",
              " ('in', 'IN'),\n",
              " ('concept', 'NN'),\n",
              " ('to', 'TO'),\n",
              " ('that', 'DT'),\n",
              " ('which', 'WDT'),\n",
              " ('had', 'VBD'),\n",
              " ('existed', 'VBN'),\n",
              " ('before', 'IN'),\n",
              " (',', ','),\n",
              " ('and', 'CC'),\n",
              " ('provided', 'VBD'),\n",
              " ('a', 'DT'),\n",
              " ('vehicle', 'NN'),\n",
              " ('for', 'IN'),\n",
              " ('future', 'JJ'),\n",
              " ('development', 'NN'),\n",
              " ('of', 'IN'),\n",
              " ('the', 'DT'),\n",
              " ('subject', 'NN'),\n",
              " ('.', '.'),\n",
              " ('another', 'DT'),\n",
              " ('important', 'JJ'),\n",
              " ('aspect', 'NN'),\n",
              " ('of', 'IN'),\n",
              " ('the', 'DT'),\n",
              " ('introduction', 'NN'),\n",
              " ('of', 'IN'),\n",
              " ('algebraic', 'JJ'),\n",
              " ('ideas', 'NNS'),\n",
              " ('was', 'VBD'),\n",
              " ('that', 'IN'),\n",
              " ('it', 'PRP'),\n",
              " ('allowed', 'VBD'),\n",
              " ('mathematics', 'NNS'),\n",
              " ('to', 'TO'),\n",
              " ('be', 'VB'),\n",
              " ('applied', 'VBN'),\n",
              " ('to', 'TO'),\n",
              " ('itselfin', 'VB'),\n",
              " ('a', 'DT'),\n",
              " ('way', 'NN'),\n",
              " ('which', 'WDT'),\n",
              " ('had', 'VBD'),\n",
              " ('not', 'RB'),\n",
              " ('happened', 'VBN'),\n",
              " ('before', 'IN'),\n",
              " ('.', '.')]"
            ]
          },
          "metadata": {
            "tags": []
          },
          "execution_count": 228
        }
      ]
    },
    {
      "cell_type": "code",
      "metadata": {
        "colab": {
          "base_uri": "https://localhost:8080/"
        },
        "id": "nXYVRMwXNZIv",
        "outputId": "9a33e1e8-d456-4c69-e146-2cc8b402f193"
      },
      "source": [
        " nltk.download('tagsets')"
      ],
      "execution_count": 229,
      "outputs": [
        {
          "output_type": "stream",
          "text": [
            "[nltk_data] Downloading package tagsets to /root/nltk_data...\n",
            "[nltk_data]   Package tagsets is already up-to-date!\n"
          ],
          "name": "stdout"
        },
        {
          "output_type": "execute_result",
          "data": {
            "text/plain": [
              "True"
            ]
          },
          "metadata": {
            "tags": []
          },
          "execution_count": 229
        }
      ]
    },
    {
      "cell_type": "code",
      "metadata": {
        "colab": {
          "base_uri": "https://localhost:8080/"
        },
        "id": "a6edwc60Mlmg",
        "outputId": "1bd16eed-9c83-49c9-c078-dbd7d936ea71"
      },
      "source": [
        "# if you want to know the meaning about the abreviation in pos tagging just type this comande \n",
        "nltk.help.upenn_tagset()"
      ],
      "execution_count": 230,
      "outputs": [
        {
          "output_type": "stream",
          "text": [
            "$: dollar\n",
            "    $ -$ --$ A$ C$ HK$ M$ NZ$ S$ U.S.$ US$\n",
            "'': closing quotation mark\n",
            "    ' ''\n",
            "(: opening parenthesis\n",
            "    ( [ {\n",
            "): closing parenthesis\n",
            "    ) ] }\n",
            ",: comma\n",
            "    ,\n",
            "--: dash\n",
            "    --\n",
            ".: sentence terminator\n",
            "    . ! ?\n",
            ":: colon or ellipsis\n",
            "    : ; ...\n",
            "CC: conjunction, coordinating\n",
            "    & 'n and both but either et for less minus neither nor or plus so\n",
            "    therefore times v. versus vs. whether yet\n",
            "CD: numeral, cardinal\n",
            "    mid-1890 nine-thirty forty-two one-tenth ten million 0.5 one forty-\n",
            "    seven 1987 twenty '79 zero two 78-degrees eighty-four IX '60s .025\n",
            "    fifteen 271,124 dozen quintillion DM2,000 ...\n",
            "DT: determiner\n",
            "    all an another any both del each either every half la many much nary\n",
            "    neither no some such that the them these this those\n",
            "EX: existential there\n",
            "    there\n",
            "FW: foreign word\n",
            "    gemeinschaft hund ich jeux habeas Haementeria Herr K'ang-si vous\n",
            "    lutihaw alai je jour objets salutaris fille quibusdam pas trop Monte\n",
            "    terram fiche oui corporis ...\n",
            "IN: preposition or conjunction, subordinating\n",
            "    astride among uppon whether out inside pro despite on by throughout\n",
            "    below within for towards near behind atop around if like until below\n",
            "    next into if beside ...\n",
            "JJ: adjective or numeral, ordinal\n",
            "    third ill-mannered pre-war regrettable oiled calamitous first separable\n",
            "    ectoplasmic battery-powered participatory fourth still-to-be-named\n",
            "    multilingual multi-disciplinary ...\n",
            "JJR: adjective, comparative\n",
            "    bleaker braver breezier briefer brighter brisker broader bumper busier\n",
            "    calmer cheaper choosier cleaner clearer closer colder commoner costlier\n",
            "    cozier creamier crunchier cuter ...\n",
            "JJS: adjective, superlative\n",
            "    calmest cheapest choicest classiest cleanest clearest closest commonest\n",
            "    corniest costliest crassest creepiest crudest cutest darkest deadliest\n",
            "    dearest deepest densest dinkiest ...\n",
            "LS: list item marker\n",
            "    A A. B B. C C. D E F First G H I J K One SP-44001 SP-44002 SP-44005\n",
            "    SP-44007 Second Third Three Two * a b c d first five four one six three\n",
            "    two\n",
            "MD: modal auxiliary\n",
            "    can cannot could couldn't dare may might must need ought shall should\n",
            "    shouldn't will would\n",
            "NN: noun, common, singular or mass\n",
            "    common-carrier cabbage knuckle-duster Casino afghan shed thermostat\n",
            "    investment slide humour falloff slick wind hyena override subhumanity\n",
            "    machinist ...\n",
            "NNP: noun, proper, singular\n",
            "    Motown Venneboerger Czestochwa Ranzer Conchita Trumplane Christos\n",
            "    Oceanside Escobar Kreisler Sawyer Cougar Yvette Ervin ODI Darryl CTCA\n",
            "    Shannon A.K.C. Meltex Liverpool ...\n",
            "NNPS: noun, proper, plural\n",
            "    Americans Americas Amharas Amityvilles Amusements Anarcho-Syndicalists\n",
            "    Andalusians Andes Andruses Angels Animals Anthony Antilles Antiques\n",
            "    Apache Apaches Apocrypha ...\n",
            "NNS: noun, common, plural\n",
            "    undergraduates scotches bric-a-brac products bodyguards facets coasts\n",
            "    divestitures storehouses designs clubs fragrances averages\n",
            "    subjectivists apprehensions muses factory-jobs ...\n",
            "PDT: pre-determiner\n",
            "    all both half many quite such sure this\n",
            "POS: genitive marker\n",
            "    ' 's\n",
            "PRP: pronoun, personal\n",
            "    hers herself him himself hisself it itself me myself one oneself ours\n",
            "    ourselves ownself self she thee theirs them themselves they thou thy us\n",
            "PRP$: pronoun, possessive\n",
            "    her his mine my our ours their thy your\n",
            "RB: adverb\n",
            "    occasionally unabatingly maddeningly adventurously professedly\n",
            "    stirringly prominently technologically magisterially predominately\n",
            "    swiftly fiscally pitilessly ...\n",
            "RBR: adverb, comparative\n",
            "    further gloomier grander graver greater grimmer harder harsher\n",
            "    healthier heavier higher however larger later leaner lengthier less-\n",
            "    perfectly lesser lonelier longer louder lower more ...\n",
            "RBS: adverb, superlative\n",
            "    best biggest bluntest earliest farthest first furthest hardest\n",
            "    heartiest highest largest least less most nearest second tightest worst\n",
            "RP: particle\n",
            "    aboard about across along apart around aside at away back before behind\n",
            "    by crop down ever fast for forth from go high i.e. in into just later\n",
            "    low more off on open out over per pie raising start teeth that through\n",
            "    under unto up up-pp upon whole with you\n",
            "SYM: symbol\n",
            "    % & ' '' ''. ) ). * + ,. < = > @ A[fj] U.S U.S.S.R * ** ***\n",
            "TO: \"to\" as preposition or infinitive marker\n",
            "    to\n",
            "UH: interjection\n",
            "    Goodbye Goody Gosh Wow Jeepers Jee-sus Hubba Hey Kee-reist Oops amen\n",
            "    huh howdy uh dammit whammo shucks heck anyways whodunnit honey golly\n",
            "    man baby diddle hush sonuvabitch ...\n",
            "VB: verb, base form\n",
            "    ask assemble assess assign assume atone attention avoid bake balkanize\n",
            "    bank begin behold believe bend benefit bevel beware bless boil bomb\n",
            "    boost brace break bring broil brush build ...\n",
            "VBD: verb, past tense\n",
            "    dipped pleaded swiped regummed soaked tidied convened halted registered\n",
            "    cushioned exacted snubbed strode aimed adopted belied figgered\n",
            "    speculated wore appreciated contemplated ...\n",
            "VBG: verb, present participle or gerund\n",
            "    telegraphing stirring focusing angering judging stalling lactating\n",
            "    hankerin' alleging veering capping approaching traveling besieging\n",
            "    encrypting interrupting erasing wincing ...\n",
            "VBN: verb, past participle\n",
            "    multihulled dilapidated aerosolized chaired languished panelized used\n",
            "    experimented flourished imitated reunifed factored condensed sheared\n",
            "    unsettled primed dubbed desired ...\n",
            "VBP: verb, present tense, not 3rd person singular\n",
            "    predominate wrap resort sue twist spill cure lengthen brush terminate\n",
            "    appear tend stray glisten obtain comprise detest tease attract\n",
            "    emphasize mold postpone sever return wag ...\n",
            "VBZ: verb, present tense, 3rd person singular\n",
            "    bases reconstructs marks mixes displeases seals carps weaves snatches\n",
            "    slumps stretches authorizes smolders pictures emerges stockpiles\n",
            "    seduces fizzes uses bolsters slaps speaks pleads ...\n",
            "WDT: WH-determiner\n",
            "    that what whatever which whichever\n",
            "WP: WH-pronoun\n",
            "    that what whatever whatsoever which who whom whosoever\n",
            "WP$: WH-pronoun, possessive\n",
            "    whose\n",
            "WRB: Wh-adverb\n",
            "    how however whence whenever where whereby whereever wherein whereof why\n",
            "``: opening quotation mark\n",
            "    ` ``\n"
          ],
          "name": "stdout"
        }
      ]
    },
    {
      "cell_type": "code",
      "metadata": {
        "colab": {
          "base_uri": "https://localhost:8080/"
        },
        "id": "JZQaRVPEMlmh",
        "outputId": "194ac932-6618-45c1-d296-a1e0060567b8"
      },
      "source": [
        "ar_pos_tag = nltk.pos_tag(ar_words) \n",
        "ar_pos_tag\n"
      ],
      "execution_count": 231,
      "outputs": [
        {
          "output_type": "execute_result",
          "data": {
            "text/plain": [
              "[('ربما', 'JJ'),\n",
              " ('كانت', 'NNP'),\n",
              " ('أحد', 'NNP'),\n",
              " ('أهم', 'NNP'),\n",
              " ('التطورات', 'NNP'),\n",
              " ('التي', 'NNP'),\n",
              " ('قامت', 'NNP'),\n",
              " ('بها', 'NNP'),\n",
              " ('الرياضيات', 'NNP'),\n",
              " ('العربية', 'NNP'),\n",
              " ('التي', 'NNP'),\n",
              " ('بدأت', 'NNP'),\n",
              " ('في', 'NNP'),\n",
              " ('هذا', 'NNP'),\n",
              " ('الوقت', 'NNP'),\n",
              " ('بعمل', 'NNP'),\n",
              " ('الخوارزمي', 'NNP'),\n",
              " ('وهي', 'NNP'),\n",
              " ('بدايات', 'NNP'),\n",
              " ('الجبر', 'NNP'),\n",
              " (',', ','),\n",
              " ('ومن', 'NNP'),\n",
              " ('المهم', 'NNP'),\n",
              " ('فهم', 'NNP'),\n",
              " ('كيف', 'NNP'),\n",
              " ('كانت', 'NNP'),\n",
              " ('هذه', 'NNP'),\n",
              " ('الفكرة', 'NNP'),\n",
              " ('الجديدة', 'NNP'),\n",
              " ('مهمة', 'NNP'),\n",
              " (',', ','),\n",
              " ('فقد', 'NNP'),\n",
              " ('كانت', 'NNP'),\n",
              " ('خطوة', 'NNP'),\n",
              " ('نورية', 'NNP'),\n",
              " ('بعيدا', 'NNP'),\n",
              " ('عن', 'NNP'),\n",
              " ('المفهوم', 'NNP'),\n",
              " ('اليوناني', 'NNP'),\n",
              " ('للرياضيات', 'NNP'),\n",
              " ('التي', 'NNP'),\n",
              " ('هي', 'NNP'),\n",
              " ('في', 'NNP'),\n",
              " ('جوهرها', 'NNP'),\n",
              " ('هندسة', 'NNP'),\n",
              " (',', ','),\n",
              " ('الجبر', 'NNP'),\n",
              " ('کان', 'NNP'),\n",
              " ('نظرية', 'NNP'),\n",
              " ('موحدة', 'NNP'),\n",
              " ('تتيح', 'NNP'),\n",
              " ('الأعداد', 'NNP'),\n",
              " ('الكسرية', 'NNP'),\n",
              " ('والأعداد', 'NNP'),\n",
              " ('اللا', 'NNP'),\n",
              " ('كسرية', 'NNP'),\n",
              " (',', ','),\n",
              " ('والمقادير', 'NNP'),\n",
              " ('الهندسية', 'NNP'),\n",
              " ('وغيرها', 'NNP'),\n",
              " (',', ','),\n",
              " ('أن', 'NNP'),\n",
              " ('تتعامل', 'NNP'),\n",
              " ('على', 'NNP'),\n",
              " ('أنها', 'NNP'),\n",
              " ('أجسام', 'NNP'),\n",
              " ('جبرية', 'NNP'),\n",
              " (',', ','),\n",
              " ('وأعطت', 'NNP'),\n",
              " ('الرياضيات', 'NNP'),\n",
              " ('ككل', 'NNP'),\n",
              " ('مسارا', 'NNP'),\n",
              " ('جديدا', 'NNP'),\n",
              " ('للتطور', 'NNP'),\n",
              " ('بمفهوم', 'NNP'),\n",
              " ('أوسع', 'NNP'),\n",
              " ('بكثير', 'NNP'),\n",
              " ('من', 'NNP'),\n",
              " ('الذي', 'NNP'),\n",
              " ('كان', 'NNP'),\n",
              " ('موجودا', 'NNP'),\n",
              " ('من', 'NNP'),\n",
              " ('قبل', 'NNP'),\n",
              " (',', ','),\n",
              " ('وقم', 'NNP'),\n",
              " ('وسيلة', 'NNP'),\n",
              " ('للتنمية', 'NNP'),\n",
              " ('في', 'NNP'),\n",
              " ('هذا', 'NNP'),\n",
              " ('الموضوع', 'NNP'),\n",
              " ('مستقبلا', 'NNP'),\n",
              " ('.', '.'),\n",
              " ('وجانب', 'VB'),\n",
              " ('آخر', 'JJ'),\n",
              " ('مهم', 'NNP'),\n",
              " ('لإدخال', 'NNP'),\n",
              " ('أفكار', 'NNP'),\n",
              " ('الجبر', 'NNP'),\n",
              " ('وهو', 'NNP'),\n",
              " ('أنه', 'NNP'),\n",
              " ('سمح', 'NNP'),\n",
              " ('بتطبيق', 'NNP'),\n",
              " ('الرياضيات', 'NNP'),\n",
              " ('على', 'NNP'),\n",
              " ('نفسها', 'NNP'),\n",
              " ('بطريقة', 'NNP'),\n",
              " ('لم', 'NNP'),\n",
              " ('تحدث', 'NNP'),\n",
              " ('من', 'NNP'),\n",
              " ('قبل', 'NN')]"
            ]
          },
          "metadata": {
            "tags": []
          },
          "execution_count": 231
        }
      ]
    },
    {
      "cell_type": "markdown",
      "metadata": {
        "id": "nhxBGbouMlmi"
      },
      "source": [
        "### Lemmatizing"
      ]
    },
    {
      "cell_type": "markdown",
      "metadata": {
        "id": "SVniH7apMlmj"
      },
      "source": [
        "A lemma is a word that represents a whole group of words, and that group of words is called a lexeme."
      ]
    },
    {
      "cell_type": "code",
      "metadata": {
        "id": "9HV15U98Mlmj"
      },
      "source": [
        "from nltk.stem import WordNetLemmatizer"
      ],
      "execution_count": 232,
      "outputs": []
    },
    {
      "cell_type": "code",
      "metadata": {
        "id": "n_a3rk2XMlml"
      },
      "source": [
        "lemmatizer = WordNetLemmatizer()"
      ],
      "execution_count": 233,
      "outputs": []
    },
    {
      "cell_type": "code",
      "metadata": {
        "colab": {
          "base_uri": "https://localhost:8080/"
        },
        "id": "6VkEjORINpL9",
        "outputId": "adad2ecf-9e38-432e-a7b9-07bd772405d4"
      },
      "source": [
        "nltk.download('wordnet')"
      ],
      "execution_count": 234,
      "outputs": [
        {
          "output_type": "stream",
          "text": [
            "[nltk_data] Downloading package wordnet to /root/nltk_data...\n",
            "[nltk_data]   Package wordnet is already up-to-date!\n"
          ],
          "name": "stdout"
        },
        {
          "output_type": "execute_result",
          "data": {
            "text/plain": [
              "True"
            ]
          },
          "metadata": {
            "tags": []
          },
          "execution_count": 234
        }
      ]
    },
    {
      "cell_type": "code",
      "metadata": {
        "id": "nhpnD_uaMlmo"
      },
      "source": [
        "lemmatized_words = [lemmatizer.lemmatize(word) for word in eng_words]"
      ],
      "execution_count": 235,
      "outputs": []
    },
    {
      "cell_type": "code",
      "metadata": {
        "colab": {
          "base_uri": "https://localhost:8080/"
        },
        "id": "yHUhastqMlmp",
        "outputId": "b82997d3-0dc0-491a-95b8-34971aa61cf5"
      },
      "source": [
        "lemmatized_words"
      ],
      "execution_count": 236,
      "outputs": [
        {
          "output_type": "execute_result",
          "data": {
            "text/plain": [
              "['perhaps',\n",
              " 'one',\n",
              " 'of',\n",
              " 'the',\n",
              " 'most',\n",
              " 'significant',\n",
              " 'advance',\n",
              " 'made',\n",
              " 'by',\n",
              " 'arabic',\n",
              " 'mathematics',\n",
              " 'began',\n",
              " 'at',\n",
              " 'this',\n",
              " 'time',\n",
              " 'with',\n",
              " 'the',\n",
              " 'work',\n",
              " 'of',\n",
              " 'al-khwarizmi',\n",
              " ',',\n",
              " 'namely',\n",
              " 'the',\n",
              " 'beginning',\n",
              " 'of',\n",
              " 'algebra',\n",
              " '.',\n",
              " 'it',\n",
              " 'is',\n",
              " 'important',\n",
              " 'to',\n",
              " 'understand',\n",
              " 'just',\n",
              " 'how',\n",
              " 'significant',\n",
              " 'this',\n",
              " 'new',\n",
              " 'idea',\n",
              " 'wa',\n",
              " '.',\n",
              " 'it',\n",
              " 'wa',\n",
              " 'a',\n",
              " 'revolutionary',\n",
              " 'move',\n",
              " 'away',\n",
              " 'from',\n",
              " 'the',\n",
              " 'greek',\n",
              " 'concept',\n",
              " 'of',\n",
              " 'mathematics',\n",
              " 'which',\n",
              " 'wa',\n",
              " 'essentially',\n",
              " 'geometry',\n",
              " '.',\n",
              " 'algebra',\n",
              " 'wa',\n",
              " 'a',\n",
              " 'unifying',\n",
              " 'theory',\n",
              " 'which',\n",
              " 'allowedrational',\n",
              " 'number',\n",
              " ',',\n",
              " 'irrational',\n",
              " 'number',\n",
              " ',',\n",
              " 'geometrical',\n",
              " 'magnitude',\n",
              " ',',\n",
              " 'etc.',\n",
              " ',',\n",
              " 'to',\n",
              " 'all',\n",
              " 'be',\n",
              " 'treated',\n",
              " 'a',\n",
              " '``',\n",
              " 'algebraic',\n",
              " 'object',\n",
              " \"''\",\n",
              " '.',\n",
              " 'it',\n",
              " 'gave',\n",
              " 'mathematics',\n",
              " 'a',\n",
              " 'whole',\n",
              " 'new',\n",
              " 'development',\n",
              " 'path',\n",
              " 'so',\n",
              " 'much',\n",
              " 'broader',\n",
              " 'in',\n",
              " 'concept',\n",
              " 'to',\n",
              " 'that',\n",
              " 'which',\n",
              " 'had',\n",
              " 'existed',\n",
              " 'before',\n",
              " ',',\n",
              " 'and',\n",
              " 'provided',\n",
              " 'a',\n",
              " 'vehicle',\n",
              " 'for',\n",
              " 'future',\n",
              " 'development',\n",
              " 'of',\n",
              " 'the',\n",
              " 'subject',\n",
              " '.',\n",
              " 'another',\n",
              " 'important',\n",
              " 'aspect',\n",
              " 'of',\n",
              " 'the',\n",
              " 'introduction',\n",
              " 'of',\n",
              " 'algebraic',\n",
              " 'idea',\n",
              " 'wa',\n",
              " 'that',\n",
              " 'it',\n",
              " 'allowed',\n",
              " 'mathematics',\n",
              " 'to',\n",
              " 'be',\n",
              " 'applied',\n",
              " 'to',\n",
              " 'itselfin',\n",
              " 'a',\n",
              " 'way',\n",
              " 'which',\n",
              " 'had',\n",
              " 'not',\n",
              " 'happened',\n",
              " 'before',\n",
              " '.']"
            ]
          },
          "metadata": {
            "tags": []
          },
          "execution_count": 236
        }
      ]
    },
    {
      "cell_type": "markdown",
      "metadata": {
        "id": "0fCx5-5zMlmp"
      },
      "source": [
        "### Chunking"
      ]
    },
    {
      "cell_type": "markdown",
      "metadata": {
        "id": "lBgRJyn_Mlmq"
      },
      "source": [
        "While <b>tokenizing</b> allows you to identify words and sentences, <b>chunking</b> allows you to identify phrases."
      ]
    },
    {
      "cell_type": "code",
      "metadata": {
        "id": "idYcTABhMlmq"
      },
      "source": [
        "grammar = \"NP: {<DT>?<JJ>*<NN>}\""
      ],
      "execution_count": 237,
      "outputs": []
    },
    {
      "cell_type": "markdown",
      "metadata": {
        "id": "UCnx_MCXMlmq"
      },
      "source": [
        "<b>NP</b> stands for noun phrase\n",
        "       \n",
        "        Start with an optional (?) determiner ('DT')\n",
        "        Can have any number (*) of adjectives (JJ)\n",
        "        End with a noun (<NN>)"
      ]
    },
    {
      "cell_type": "code",
      "metadata": {
        "id": "tqYFKvAuMlmq"
      },
      "source": [
        "chunk_parser = nltk.RegexpParser(grammar)\n"
      ],
      "execution_count": 238,
      "outputs": []
    },
    {
      "cell_type": "code",
      "metadata": {
        "colab": {
          "base_uri": "https://localhost:8080/",
          "height": 0
        },
        "id": "XwMJPpD_Mlmq",
        "outputId": "5341b357-9258-4ed5-ae31-c5b4c9983b75"
      },
      "source": [
        "chunk_parser.parse(eng_pos_tag)"
      ],
      "execution_count": 239,
      "outputs": [
        {
          "output_type": "error",
          "ename": "TclError",
          "evalue": "ignored",
          "traceback": [
            "\u001b[0;31m---------------------------------------------------------------------------\u001b[0m",
            "\u001b[0;31mTclError\u001b[0m                                  Traceback (most recent call last)",
            "\u001b[0;32m/usr/local/lib/python3.7/dist-packages/IPython/core/formatters.py\u001b[0m in \u001b[0;36m__call__\u001b[0;34m(self, obj)\u001b[0m\n\u001b[1;32m    336\u001b[0m             \u001b[0mmethod\u001b[0m \u001b[0;34m=\u001b[0m \u001b[0mget_real_method\u001b[0m\u001b[0;34m(\u001b[0m\u001b[0mobj\u001b[0m\u001b[0;34m,\u001b[0m \u001b[0mself\u001b[0m\u001b[0;34m.\u001b[0m\u001b[0mprint_method\u001b[0m\u001b[0;34m)\u001b[0m\u001b[0;34m\u001b[0m\u001b[0;34m\u001b[0m\u001b[0m\n\u001b[1;32m    337\u001b[0m             \u001b[0;32mif\u001b[0m \u001b[0mmethod\u001b[0m \u001b[0;32mis\u001b[0m \u001b[0;32mnot\u001b[0m \u001b[0;32mNone\u001b[0m\u001b[0;34m:\u001b[0m\u001b[0;34m\u001b[0m\u001b[0;34m\u001b[0m\u001b[0m\n\u001b[0;32m--> 338\u001b[0;31m                 \u001b[0;32mreturn\u001b[0m \u001b[0mmethod\u001b[0m\u001b[0;34m(\u001b[0m\u001b[0;34m)\u001b[0m\u001b[0;34m\u001b[0m\u001b[0;34m\u001b[0m\u001b[0m\n\u001b[0m\u001b[1;32m    339\u001b[0m             \u001b[0;32mreturn\u001b[0m \u001b[0;32mNone\u001b[0m\u001b[0;34m\u001b[0m\u001b[0;34m\u001b[0m\u001b[0m\n\u001b[1;32m    340\u001b[0m         \u001b[0;32melse\u001b[0m\u001b[0;34m:\u001b[0m\u001b[0;34m\u001b[0m\u001b[0;34m\u001b[0m\u001b[0m\n",
            "\u001b[0;32m/usr/local/lib/python3.7/dist-packages/nltk/tree.py\u001b[0m in \u001b[0;36m_repr_png_\u001b[0;34m(self)\u001b[0m\n\u001b[1;32m    717\u001b[0m         \u001b[0;32mfrom\u001b[0m \u001b[0mnltk\u001b[0m\u001b[0;34m.\u001b[0m\u001b[0mdraw\u001b[0m\u001b[0;34m.\u001b[0m\u001b[0mutil\u001b[0m \u001b[0;32mimport\u001b[0m \u001b[0mCanvasFrame\u001b[0m\u001b[0;34m\u001b[0m\u001b[0;34m\u001b[0m\u001b[0m\n\u001b[1;32m    718\u001b[0m         \u001b[0;32mfrom\u001b[0m \u001b[0mnltk\u001b[0m\u001b[0;34m.\u001b[0m\u001b[0minternals\u001b[0m \u001b[0;32mimport\u001b[0m \u001b[0mfind_binary\u001b[0m\u001b[0;34m\u001b[0m\u001b[0;34m\u001b[0m\u001b[0m\n\u001b[0;32m--> 719\u001b[0;31m         \u001b[0m_canvas_frame\u001b[0m \u001b[0;34m=\u001b[0m \u001b[0mCanvasFrame\u001b[0m\u001b[0;34m(\u001b[0m\u001b[0;34m)\u001b[0m\u001b[0;34m\u001b[0m\u001b[0;34m\u001b[0m\u001b[0m\n\u001b[0m\u001b[1;32m    720\u001b[0m         \u001b[0mwidget\u001b[0m \u001b[0;34m=\u001b[0m \u001b[0mtree_to_treesegment\u001b[0m\u001b[0;34m(\u001b[0m\u001b[0m_canvas_frame\u001b[0m\u001b[0;34m.\u001b[0m\u001b[0mcanvas\u001b[0m\u001b[0;34m(\u001b[0m\u001b[0;34m)\u001b[0m\u001b[0;34m,\u001b[0m \u001b[0mself\u001b[0m\u001b[0;34m)\u001b[0m\u001b[0;34m\u001b[0m\u001b[0;34m\u001b[0m\u001b[0m\n\u001b[1;32m    721\u001b[0m         \u001b[0m_canvas_frame\u001b[0m\u001b[0;34m.\u001b[0m\u001b[0madd_widget\u001b[0m\u001b[0;34m(\u001b[0m\u001b[0mwidget\u001b[0m\u001b[0;34m)\u001b[0m\u001b[0;34m\u001b[0m\u001b[0;34m\u001b[0m\u001b[0m\n",
            "\u001b[0;32m/usr/local/lib/python3.7/dist-packages/nltk/draw/util.py\u001b[0m in \u001b[0;36m__init__\u001b[0;34m(self, parent, **kw)\u001b[0m\n\u001b[1;32m   1651\u001b[0m         \u001b[0;31m# If no parent was given, set up a top-level window.\u001b[0m\u001b[0;34m\u001b[0m\u001b[0;34m\u001b[0m\u001b[0;34m\u001b[0m\u001b[0m\n\u001b[1;32m   1652\u001b[0m         \u001b[0;32mif\u001b[0m \u001b[0mparent\u001b[0m \u001b[0;32mis\u001b[0m \u001b[0;32mNone\u001b[0m\u001b[0;34m:\u001b[0m\u001b[0;34m\u001b[0m\u001b[0;34m\u001b[0m\u001b[0m\n\u001b[0;32m-> 1653\u001b[0;31m             \u001b[0mself\u001b[0m\u001b[0;34m.\u001b[0m\u001b[0m_parent\u001b[0m \u001b[0;34m=\u001b[0m \u001b[0mTk\u001b[0m\u001b[0;34m(\u001b[0m\u001b[0;34m)\u001b[0m\u001b[0;34m\u001b[0m\u001b[0;34m\u001b[0m\u001b[0m\n\u001b[0m\u001b[1;32m   1654\u001b[0m             \u001b[0mself\u001b[0m\u001b[0;34m.\u001b[0m\u001b[0m_parent\u001b[0m\u001b[0;34m.\u001b[0m\u001b[0mtitle\u001b[0m\u001b[0;34m(\u001b[0m\u001b[0;34m'NLTK'\u001b[0m\u001b[0;34m)\u001b[0m\u001b[0;34m\u001b[0m\u001b[0;34m\u001b[0m\u001b[0m\n\u001b[1;32m   1655\u001b[0m             \u001b[0mself\u001b[0m\u001b[0;34m.\u001b[0m\u001b[0m_parent\u001b[0m\u001b[0;34m.\u001b[0m\u001b[0mbind\u001b[0m\u001b[0;34m(\u001b[0m\u001b[0;34m'<Control-p>'\u001b[0m\u001b[0;34m,\u001b[0m \u001b[0;32mlambda\u001b[0m \u001b[0me\u001b[0m\u001b[0;34m:\u001b[0m \u001b[0mself\u001b[0m\u001b[0;34m.\u001b[0m\u001b[0mprint_to_file\u001b[0m\u001b[0;34m(\u001b[0m\u001b[0;34m)\u001b[0m\u001b[0;34m)\u001b[0m\u001b[0;34m\u001b[0m\u001b[0;34m\u001b[0m\u001b[0m\n",
            "\u001b[0;32m/usr/lib/python3.7/tkinter/__init__.py\u001b[0m in \u001b[0;36m__init__\u001b[0;34m(self, screenName, baseName, className, useTk, sync, use)\u001b[0m\n\u001b[1;32m   2021\u001b[0m                 \u001b[0mbaseName\u001b[0m \u001b[0;34m=\u001b[0m \u001b[0mbaseName\u001b[0m \u001b[0;34m+\u001b[0m \u001b[0mext\u001b[0m\u001b[0;34m\u001b[0m\u001b[0;34m\u001b[0m\u001b[0m\n\u001b[1;32m   2022\u001b[0m         \u001b[0minteractive\u001b[0m \u001b[0;34m=\u001b[0m \u001b[0;36m0\u001b[0m\u001b[0;34m\u001b[0m\u001b[0;34m\u001b[0m\u001b[0m\n\u001b[0;32m-> 2023\u001b[0;31m         \u001b[0mself\u001b[0m\u001b[0;34m.\u001b[0m\u001b[0mtk\u001b[0m \u001b[0;34m=\u001b[0m \u001b[0m_tkinter\u001b[0m\u001b[0;34m.\u001b[0m\u001b[0mcreate\u001b[0m\u001b[0;34m(\u001b[0m\u001b[0mscreenName\u001b[0m\u001b[0;34m,\u001b[0m \u001b[0mbaseName\u001b[0m\u001b[0;34m,\u001b[0m \u001b[0mclassName\u001b[0m\u001b[0;34m,\u001b[0m \u001b[0minteractive\u001b[0m\u001b[0;34m,\u001b[0m \u001b[0mwantobjects\u001b[0m\u001b[0;34m,\u001b[0m \u001b[0museTk\u001b[0m\u001b[0;34m,\u001b[0m \u001b[0msync\u001b[0m\u001b[0;34m,\u001b[0m \u001b[0muse\u001b[0m\u001b[0;34m)\u001b[0m\u001b[0;34m\u001b[0m\u001b[0;34m\u001b[0m\u001b[0m\n\u001b[0m\u001b[1;32m   2024\u001b[0m         \u001b[0;32mif\u001b[0m \u001b[0museTk\u001b[0m\u001b[0;34m:\u001b[0m\u001b[0;34m\u001b[0m\u001b[0;34m\u001b[0m\u001b[0m\n\u001b[1;32m   2025\u001b[0m             \u001b[0mself\u001b[0m\u001b[0;34m.\u001b[0m\u001b[0m_loadtk\u001b[0m\u001b[0;34m(\u001b[0m\u001b[0;34m)\u001b[0m\u001b[0;34m\u001b[0m\u001b[0;34m\u001b[0m\u001b[0m\n",
            "\u001b[0;31mTclError\u001b[0m: no display name and no $DISPLAY environment variable"
          ]
        },
        {
          "output_type": "execute_result",
          "data": {
            "text/plain": [
              "Tree('S', [('perhaps', 'RB'), ('one', 'CD'), ('of', 'IN'), ('the', 'DT'), ('most', 'RBS'), ('significant', 'JJ'), ('advances', 'NNS'), ('made', 'VBN'), ('by', 'IN'), ('arabic', 'JJ'), ('mathematics', 'NNS'), ('began', 'VBD'), ('at', 'IN'), Tree('NP', [('this', 'DT'), ('time', 'NN')]), ('with', 'IN'), Tree('NP', [('the', 'DT'), ('work', 'NN')]), ('of', 'IN'), ('al-khwarizmi', 'JJ'), (',', ','), ('namely', 'RB'), ('the', 'DT'), ('beginnings', 'NNS'), ('of', 'IN'), Tree('NP', [('algebra', 'NN')]), ('.', '.'), ('it', 'PRP'), ('is', 'VBZ'), ('important', 'JJ'), ('to', 'TO'), ('understand', 'VB'), ('just', 'RB'), ('how', 'WRB'), ('significant', 'JJ'), Tree('NP', [('this', 'DT'), ('new', 'JJ'), ('idea', 'NN')]), ('was', 'VBD'), ('.', '.'), ('it', 'PRP'), ('was', 'VBD'), Tree('NP', [('a', 'DT'), ('revolutionary', 'JJ'), ('move', 'NN')]), ('away', 'RB'), ('from', 'IN'), Tree('NP', [('the', 'DT'), ('greek', 'JJ'), ('concept', 'NN')]), ('of', 'IN'), ('mathematics', 'NNS'), ('which', 'WDT'), ('was', 'VBD'), ('essentially', 'RB'), ('geometry', 'JJ'), ('.', '.'), Tree('NP', [('algebra', 'NN')]), ('was', 'VBD'), Tree('NP', [('a', 'DT'), ('unifying', 'JJ'), ('theory', 'NN')]), ('which', 'WDT'), ('allowedrational', 'JJ'), ('numbers', 'NNS'), (',', ','), ('irrational', 'JJ'), ('numbers', 'NNS'), (',', ','), ('geometrical', 'JJ'), ('magnitudes', 'NNS'), (',', ','), Tree('NP', [('etc.', 'NN')]), (',', ','), ('to', 'TO'), ('all', 'DT'), ('be', 'VB'), ('treated', 'VBN'), ('as', 'IN'), ('``', '``'), ('algebraic', 'JJ'), ('objects', 'NNS'), (\"''\", \"''\"), ('.', '.'), ('it', 'PRP'), ('gave', 'VBD'), ('mathematics', 'NNS'), Tree('NP', [('a', 'DT'), ('whole', 'JJ'), ('new', 'JJ'), ('development', 'NN')]), Tree('NP', [('path', 'NN')]), ('so', 'RB'), ('much', 'JJ'), ('broader', 'JJR'), ('in', 'IN'), Tree('NP', [('concept', 'NN')]), ('to', 'TO'), ('that', 'DT'), ('which', 'WDT'), ('had', 'VBD'), ('existed', 'VBN'), ('before', 'IN'), (',', ','), ('and', 'CC'), ('provided', 'VBD'), Tree('NP', [('a', 'DT'), ('vehicle', 'NN')]), ('for', 'IN'), Tree('NP', [('future', 'JJ'), ('development', 'NN')]), ('of', 'IN'), Tree('NP', [('the', 'DT'), ('subject', 'NN')]), ('.', '.'), Tree('NP', [('another', 'DT'), ('important', 'JJ'), ('aspect', 'NN')]), ('of', 'IN'), Tree('NP', [('the', 'DT'), ('introduction', 'NN')]), ('of', 'IN'), ('algebraic', 'JJ'), ('ideas', 'NNS'), ('was', 'VBD'), ('that', 'IN'), ('it', 'PRP'), ('allowed', 'VBD'), ('mathematics', 'NNS'), ('to', 'TO'), ('be', 'VB'), ('applied', 'VBN'), ('to', 'TO'), ('itselfin', 'VB'), Tree('NP', [('a', 'DT'), ('way', 'NN')]), ('which', 'WDT'), ('had', 'VBD'), ('not', 'RB'), ('happened', 'VBN'), ('before', 'IN'), ('.', '.')])"
            ]
          },
          "metadata": {
            "tags": []
          },
          "execution_count": 239
        }
      ]
    },
    {
      "cell_type": "markdown",
      "metadata": {
        "id": "4faaXN6wMlmr"
      },
      "source": [
        "### Printing Dependencies"
      ]
    },
    {
      "cell_type": "code",
      "metadata": {
        "colab": {
          "base_uri": "https://localhost:8080/"
        },
        "id": "GFJO8i4RMlmr",
        "outputId": "61142837-05eb-416c-a8ab-943da8623921"
      },
      "source": [
        "!pip install ghostscript"
      ],
      "execution_count": 240,
      "outputs": [
        {
          "output_type": "stream",
          "text": [
            "Requirement already satisfied: ghostscript in /usr/local/lib/python3.7/dist-packages (0.7)\n",
            "Requirement already satisfied: setuptools>=38.6.0 in /usr/local/lib/python3.7/dist-packages (from ghostscript) (57.0.0)\n"
          ],
          "name": "stdout"
        }
      ]
    },
    {
      "cell_type": "code",
      "metadata": {
        "colab": {
          "base_uri": "https://localhost:8080/",
          "height": 425
        },
        "id": "bcDIYsVgMlms",
        "outputId": "0112daa1-d96f-4ccf-8699-382b5cd3fd2b"
      },
      "source": [
        "import ghostscript"
      ],
      "execution_count": 241,
      "outputs": [
        {
          "output_type": "error",
          "ename": "RuntimeError",
          "evalue": "ignored",
          "traceback": [
            "\u001b[0;31m---------------------------------------------------------------------------\u001b[0m",
            "\u001b[0;31mOSError\u001b[0m                                   Traceback (most recent call last)",
            "\u001b[0;32m/usr/local/lib/python3.7/dist-packages/ghostscript/_gsprint.py\u001b[0m in \u001b[0;36m<module>\u001b[0;34m()\u001b[0m\n\u001b[1;32m    523\u001b[0m     \u001b[0;32mtry\u001b[0m\u001b[0;34m:\u001b[0m\u001b[0;34m\u001b[0m\u001b[0;34m\u001b[0m\u001b[0m\n\u001b[0;32m--> 524\u001b[0;31m         \u001b[0mlibgs\u001b[0m \u001b[0;34m=\u001b[0m \u001b[0mcdll\u001b[0m\u001b[0;34m.\u001b[0m\u001b[0mLoadLibrary\u001b[0m\u001b[0;34m(\u001b[0m\u001b[0;34m\"libgs.so\"\u001b[0m\u001b[0;34m)\u001b[0m\u001b[0;34m\u001b[0m\u001b[0;34m\u001b[0m\u001b[0m\n\u001b[0m\u001b[1;32m    525\u001b[0m     \u001b[0;32mexcept\u001b[0m \u001b[0mOSError\u001b[0m\u001b[0;34m:\u001b[0m\u001b[0;34m\u001b[0m\u001b[0;34m\u001b[0m\u001b[0m\n",
            "\u001b[0;32m/usr/lib/python3.7/ctypes/__init__.py\u001b[0m in \u001b[0;36mLoadLibrary\u001b[0;34m(self, name)\u001b[0m\n\u001b[1;32m    441\u001b[0m     \u001b[0;32mdef\u001b[0m \u001b[0mLoadLibrary\u001b[0m\u001b[0;34m(\u001b[0m\u001b[0mself\u001b[0m\u001b[0;34m,\u001b[0m \u001b[0mname\u001b[0m\u001b[0;34m)\u001b[0m\u001b[0;34m:\u001b[0m\u001b[0;34m\u001b[0m\u001b[0;34m\u001b[0m\u001b[0m\n\u001b[0;32m--> 442\u001b[0;31m         \u001b[0;32mreturn\u001b[0m \u001b[0mself\u001b[0m\u001b[0;34m.\u001b[0m\u001b[0m_dlltype\u001b[0m\u001b[0;34m(\u001b[0m\u001b[0mname\u001b[0m\u001b[0;34m)\u001b[0m\u001b[0;34m\u001b[0m\u001b[0;34m\u001b[0m\u001b[0m\n\u001b[0m\u001b[1;32m    443\u001b[0m \u001b[0;34m\u001b[0m\u001b[0m\n",
            "\u001b[0;32m/usr/lib/python3.7/ctypes/__init__.py\u001b[0m in \u001b[0;36m__init__\u001b[0;34m(self, name, mode, handle, use_errno, use_last_error)\u001b[0m\n\u001b[1;32m    363\u001b[0m         \u001b[0;32mif\u001b[0m \u001b[0mhandle\u001b[0m \u001b[0;32mis\u001b[0m \u001b[0;32mNone\u001b[0m\u001b[0;34m:\u001b[0m\u001b[0;34m\u001b[0m\u001b[0;34m\u001b[0m\u001b[0m\n\u001b[0;32m--> 364\u001b[0;31m             \u001b[0mself\u001b[0m\u001b[0;34m.\u001b[0m\u001b[0m_handle\u001b[0m \u001b[0;34m=\u001b[0m \u001b[0m_dlopen\u001b[0m\u001b[0;34m(\u001b[0m\u001b[0mself\u001b[0m\u001b[0;34m.\u001b[0m\u001b[0m_name\u001b[0m\u001b[0;34m,\u001b[0m \u001b[0mmode\u001b[0m\u001b[0;34m)\u001b[0m\u001b[0;34m\u001b[0m\u001b[0;34m\u001b[0m\u001b[0m\n\u001b[0m\u001b[1;32m    365\u001b[0m         \u001b[0;32melse\u001b[0m\u001b[0;34m:\u001b[0m\u001b[0;34m\u001b[0m\u001b[0;34m\u001b[0m\u001b[0m\n",
            "\u001b[0;31mOSError\u001b[0m: libgs.so: cannot open shared object file: No such file or directory",
            "\nDuring handling of the above exception, another exception occurred:\n",
            "\u001b[0;31mRuntimeError\u001b[0m                              Traceback (most recent call last)",
            "\u001b[0;32m<ipython-input-241-5a5d53aa56b1>\u001b[0m in \u001b[0;36m<module>\u001b[0;34m()\u001b[0m\n\u001b[0;32m----> 1\u001b[0;31m \u001b[0;32mimport\u001b[0m \u001b[0mghostscript\u001b[0m\u001b[0;34m\u001b[0m\u001b[0;34m\u001b[0m\u001b[0m\n\u001b[0m",
            "\u001b[0;32m/usr/local/lib/python3.7/dist-packages/ghostscript/__init__.py\u001b[0m in \u001b[0;36m<module>\u001b[0;34m()\u001b[0m\n\u001b[1;32m     30\u001b[0m \u001b[0;34m\u001b[0m\u001b[0m\n\u001b[1;32m     31\u001b[0m \u001b[0;32mimport\u001b[0m \u001b[0msys\u001b[0m \u001b[0;31m# :todo: remove, debugging only\u001b[0m\u001b[0;34m\u001b[0m\u001b[0;34m\u001b[0m\u001b[0m\n\u001b[0;32m---> 32\u001b[0;31m \u001b[0;32mfrom\u001b[0m \u001b[0;34m.\u001b[0m \u001b[0;32mimport\u001b[0m \u001b[0m_gsprint\u001b[0m \u001b[0;32mas\u001b[0m \u001b[0mgs\u001b[0m\u001b[0;34m\u001b[0m\u001b[0;34m\u001b[0m\u001b[0m\n\u001b[0m\u001b[1;32m     33\u001b[0m \u001b[0m__version__\u001b[0m \u001b[0;34m=\u001b[0m \u001b[0mgs\u001b[0m\u001b[0;34m.\u001b[0m\u001b[0m__version__\u001b[0m\u001b[0;34m\u001b[0m\u001b[0;34m\u001b[0m\u001b[0m\n\u001b[1;32m     34\u001b[0m \u001b[0;34m\u001b[0m\u001b[0m\n",
            "\u001b[0;32m/usr/local/lib/python3.7/dist-packages/ghostscript/_gsprint.py\u001b[0m in \u001b[0;36m<module>\u001b[0;34m()\u001b[0m\n\u001b[1;32m    528\u001b[0m         \u001b[0mlibgs\u001b[0m \u001b[0;34m=\u001b[0m \u001b[0mctypes\u001b[0m\u001b[0;34m.\u001b[0m\u001b[0mutil\u001b[0m\u001b[0;34m.\u001b[0m\u001b[0mfind_library\u001b[0m\u001b[0;34m(\u001b[0m\u001b[0;34m'gs'\u001b[0m\u001b[0;34m)\u001b[0m\u001b[0;34m\u001b[0m\u001b[0;34m\u001b[0m\u001b[0m\n\u001b[1;32m    529\u001b[0m         \u001b[0;32mif\u001b[0m \u001b[0;32mnot\u001b[0m \u001b[0mlibgs\u001b[0m\u001b[0;34m:\u001b[0m\u001b[0;34m\u001b[0m\u001b[0;34m\u001b[0m\u001b[0m\n\u001b[0;32m--> 530\u001b[0;31m             \u001b[0;32mraise\u001b[0m \u001b[0mRuntimeError\u001b[0m\u001b[0;34m(\u001b[0m\u001b[0;34m'Can not find Ghostscript library (libgs)'\u001b[0m\u001b[0;34m)\u001b[0m\u001b[0;34m\u001b[0m\u001b[0;34m\u001b[0m\u001b[0m\n\u001b[0m\u001b[1;32m    531\u001b[0m         \u001b[0mlibgs\u001b[0m \u001b[0;34m=\u001b[0m \u001b[0mcdll\u001b[0m\u001b[0;34m.\u001b[0m\u001b[0mLoadLibrary\u001b[0m\u001b[0;34m(\u001b[0m\u001b[0mlibgs\u001b[0m\u001b[0;34m)\u001b[0m\u001b[0;34m\u001b[0m\u001b[0;34m\u001b[0m\u001b[0m\n\u001b[1;32m    532\u001b[0m \u001b[0;34m\u001b[0m\u001b[0m\n",
            "\u001b[0;31mRuntimeError\u001b[0m: Can not find Ghostscript library (libgs)"
          ]
        }
      ]
    },
    {
      "cell_type": "code",
      "metadata": {
        "id": "x9zY8JonN5ZJ"
      },
      "source": [
        "tree = chunk_parser.parse(eng_pos_tag )"
      ],
      "execution_count": null,
      "outputs": []
    },
    {
      "cell_type": "code",
      "metadata": {
        "id": "BqywNMvuMlms"
      },
      "source": [
        "tree.draw()"
      ],
      "execution_count": null,
      "outputs": []
    },
    {
      "cell_type": "markdown",
      "metadata": {
        "id": "NoR1mGpRMlms"
      },
      "source": [
        "\n",
        "# install watermark"
      ]
    },
    {
      "cell_type": "code",
      "metadata": {
        "id": "ZGFlcLmyMlms"
      },
      "source": [
        "!pip install watermark\n",
        "%load_ext watermark"
      ],
      "execution_count": null,
      "outputs": []
    },
    {
      "cell_type": "code",
      "metadata": {
        "id": "jvCV5S9jMlmt"
      },
      "source": [
        "%watermark -v -m -p nltk"
      ],
      "execution_count": null,
      "outputs": []
    },
    {
      "cell_type": "code",
      "metadata": {
        "id": "kj78KKjZMlmu"
      },
      "source": [
        "%watermark --iversions"
      ],
      "execution_count": null,
      "outputs": []
    }
  ]
}