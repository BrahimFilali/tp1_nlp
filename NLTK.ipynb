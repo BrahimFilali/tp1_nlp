{
 "cells": [
  {
   "cell_type": "markdown",
   "metadata": {},
   "source": [
    "#  TP1:NLTK - Natural Language Toolkit"
   ]
  },
  {
   "cell_type": "markdown",
   "metadata": {},
   "source": [
    "### Importing libraries"
   ]
  },
  {
   "cell_type": "code",
   "execution_count": 1,
   "metadata": {},
   "outputs": [],
   "source": [
    "import nltk, string\n"
   ]
  },
  {
   "cell_type": "markdown",
   "metadata": {},
   "source": [
    "### importing  data"
   ]
  },
  {
   "cell_type": "code",
   "execution_count": 2,
   "metadata": {},
   "outputs": [],
   "source": [
    "english_text = \"\"\"Perhaps one of the most significant advances made by Arabic mathematics began at this time with the work of al-Khwarizmi, namely the beginnings of algebra. It is important to understand just how significant this new idea was. It was a revolutionary move away from the Greek concept of mathematics which was essentially geometry. Algebra was a unifying theory which allowedrational numbers,irrational numbers, geometrical magnitudes, etc., to all be treated as \\\"algebraic objects\\\". It gave mathematics a whole new development path so much broader in concept to that which had existed before, and provided a vehicle for future development of the subject. Another important aspect of the introduction of algebraic ideas was that it allowed mathematics to be applied to itselfin a way which had not happened before.\"\"\""
   ]
  },
  {
   "cell_type": "code",
   "execution_count": 3,
   "metadata": {},
   "outputs": [
    {
     "data": {
      "text/plain": [
       "'Perhaps one of the most significant advances made by Arabic mathematics began at this time with the work of al-Khwarizmi, namely the beginnings of algebra. It is important to understand just how significant this new idea was. It was a revolutionary move away from the Greek concept of mathematics which was essentially geometry. Algebra was a unifying theory which allowedrational numbers,irrational numbers, geometrical magnitudes, etc., to all be treated as \"algebraic objects\". It gave mathematics a whole new development path so much broader in concept to that which had existed before, and provided a vehicle for future development of the subject. Another important aspect of the introduction of algebraic ideas was that it allowed mathematics to be applied to itselfin a way which had not happened before.'"
      ]
     },
     "execution_count": 3,
     "metadata": {},
     "output_type": "execute_result"
    }
   ],
   "source": [
    "english_text"
   ]
  },
  {
   "cell_type": "code",
   "execution_count": 4,
   "metadata": {},
   "outputs": [],
   "source": [
    "arabic_text =\"\"\"ربما كانت أحد أهم التطورات التي قامت بها الرياضيات العربية التي بدأت في هذا الوقت بعمل الخوارزمي وهي بدايات الجبر, ومن المهم فهم كيف كانت هذه الفكرة الجديدة مهمة, فقد كانت خطوة نورية بعيدا عن المفهوم اليوناني للرياضيات التي هي في جوهرها هندسة, الجبر کان نظرية موحدة تتيح الأعداد الكسرية والأعداد اللا كسرية, والمقادير الهندسية وغيرها, أن تتعامل على أنها أجسام جبرية, وأعطت الرياضيات ككل مسارا جديدا للتطور بمفهوم أوسع بكثير من الذي كان موجودا من قبل, وقم وسيلة للتنمية في هذا الموضوع مستقبلا. وجانب آخر مهم لإدخال أفكار الجبر وهو أنه سمح بتطبيق الرياضيات على نفسها بطريقة لم تحدث من قبل\"\"\""
   ]
  },
  {
   "cell_type": "code",
   "execution_count": 5,
   "metadata": {},
   "outputs": [
    {
     "data": {
      "text/plain": [
       "'ربما كانت أحد أهم التطورات التي قامت بها الرياضيات العربية التي بدأت في هذا الوقت بعمل الخوارزمي وهي بدايات الجبر, ومن المهم فهم كيف كانت هذه الفكرة الجديدة مهمة, فقد كانت خطوة نورية بعيدا عن المفهوم اليوناني للرياضيات التي هي في جوهرها هندسة, الجبر کان نظرية موحدة تتيح الأعداد الكسرية والأعداد اللا كسرية, والمقادير الهندسية وغيرها, أن تتعامل على أنها أجسام جبرية, وأعطت الرياضيات ككل مسارا جديدا للتطور بمفهوم أوسع بكثير من الذي كان موجودا من قبل, وقم وسيلة للتنمية في هذا الموضوع مستقبلا. وجانب آخر مهم لإدخال أفكار الجبر وهو أنه سمح بتطبيق الرياضيات على نفسها بطريقة لم تحدث من قبل'"
      ]
     },
     "execution_count": 5,
     "metadata": {},
     "output_type": "execute_result"
    }
   ],
   "source": [
    "arabic_text"
   ]
  },
  {
   "cell_type": "markdown",
   "metadata": {},
   "source": [
    "### cleaning data "
   ]
  },
  {
   "cell_type": "markdown",
   "metadata": {},
   "source": [
    "#### Lower Case"
   ]
  },
  {
   "cell_type": "code",
   "execution_count": 6,
   "metadata": {},
   "outputs": [],
   "source": [
    "english_text= english_text.lower()"
   ]
  },
  {
   "cell_type": "markdown",
   "metadata": {},
   "source": [
    "#### Eliminate Ponctuation : this step is not important becouse not change our content  "
   ]
  },
  {
   "cell_type": "code",
   "execution_count": 7,
   "metadata": {},
   "outputs": [],
   "source": [
    "#english_text_clear = ''.join([x for x in english_text if x not in string.punctuation])\n",
    "#arabic_text_clear = ''.join([x for x in arabic_text if x not in string.punctuation])"
   ]
  },
  {
   "cell_type": "code",
   "execution_count": 8,
   "metadata": {},
   "outputs": [],
   "source": [
    "#print(english_text_clear)\n",
    "#print(arabic_text_clear)"
   ]
  },
  {
   "cell_type": "markdown",
   "metadata": {},
   "source": [
    "###  step Tokinization"
   ]
  },
  {
   "cell_type": "code",
   "execution_count": 9,
   "metadata": {},
   "outputs": [],
   "source": [
    "from nltk.tokenize import sent_tokenize, word_tokenize"
   ]
  },
  {
   "cell_type": "markdown",
   "metadata": {},
   "source": [
    "#### Tokenizing by word"
   ]
  },
  {
   "cell_type": "code",
   "execution_count": 10,
   "metadata": {},
   "outputs": [],
   "source": [
    "eng_words = word_tokenize(english_text)\n",
    "ar_words = nltk.word_tokenize(arabic_text)"
   ]
  },
  {
   "cell_type": "markdown",
   "metadata": {},
   "source": [
    "# result after tokenize words"
   ]
  },
  {
   "cell_type": "code",
   "execution_count": 11,
   "metadata": {},
   "outputs": [
    {
     "name": "stdout",
     "output_type": "stream",
     "text": [
      "['perhaps', 'one', 'of', 'the', 'most', 'significant', 'advances', 'made', 'by', 'arabic', 'mathematics', 'began', 'at', 'this', 'time', 'with', 'the', 'work', 'of', 'al-khwarizmi', ',', 'namely', 'the', 'beginnings', 'of', 'algebra', '.', 'it', 'is', 'important', 'to', 'understand', 'just', 'how', 'significant', 'this', 'new', 'idea', 'was', '.', 'it', 'was', 'a', 'revolutionary', 'move', 'away', 'from', 'the', 'greek', 'concept', 'of', 'mathematics', 'which', 'was', 'essentially', 'geometry', '.', 'algebra', 'was', 'a', 'unifying', 'theory', 'which', 'allowedrational', 'numbers', ',', 'irrational', 'numbers', ',', 'geometrical', 'magnitudes', ',', 'etc.', ',', 'to', 'all', 'be', 'treated', 'as', '``', 'algebraic', 'objects', \"''\", '.', 'it', 'gave', 'mathematics', 'a', 'whole', 'new', 'development', 'path', 'so', 'much', 'broader', 'in', 'concept', 'to', 'that', 'which', 'had', 'existed', 'before', ',', 'and', 'provided', 'a', 'vehicle', 'for', 'future', 'development', 'of', 'the', 'subject', '.', 'another', 'important', 'aspect', 'of', 'the', 'introduction', 'of', 'algebraic', 'ideas', 'was', 'that', 'it', 'allowed', 'mathematics', 'to', 'be', 'applied', 'to', 'itselfin', 'a', 'way', 'which', 'had', 'not', 'happened', 'before', '.']\n",
      "['ربما', 'كانت', 'أحد', 'أهم', 'التطورات', 'التي', 'قامت', 'بها', 'الرياضيات', 'العربية', 'التي', 'بدأت', 'في', 'هذا', 'الوقت', 'بعمل', 'الخوارزمي', 'وهي', 'بدايات', 'الجبر', ',', 'ومن', 'المهم', 'فهم', 'كيف', 'كانت', 'هذه', 'الفكرة', 'الجديدة', 'مهمة', ',', 'فقد', 'كانت', 'خطوة', 'نورية', 'بعيدا', 'عن', 'المفهوم', 'اليوناني', 'للرياضيات', 'التي', 'هي', 'في', 'جوهرها', 'هندسة', ',', 'الجبر', 'کان', 'نظرية', 'موحدة', 'تتيح', 'الأعداد', 'الكسرية', 'والأعداد', 'اللا', 'كسرية', ',', 'والمقادير', 'الهندسية', 'وغيرها', ',', 'أن', 'تتعامل', 'على', 'أنها', 'أجسام', 'جبرية', ',', 'وأعطت', 'الرياضيات', 'ككل', 'مسارا', 'جديدا', 'للتطور', 'بمفهوم', 'أوسع', 'بكثير', 'من', 'الذي', 'كان', 'موجودا', 'من', 'قبل', ',', 'وقم', 'وسيلة', 'للتنمية', 'في', 'هذا', 'الموضوع', 'مستقبلا', '.', 'وجانب', 'آخر', 'مهم', 'لإدخال', 'أفكار', 'الجبر', 'وهو', 'أنه', 'سمح', 'بتطبيق', 'الرياضيات', 'على', 'نفسها', 'بطريقة', 'لم', 'تحدث', 'من', 'قبل']\n"
     ]
    }
   ],
   "source": [
    "print(eng_words )\n",
    "print(ar_words)"
   ]
  },
  {
   "cell_type": "markdown",
   "metadata": {},
   "source": [
    "#### Tokenizing by sentence"
   ]
  },
  {
   "cell_type": "code",
   "execution_count": 12,
   "metadata": {},
   "outputs": [],
   "source": [
    "eng_sent = sent_tokenize(english_text)\n",
    "ar_sent = sent_tokenize(arabic_text)"
   ]
  },
  {
   "cell_type": "code",
   "execution_count": 13,
   "metadata": {},
   "outputs": [
    {
     "name": "stdout",
     "output_type": "stream",
     "text": [
      "['perhaps one of the most significant advances made by arabic mathematics began at this time with the work of al-khwarizmi, namely the beginnings of algebra.', 'it is important to understand just how significant this new idea was.', 'it was a revolutionary move away from the greek concept of mathematics which was essentially geometry.', 'algebra was a unifying theory which allowedrational numbers,irrational numbers, geometrical magnitudes, etc., to all be treated as \"algebraic objects\".', 'it gave mathematics a whole new development path so much broader in concept to that which had existed before, and provided a vehicle for future development of the subject.', 'another important aspect of the introduction of algebraic ideas was that it allowed mathematics to be applied to itselfin a way which had not happened before.']\n"
     ]
    }
   ],
   "source": [
    "print(eng_sent)"
   ]
  },
  {
   "cell_type": "code",
   "execution_count": 14,
   "metadata": {},
   "outputs": [
    {
     "name": "stdout",
     "output_type": "stream",
     "text": [
      "['ربما كانت أحد أهم التطورات التي قامت بها الرياضيات العربية التي بدأت في هذا الوقت بعمل الخوارزمي وهي بدايات الجبر, ومن المهم فهم كيف كانت هذه الفكرة الجديدة مهمة, فقد كانت خطوة نورية بعيدا عن المفهوم اليوناني للرياضيات التي هي في جوهرها هندسة, الجبر کان نظرية موحدة تتيح الأعداد الكسرية والأعداد اللا كسرية, والمقادير الهندسية وغيرها, أن تتعامل على أنها أجسام جبرية, وأعطت الرياضيات ككل مسارا جديدا للتطور بمفهوم أوسع بكثير من الذي كان موجودا من قبل, وقم وسيلة للتنمية في هذا الموضوع مستقبلا.', 'وجانب آخر مهم لإدخال أفكار الجبر وهو أنه سمح بتطبيق الرياضيات على نفسها بطريقة لم تحدث من قبل']\n"
     ]
    }
   ],
   "source": [
    "print(ar_sent)"
   ]
  },
  {
   "cell_type": "markdown",
   "metadata": {},
   "source": [
    "<B>Tokenizing sentences</b>\n",
    "\n",
    "The same principle can be applied to sentences. Simply change the to sent_tokenize()\n",
    "We have added two sentences to the variable data:\n",
    "        \n",
    "          "
   ]
  },
  {
   "cell_type": "markdown",
   "metadata": {},
   "source": [
    "## Filtering Stop Words"
   ]
  },
  {
   "cell_type": "markdown",
   "metadata": {},
   "source": [
    "Stop words are words that we want to ignore, so we filter them out of our text when we’re processing it."
   ]
  },
  {
   "cell_type": "code",
   "execution_count": 15,
   "metadata": {},
   "outputs": [
    {
     "name": "stderr",
     "output_type": "stream",
     "text": [
      "[nltk_data] Downloading package stopwords to\n",
      "[nltk_data]     C:\\Users\\bfila\\AppData\\Roaming\\nltk_data...\n",
      "[nltk_data]   Package stopwords is already up-to-date!\n"
     ]
    }
   ],
   "source": [
    "nltk.download(\"stopwords\")\n",
    "from nltk.corpus import stopwords"
   ]
  },
  {
   "cell_type": "code",
   "execution_count": 16,
   "metadata": {},
   "outputs": [],
   "source": [
    "stop_words_eng = set(stopwords.words(\"english\"))\n",
    "stop_words_ar = set(stopwords.words(\"arabic\"))"
   ]
  },
  {
   "cell_type": "markdown",
   "metadata": {},
   "source": [
    "<b>export the stop words from our text </b>"
   ]
  },
  {
   "cell_type": "code",
   "execution_count": 17,
   "metadata": {},
   "outputs": [
    {
     "data": {
      "text/plain": [
       "['perhaps',\n",
       " 'one',\n",
       " 'significant',\n",
       " 'advances',\n",
       " 'made',\n",
       " 'arabic',\n",
       " 'mathematics',\n",
       " 'began',\n",
       " 'time',\n",
       " 'work',\n",
       " 'al-khwarizmi',\n",
       " ',',\n",
       " 'namely',\n",
       " 'beginnings',\n",
       " 'algebra',\n",
       " '.',\n",
       " 'important',\n",
       " 'understand',\n",
       " 'significant',\n",
       " 'new',\n",
       " 'idea',\n",
       " '.',\n",
       " 'revolutionary',\n",
       " 'move',\n",
       " 'away',\n",
       " 'greek',\n",
       " 'concept',\n",
       " 'mathematics',\n",
       " 'essentially',\n",
       " 'geometry',\n",
       " '.',\n",
       " 'algebra',\n",
       " 'unifying',\n",
       " 'theory',\n",
       " 'allowedrational',\n",
       " 'numbers',\n",
       " ',',\n",
       " 'irrational',\n",
       " 'numbers',\n",
       " ',',\n",
       " 'geometrical',\n",
       " 'magnitudes',\n",
       " ',',\n",
       " 'etc.',\n",
       " ',',\n",
       " 'treated',\n",
       " '``',\n",
       " 'algebraic',\n",
       " 'objects',\n",
       " \"''\",\n",
       " '.',\n",
       " 'gave',\n",
       " 'mathematics',\n",
       " 'whole',\n",
       " 'new',\n",
       " 'development',\n",
       " 'path',\n",
       " 'much',\n",
       " 'broader',\n",
       " 'concept',\n",
       " 'existed',\n",
       " ',',\n",
       " 'provided',\n",
       " 'vehicle',\n",
       " 'future',\n",
       " 'development',\n",
       " 'subject',\n",
       " '.',\n",
       " 'another',\n",
       " 'important',\n",
       " 'aspect',\n",
       " 'introduction',\n",
       " 'algebraic',\n",
       " 'ideas',\n",
       " 'allowed',\n",
       " 'mathematics',\n",
       " 'applied',\n",
       " 'itselfin',\n",
       " 'way',\n",
       " 'happened',\n",
       " '.']"
      ]
     },
     "execution_count": 17,
     "metadata": {},
     "output_type": "execute_result"
    }
   ],
   "source": [
    "filter_english_text = []\n",
    "for word in eng_words:\n",
    "    if word.casefold() not in stop_words_eng:\n",
    "        filter_english_text.append(word)\n",
    "\n",
    "filter_english_text"
   ]
  },
  {
   "cell_type": "code",
   "execution_count": 18,
   "metadata": {},
   "outputs": [
    {
     "data": {
      "text/plain": [
       "['ربما',\n",
       " 'كانت',\n",
       " 'أحد',\n",
       " 'أهم',\n",
       " 'التطورات',\n",
       " 'قامت',\n",
       " 'الرياضيات',\n",
       " 'العربية',\n",
       " 'بدأت',\n",
       " 'الوقت',\n",
       " 'بعمل',\n",
       " 'الخوارزمي',\n",
       " 'وهي',\n",
       " 'بدايات',\n",
       " 'الجبر',\n",
       " ',',\n",
       " 'المهم',\n",
       " 'فهم',\n",
       " 'كانت',\n",
       " 'الفكرة',\n",
       " 'الجديدة',\n",
       " 'مهمة',\n",
       " ',',\n",
       " 'فقد',\n",
       " 'كانت',\n",
       " 'خطوة',\n",
       " 'نورية',\n",
       " 'بعيدا',\n",
       " 'المفهوم',\n",
       " 'اليوناني',\n",
       " 'للرياضيات',\n",
       " 'جوهرها',\n",
       " 'هندسة',\n",
       " ',',\n",
       " 'الجبر',\n",
       " 'کان',\n",
       " 'نظرية',\n",
       " 'موحدة',\n",
       " 'تتيح',\n",
       " 'الأعداد',\n",
       " 'الكسرية',\n",
       " 'والأعداد',\n",
       " 'اللا',\n",
       " 'كسرية',\n",
       " ',',\n",
       " 'والمقادير',\n",
       " 'الهندسية',\n",
       " 'وغيرها',\n",
       " ',',\n",
       " 'تتعامل',\n",
       " 'أنها',\n",
       " 'أجسام',\n",
       " 'جبرية',\n",
       " ',',\n",
       " 'وأعطت',\n",
       " 'الرياضيات',\n",
       " 'ككل',\n",
       " 'مسارا',\n",
       " 'جديدا',\n",
       " 'للتطور',\n",
       " 'بمفهوم',\n",
       " 'أوسع',\n",
       " 'بكثير',\n",
       " 'كان',\n",
       " 'موجودا',\n",
       " 'قبل',\n",
       " ',',\n",
       " 'وقم',\n",
       " 'وسيلة',\n",
       " 'للتنمية',\n",
       " 'الموضوع',\n",
       " 'مستقبلا',\n",
       " '.',\n",
       " 'وجانب',\n",
       " 'آخر',\n",
       " 'مهم',\n",
       " 'لإدخال',\n",
       " 'أفكار',\n",
       " 'الجبر',\n",
       " 'أنه',\n",
       " 'سمح',\n",
       " 'بتطبيق',\n",
       " 'الرياضيات',\n",
       " 'نفسها',\n",
       " 'بطريقة',\n",
       " 'تحدث',\n",
       " 'قبل']"
      ]
     },
     "execution_count": 18,
     "metadata": {},
     "output_type": "execute_result"
    }
   ],
   "source": [
    "# Arabic Text using List Comprehension\n",
    "filter_arabic_text = [\n",
    "    word for word in ar_words if word not in stop_words_ar\n",
    "]\n",
    "\n",
    "filter_arabic_text"
   ]
  },
  {
   "cell_type": "markdown",
   "metadata": {},
   "source": [
    "### Stemming  English Text"
   ]
  },
  {
   "cell_type": "markdown",
   "metadata": {},
   "source": [
    "Prerequisite: Introduction to Stemming\n",
    "Stemming is the process of producing morphological variants of a root/base word. Stemming programs are commonly referred to as stemming algorithms or stemmers. A stemming algorithm reduces the words “chocolates”, “chocolatey”, “choco” to the root word, “chocolate” and “retrieval”, “retrieved”, “retrieves” reduce to the stem “retrieve”.\n",
    "\n",
    "Some more example of stemming for root word \"like\" include:<br>\n",
    "\n",
    "-> \"likes\" <br>\n",
    "-> \"liked\"<br>\n",
    "-> \"likely\"<br>\n",
    "-> \"liking\""
   ]
  },
  {
   "cell_type": "code",
   "execution_count": 19,
   "metadata": {},
   "outputs": [],
   "source": [
    "from nltk.stem import PorterStemmer"
   ]
  },
  {
   "cell_type": "code",
   "execution_count": 20,
   "metadata": {},
   "outputs": [],
   "source": [
    "# you must to Instanciate PorterStemmer Object\n",
    "\n",
    "stem = PorterStemmer()"
   ]
  },
  {
   "cell_type": "code",
   "execution_count": 21,
   "metadata": {},
   "outputs": [
    {
     "data": {
      "text/plain": [
       "['perhap',\n",
       " 'one',\n",
       " 'signific',\n",
       " 'advanc',\n",
       " 'made',\n",
       " 'arab',\n",
       " 'mathemat',\n",
       " 'began',\n",
       " 'time',\n",
       " 'work',\n",
       " 'al-khwarizmi',\n",
       " ',',\n",
       " 'name',\n",
       " 'begin',\n",
       " 'algebra',\n",
       " '.',\n",
       " 'import',\n",
       " 'understand',\n",
       " 'signific',\n",
       " 'new',\n",
       " 'idea',\n",
       " '.',\n",
       " 'revolutionari',\n",
       " 'move',\n",
       " 'away',\n",
       " 'greek',\n",
       " 'concept',\n",
       " 'mathemat',\n",
       " 'essenti',\n",
       " 'geometri',\n",
       " '.',\n",
       " 'algebra',\n",
       " 'unifi',\n",
       " 'theori',\n",
       " 'allowedr',\n",
       " 'number',\n",
       " ',',\n",
       " 'irrat',\n",
       " 'number',\n",
       " ',',\n",
       " 'geometr',\n",
       " 'magnitud',\n",
       " ',',\n",
       " 'etc.',\n",
       " ',',\n",
       " 'treat',\n",
       " '``',\n",
       " 'algebra',\n",
       " 'object',\n",
       " \"''\",\n",
       " '.',\n",
       " 'gave',\n",
       " 'mathemat',\n",
       " 'whole',\n",
       " 'new',\n",
       " 'develop',\n",
       " 'path',\n",
       " 'much',\n",
       " 'broader',\n",
       " 'concept',\n",
       " 'exist',\n",
       " ',',\n",
       " 'provid',\n",
       " 'vehicl',\n",
       " 'futur',\n",
       " 'develop',\n",
       " 'subject',\n",
       " '.',\n",
       " 'anoth',\n",
       " 'import',\n",
       " 'aspect',\n",
       " 'introduct',\n",
       " 'algebra',\n",
       " 'idea',\n",
       " 'allow',\n",
       " 'mathemat',\n",
       " 'appli',\n",
       " 'itselfin',\n",
       " 'way',\n",
       " 'happen',\n",
       " '.']"
      ]
     },
     "execution_count": 21,
     "metadata": {},
     "output_type": "execute_result"
    }
   ],
   "source": [
    "english_words_stem = [stem.stem(word) for word in filter_english_text]\n",
    "english_words_stem"
   ]
  },
  {
   "cell_type": "markdown",
   "metadata": {},
   "source": [
    "### Stemming  Arabic Text"
   ]
  },
  {
   "cell_type": "code",
   "execution_count": 22,
   "metadata": {},
   "outputs": [],
   "source": [
    "from snowballstemmer import stemmer"
   ]
  },
  {
   "cell_type": "code",
   "execution_count": 23,
   "metadata": {},
   "outputs": [
    {
     "data": {
      "text/plain": [
       "['ربم',\n",
       " 'كان',\n",
       " 'احد',\n",
       " 'اهم',\n",
       " 'تطور',\n",
       " 'قام',\n",
       " 'رياض',\n",
       " 'عرب',\n",
       " 'بدء',\n",
       " 'وقت',\n",
       " 'عمل',\n",
       " 'خوارزم',\n",
       " 'وه',\n",
       " 'دايا',\n",
       " 'جبر',\n",
       " ',',\n",
       " 'مهم',\n",
       " 'فهم',\n",
       " 'كان',\n",
       " 'فكر',\n",
       " 'جديد',\n",
       " 'مهم',\n",
       " ',',\n",
       " 'فقد',\n",
       " 'كان',\n",
       " 'خطو',\n",
       " 'نور',\n",
       " 'عيد',\n",
       " 'مفهوم',\n",
       " 'يونان',\n",
       " 'رياض',\n",
       " 'جوهر',\n",
       " 'هندس',\n",
       " ',',\n",
       " 'جبر',\n",
       " 'کان',\n",
       " 'نظر',\n",
       " 'موحد',\n",
       " 'تتيح',\n",
       " 'اعداد',\n",
       " 'كسر',\n",
       " 'والاعداد',\n",
       " 'اللا',\n",
       " 'كسر',\n",
       " ',',\n",
       " 'والمقادير',\n",
       " 'هندس',\n",
       " 'غير',\n",
       " ',',\n",
       " 'تتعامل',\n",
       " 'انه',\n",
       " 'اجسام',\n",
       " 'جبر',\n",
       " ',',\n",
       " 'اعط',\n",
       " 'رياض',\n",
       " 'ككل',\n",
       " 'مسار',\n",
       " 'جديد',\n",
       " 'تطور',\n",
       " 'مفهوم',\n",
       " 'اوسع',\n",
       " 'كثير',\n",
       " 'كان',\n",
       " 'موجود',\n",
       " 'قبل',\n",
       " ',',\n",
       " 'وقم',\n",
       " 'سيل',\n",
       " 'تنم',\n",
       " 'موضوع',\n",
       " 'مستقبل',\n",
       " '.',\n",
       " 'جانب',\n",
       " 'اخر',\n",
       " 'مهم',\n",
       " 'لادخال',\n",
       " 'افكار',\n",
       " 'جبر',\n",
       " 'انه',\n",
       " 'سمح',\n",
       " 'تطبيق',\n",
       " 'رياض',\n",
       " 'نفس',\n",
       " 'طريق',\n",
       " 'تحدث',\n",
       " 'قبل']"
      ]
     },
     "execution_count": 23,
     "metadata": {},
     "output_type": "execute_result"
    }
   ],
   "source": [
    "ar_stemmer = stemmer(\"arabic\")\n",
    "\n",
    "arabic_words_stem = [ar_stemmer.stemWord(ar_word) for ar_word in filter_arabic_text]\n",
    "arabic_words_stem"
   ]
  },
  {
   "cell_type": "markdown",
   "metadata": {},
   "source": [
    "<b>Understemming</b> happens when two related words should be reduced to the same stem but aren’t. This is a false negative.\n",
    "<b>Overstemming</b> happens when two unrelated words are reduced to the same stem even though they shouldn’t be. This is a false positive."
   ]
  },
  {
   "cell_type": "markdown",
   "metadata": {},
   "source": [
    "### Part Tagging Parts of Speech"
   ]
  },
  {
   "cell_type": "markdown",
   "metadata": {},
   "source": [
    "POS tagging, is the task of labeling the words in your text according to their part of speech."
   ]
  },
  {
   "cell_type": "code",
   "execution_count": 24,
   "metadata": {},
   "outputs": [
    {
     "data": {
      "text/plain": [
       "[('perhaps', 'RB'),\n",
       " ('one', 'CD'),\n",
       " ('of', 'IN'),\n",
       " ('the', 'DT'),\n",
       " ('most', 'RBS'),\n",
       " ('significant', 'JJ'),\n",
       " ('advances', 'NNS'),\n",
       " ('made', 'VBN'),\n",
       " ('by', 'IN'),\n",
       " ('arabic', 'JJ'),\n",
       " ('mathematics', 'NNS'),\n",
       " ('began', 'VBD'),\n",
       " ('at', 'IN'),\n",
       " ('this', 'DT'),\n",
       " ('time', 'NN'),\n",
       " ('with', 'IN'),\n",
       " ('the', 'DT'),\n",
       " ('work', 'NN'),\n",
       " ('of', 'IN'),\n",
       " ('al-khwarizmi', 'JJ'),\n",
       " (',', ','),\n",
       " ('namely', 'RB'),\n",
       " ('the', 'DT'),\n",
       " ('beginnings', 'NNS'),\n",
       " ('of', 'IN'),\n",
       " ('algebra', 'NN'),\n",
       " ('.', '.'),\n",
       " ('it', 'PRP'),\n",
       " ('is', 'VBZ'),\n",
       " ('important', 'JJ'),\n",
       " ('to', 'TO'),\n",
       " ('understand', 'VB'),\n",
       " ('just', 'RB'),\n",
       " ('how', 'WRB'),\n",
       " ('significant', 'JJ'),\n",
       " ('this', 'DT'),\n",
       " ('new', 'JJ'),\n",
       " ('idea', 'NN'),\n",
       " ('was', 'VBD'),\n",
       " ('.', '.'),\n",
       " ('it', 'PRP'),\n",
       " ('was', 'VBD'),\n",
       " ('a', 'DT'),\n",
       " ('revolutionary', 'JJ'),\n",
       " ('move', 'NN'),\n",
       " ('away', 'RB'),\n",
       " ('from', 'IN'),\n",
       " ('the', 'DT'),\n",
       " ('greek', 'JJ'),\n",
       " ('concept', 'NN'),\n",
       " ('of', 'IN'),\n",
       " ('mathematics', 'NNS'),\n",
       " ('which', 'WDT'),\n",
       " ('was', 'VBD'),\n",
       " ('essentially', 'RB'),\n",
       " ('geometry', 'JJ'),\n",
       " ('.', '.'),\n",
       " ('algebra', 'NN'),\n",
       " ('was', 'VBD'),\n",
       " ('a', 'DT'),\n",
       " ('unifying', 'JJ'),\n",
       " ('theory', 'NN'),\n",
       " ('which', 'WDT'),\n",
       " ('allowedrational', 'JJ'),\n",
       " ('numbers', 'NNS'),\n",
       " (',', ','),\n",
       " ('irrational', 'JJ'),\n",
       " ('numbers', 'NNS'),\n",
       " (',', ','),\n",
       " ('geometrical', 'JJ'),\n",
       " ('magnitudes', 'NNS'),\n",
       " (',', ','),\n",
       " ('etc.', 'NN'),\n",
       " (',', ','),\n",
       " ('to', 'TO'),\n",
       " ('all', 'DT'),\n",
       " ('be', 'VB'),\n",
       " ('treated', 'VBN'),\n",
       " ('as', 'IN'),\n",
       " ('``', '``'),\n",
       " ('algebraic', 'JJ'),\n",
       " ('objects', 'NNS'),\n",
       " (\"''\", \"''\"),\n",
       " ('.', '.'),\n",
       " ('it', 'PRP'),\n",
       " ('gave', 'VBD'),\n",
       " ('mathematics', 'NNS'),\n",
       " ('a', 'DT'),\n",
       " ('whole', 'JJ'),\n",
       " ('new', 'JJ'),\n",
       " ('development', 'NN'),\n",
       " ('path', 'NN'),\n",
       " ('so', 'RB'),\n",
       " ('much', 'JJ'),\n",
       " ('broader', 'JJR'),\n",
       " ('in', 'IN'),\n",
       " ('concept', 'NN'),\n",
       " ('to', 'TO'),\n",
       " ('that', 'DT'),\n",
       " ('which', 'WDT'),\n",
       " ('had', 'VBD'),\n",
       " ('existed', 'VBN'),\n",
       " ('before', 'IN'),\n",
       " (',', ','),\n",
       " ('and', 'CC'),\n",
       " ('provided', 'VBD'),\n",
       " ('a', 'DT'),\n",
       " ('vehicle', 'NN'),\n",
       " ('for', 'IN'),\n",
       " ('future', 'JJ'),\n",
       " ('development', 'NN'),\n",
       " ('of', 'IN'),\n",
       " ('the', 'DT'),\n",
       " ('subject', 'NN'),\n",
       " ('.', '.'),\n",
       " ('another', 'DT'),\n",
       " ('important', 'JJ'),\n",
       " ('aspect', 'NN'),\n",
       " ('of', 'IN'),\n",
       " ('the', 'DT'),\n",
       " ('introduction', 'NN'),\n",
       " ('of', 'IN'),\n",
       " ('algebraic', 'JJ'),\n",
       " ('ideas', 'NNS'),\n",
       " ('was', 'VBD'),\n",
       " ('that', 'IN'),\n",
       " ('it', 'PRP'),\n",
       " ('allowed', 'VBD'),\n",
       " ('mathematics', 'NNS'),\n",
       " ('to', 'TO'),\n",
       " ('be', 'VB'),\n",
       " ('applied', 'VBN'),\n",
       " ('to', 'TO'),\n",
       " ('itselfin', 'VB'),\n",
       " ('a', 'DT'),\n",
       " ('way', 'NN'),\n",
       " ('which', 'WDT'),\n",
       " ('had', 'VBD'),\n",
       " ('not', 'RB'),\n",
       " ('happened', 'VBN'),\n",
       " ('before', 'IN'),\n",
       " ('.', '.')]"
      ]
     },
     "execution_count": 24,
     "metadata": {},
     "output_type": "execute_result"
    }
   ],
   "source": [
    "\n",
    "eng_pos_tag = nltk.pos_tag(eng_words)\n",
    "eng_pos_tag"
   ]
  },
  {
   "cell_type": "code",
   "execution_count": 25,
   "metadata": {},
   "outputs": [
    {
     "name": "stdout",
     "output_type": "stream",
     "text": [
      "$: dollar\n",
      "    $ -$ --$ A$ C$ HK$ M$ NZ$ S$ U.S.$ US$\n",
      "'': closing quotation mark\n",
      "    ' ''\n",
      "(: opening parenthesis\n",
      "    ( [ {\n",
      "): closing parenthesis\n",
      "    ) ] }\n",
      ",: comma\n",
      "    ,\n",
      "--: dash\n",
      "    --\n",
      ".: sentence terminator\n",
      "    . ! ?\n",
      ":: colon or ellipsis\n",
      "    : ; ...\n",
      "CC: conjunction, coordinating\n",
      "    & 'n and both but either et for less minus neither nor or plus so\n",
      "    therefore times v. versus vs. whether yet\n",
      "CD: numeral, cardinal\n",
      "    mid-1890 nine-thirty forty-two one-tenth ten million 0.5 one forty-\n",
      "    seven 1987 twenty '79 zero two 78-degrees eighty-four IX '60s .025\n",
      "    fifteen 271,124 dozen quintillion DM2,000 ...\n",
      "DT: determiner\n",
      "    all an another any both del each either every half la many much nary\n",
      "    neither no some such that the them these this those\n",
      "EX: existential there\n",
      "    there\n",
      "FW: foreign word\n",
      "    gemeinschaft hund ich jeux habeas Haementeria Herr K'ang-si vous\n",
      "    lutihaw alai je jour objets salutaris fille quibusdam pas trop Monte\n",
      "    terram fiche oui corporis ...\n",
      "IN: preposition or conjunction, subordinating\n",
      "    astride among uppon whether out inside pro despite on by throughout\n",
      "    below within for towards near behind atop around if like until below\n",
      "    next into if beside ...\n",
      "JJ: adjective or numeral, ordinal\n",
      "    third ill-mannered pre-war regrettable oiled calamitous first separable\n",
      "    ectoplasmic battery-powered participatory fourth still-to-be-named\n",
      "    multilingual multi-disciplinary ...\n",
      "JJR: adjective, comparative\n",
      "    bleaker braver breezier briefer brighter brisker broader bumper busier\n",
      "    calmer cheaper choosier cleaner clearer closer colder commoner costlier\n",
      "    cozier creamier crunchier cuter ...\n",
      "JJS: adjective, superlative\n",
      "    calmest cheapest choicest classiest cleanest clearest closest commonest\n",
      "    corniest costliest crassest creepiest crudest cutest darkest deadliest\n",
      "    dearest deepest densest dinkiest ...\n",
      "LS: list item marker\n",
      "    A A. B B. C C. D E F First G H I J K One SP-44001 SP-44002 SP-44005\n",
      "    SP-44007 Second Third Three Two * a b c d first five four one six three\n",
      "    two\n",
      "MD: modal auxiliary\n",
      "    can cannot could couldn't dare may might must need ought shall should\n",
      "    shouldn't will would\n",
      "NN: noun, common, singular or mass\n",
      "    common-carrier cabbage knuckle-duster Casino afghan shed thermostat\n",
      "    investment slide humour falloff slick wind hyena override subhumanity\n",
      "    machinist ...\n",
      "NNP: noun, proper, singular\n",
      "    Motown Venneboerger Czestochwa Ranzer Conchita Trumplane Christos\n",
      "    Oceanside Escobar Kreisler Sawyer Cougar Yvette Ervin ODI Darryl CTCA\n",
      "    Shannon A.K.C. Meltex Liverpool ...\n",
      "NNPS: noun, proper, plural\n",
      "    Americans Americas Amharas Amityvilles Amusements Anarcho-Syndicalists\n",
      "    Andalusians Andes Andruses Angels Animals Anthony Antilles Antiques\n",
      "    Apache Apaches Apocrypha ...\n",
      "NNS: noun, common, plural\n",
      "    undergraduates scotches bric-a-brac products bodyguards facets coasts\n",
      "    divestitures storehouses designs clubs fragrances averages\n",
      "    subjectivists apprehensions muses factory-jobs ...\n",
      "PDT: pre-determiner\n",
      "    all both half many quite such sure this\n",
      "POS: genitive marker\n",
      "    ' 's\n",
      "PRP: pronoun, personal\n",
      "    hers herself him himself hisself it itself me myself one oneself ours\n",
      "    ourselves ownself self she thee theirs them themselves they thou thy us\n",
      "PRP$: pronoun, possessive\n",
      "    her his mine my our ours their thy your\n",
      "RB: adverb\n",
      "    occasionally unabatingly maddeningly adventurously professedly\n",
      "    stirringly prominently technologically magisterially predominately\n",
      "    swiftly fiscally pitilessly ...\n",
      "RBR: adverb, comparative\n",
      "    further gloomier grander graver greater grimmer harder harsher\n",
      "    healthier heavier higher however larger later leaner lengthier less-\n",
      "    perfectly lesser lonelier longer louder lower more ...\n",
      "RBS: adverb, superlative\n",
      "    best biggest bluntest earliest farthest first furthest hardest\n",
      "    heartiest highest largest least less most nearest second tightest worst\n",
      "RP: particle\n",
      "    aboard about across along apart around aside at away back before behind\n",
      "    by crop down ever fast for forth from go high i.e. in into just later\n",
      "    low more off on open out over per pie raising start teeth that through\n",
      "    under unto up up-pp upon whole with you\n",
      "SYM: symbol\n",
      "    % & ' '' ''. ) ). * + ,. < = > @ A[fj] U.S U.S.S.R * ** ***\n",
      "TO: \"to\" as preposition or infinitive marker\n",
      "    to\n",
      "UH: interjection\n",
      "    Goodbye Goody Gosh Wow Jeepers Jee-sus Hubba Hey Kee-reist Oops amen\n",
      "    huh howdy uh dammit whammo shucks heck anyways whodunnit honey golly\n",
      "    man baby diddle hush sonuvabitch ...\n",
      "VB: verb, base form\n",
      "    ask assemble assess assign assume atone attention avoid bake balkanize\n",
      "    bank begin behold believe bend benefit bevel beware bless boil bomb\n",
      "    boost brace break bring broil brush build ...\n",
      "VBD: verb, past tense\n",
      "    dipped pleaded swiped regummed soaked tidied convened halted registered\n",
      "    cushioned exacted snubbed strode aimed adopted belied figgered\n",
      "    speculated wore appreciated contemplated ...\n",
      "VBG: verb, present participle or gerund\n",
      "    telegraphing stirring focusing angering judging stalling lactating\n",
      "    hankerin' alleging veering capping approaching traveling besieging\n",
      "    encrypting interrupting erasing wincing ...\n",
      "VBN: verb, past participle\n",
      "    multihulled dilapidated aerosolized chaired languished panelized used\n",
      "    experimented flourished imitated reunifed factored condensed sheared\n",
      "    unsettled primed dubbed desired ...\n",
      "VBP: verb, present tense, not 3rd person singular\n",
      "    predominate wrap resort sue twist spill cure lengthen brush terminate\n",
      "    appear tend stray glisten obtain comprise detest tease attract\n",
      "    emphasize mold postpone sever return wag ...\n",
      "VBZ: verb, present tense, 3rd person singular\n",
      "    bases reconstructs marks mixes displeases seals carps weaves snatches\n",
      "    slumps stretches authorizes smolders pictures emerges stockpiles\n",
      "    seduces fizzes uses bolsters slaps speaks pleads ...\n",
      "WDT: WH-determiner\n",
      "    that what whatever which whichever\n",
      "WP: WH-pronoun\n",
      "    that what whatever whatsoever which who whom whosoever\n",
      "WP$: WH-pronoun, possessive\n",
      "    whose\n",
      "WRB: Wh-adverb\n",
      "    how however whence whenever where whereby whereever wherein whereof why\n",
      "``: opening quotation mark\n",
      "    ` ``\n"
     ]
    }
   ],
   "source": [
    "# if you want to know the meaning about the abreviation in pos tagging just type this comande \n",
    "nltk.help.upenn_tagset()"
   ]
  },
  {
   "cell_type": "code",
   "execution_count": 26,
   "metadata": {},
   "outputs": [
    {
     "data": {
      "text/plain": [
       "[('ربما', 'JJ'),\n",
       " ('كانت', 'NNP'),\n",
       " ('أحد', 'NNP'),\n",
       " ('أهم', 'NNP'),\n",
       " ('التطورات', 'NNP'),\n",
       " ('التي', 'NNP'),\n",
       " ('قامت', 'NNP'),\n",
       " ('بها', 'NNP'),\n",
       " ('الرياضيات', 'NNP'),\n",
       " ('العربية', 'NNP'),\n",
       " ('التي', 'NNP'),\n",
       " ('بدأت', 'NNP'),\n",
       " ('في', 'NNP'),\n",
       " ('هذا', 'NNP'),\n",
       " ('الوقت', 'NNP'),\n",
       " ('بعمل', 'NNP'),\n",
       " ('الخوارزمي', 'NNP'),\n",
       " ('وهي', 'NNP'),\n",
       " ('بدايات', 'NNP'),\n",
       " ('الجبر', 'NNP'),\n",
       " (',', ','),\n",
       " ('ومن', 'NNP'),\n",
       " ('المهم', 'NNP'),\n",
       " ('فهم', 'NNP'),\n",
       " ('كيف', 'NNP'),\n",
       " ('كانت', 'NNP'),\n",
       " ('هذه', 'NNP'),\n",
       " ('الفكرة', 'NNP'),\n",
       " ('الجديدة', 'NNP'),\n",
       " ('مهمة', 'NNP'),\n",
       " (',', ','),\n",
       " ('فقد', 'NNP'),\n",
       " ('كانت', 'NNP'),\n",
       " ('خطوة', 'NNP'),\n",
       " ('نورية', 'NNP'),\n",
       " ('بعيدا', 'NNP'),\n",
       " ('عن', 'NNP'),\n",
       " ('المفهوم', 'NNP'),\n",
       " ('اليوناني', 'NNP'),\n",
       " ('للرياضيات', 'NNP'),\n",
       " ('التي', 'NNP'),\n",
       " ('هي', 'NNP'),\n",
       " ('في', 'NNP'),\n",
       " ('جوهرها', 'NNP'),\n",
       " ('هندسة', 'NNP'),\n",
       " (',', ','),\n",
       " ('الجبر', 'NNP'),\n",
       " ('کان', 'NNP'),\n",
       " ('نظرية', 'NNP'),\n",
       " ('موحدة', 'NNP'),\n",
       " ('تتيح', 'NNP'),\n",
       " ('الأعداد', 'NNP'),\n",
       " ('الكسرية', 'NNP'),\n",
       " ('والأعداد', 'NNP'),\n",
       " ('اللا', 'NNP'),\n",
       " ('كسرية', 'NNP'),\n",
       " (',', ','),\n",
       " ('والمقادير', 'NNP'),\n",
       " ('الهندسية', 'NNP'),\n",
       " ('وغيرها', 'NNP'),\n",
       " (',', ','),\n",
       " ('أن', 'NNP'),\n",
       " ('تتعامل', 'NNP'),\n",
       " ('على', 'NNP'),\n",
       " ('أنها', 'NNP'),\n",
       " ('أجسام', 'NNP'),\n",
       " ('جبرية', 'NNP'),\n",
       " (',', ','),\n",
       " ('وأعطت', 'NNP'),\n",
       " ('الرياضيات', 'NNP'),\n",
       " ('ككل', 'NNP'),\n",
       " ('مسارا', 'NNP'),\n",
       " ('جديدا', 'NNP'),\n",
       " ('للتطور', 'NNP'),\n",
       " ('بمفهوم', 'NNP'),\n",
       " ('أوسع', 'NNP'),\n",
       " ('بكثير', 'NNP'),\n",
       " ('من', 'NNP'),\n",
       " ('الذي', 'NNP'),\n",
       " ('كان', 'NNP'),\n",
       " ('موجودا', 'NNP'),\n",
       " ('من', 'NNP'),\n",
       " ('قبل', 'NNP'),\n",
       " (',', ','),\n",
       " ('وقم', 'NNP'),\n",
       " ('وسيلة', 'NNP'),\n",
       " ('للتنمية', 'NNP'),\n",
       " ('في', 'NNP'),\n",
       " ('هذا', 'NNP'),\n",
       " ('الموضوع', 'NNP'),\n",
       " ('مستقبلا', 'NNP'),\n",
       " ('.', '.'),\n",
       " ('وجانب', 'VB'),\n",
       " ('آخر', 'JJ'),\n",
       " ('مهم', 'NNP'),\n",
       " ('لإدخال', 'NNP'),\n",
       " ('أفكار', 'NNP'),\n",
       " ('الجبر', 'NNP'),\n",
       " ('وهو', 'NNP'),\n",
       " ('أنه', 'NNP'),\n",
       " ('سمح', 'NNP'),\n",
       " ('بتطبيق', 'NNP'),\n",
       " ('الرياضيات', 'NNP'),\n",
       " ('على', 'NNP'),\n",
       " ('نفسها', 'NNP'),\n",
       " ('بطريقة', 'NNP'),\n",
       " ('لم', 'NNP'),\n",
       " ('تحدث', 'NNP'),\n",
       " ('من', 'NNP'),\n",
       " ('قبل', 'NN')]"
      ]
     },
     "execution_count": 26,
     "metadata": {},
     "output_type": "execute_result"
    }
   ],
   "source": [
    "ar_pos_tag = nltk.pos_tag(ar_words) \n",
    "ar_pos_tag\n"
   ]
  },
  {
   "cell_type": "markdown",
   "metadata": {},
   "source": [
    "### Lemmatizing"
   ]
  },
  {
   "cell_type": "markdown",
   "metadata": {},
   "source": [
    "A lemma is a word that represents a whole group of words, and that group of words is called a lexeme."
   ]
  },
  {
   "cell_type": "code",
   "execution_count": 27,
   "metadata": {},
   "outputs": [],
   "source": [
    "from nltk.stem import WordNetLemmatizer"
   ]
  },
  {
   "cell_type": "code",
   "execution_count": 28,
   "metadata": {},
   "outputs": [],
   "source": [
    "lemmatizer = WordNetLemmatizer()"
   ]
  },
  {
   "cell_type": "code",
   "execution_count": 29,
   "metadata": {},
   "outputs": [],
   "source": [
    "lemmatized_words = [lemmatizer.lemmatize(word) for word in eng_words]"
   ]
  },
  {
   "cell_type": "code",
   "execution_count": 30,
   "metadata": {},
   "outputs": [
    {
     "data": {
      "text/plain": [
       "['perhaps',\n",
       " 'one',\n",
       " 'of',\n",
       " 'the',\n",
       " 'most',\n",
       " 'significant',\n",
       " 'advance',\n",
       " 'made',\n",
       " 'by',\n",
       " 'arabic',\n",
       " 'mathematics',\n",
       " 'began',\n",
       " 'at',\n",
       " 'this',\n",
       " 'time',\n",
       " 'with',\n",
       " 'the',\n",
       " 'work',\n",
       " 'of',\n",
       " 'al-khwarizmi',\n",
       " ',',\n",
       " 'namely',\n",
       " 'the',\n",
       " 'beginning',\n",
       " 'of',\n",
       " 'algebra',\n",
       " '.',\n",
       " 'it',\n",
       " 'is',\n",
       " 'important',\n",
       " 'to',\n",
       " 'understand',\n",
       " 'just',\n",
       " 'how',\n",
       " 'significant',\n",
       " 'this',\n",
       " 'new',\n",
       " 'idea',\n",
       " 'wa',\n",
       " '.',\n",
       " 'it',\n",
       " 'wa',\n",
       " 'a',\n",
       " 'revolutionary',\n",
       " 'move',\n",
       " 'away',\n",
       " 'from',\n",
       " 'the',\n",
       " 'greek',\n",
       " 'concept',\n",
       " 'of',\n",
       " 'mathematics',\n",
       " 'which',\n",
       " 'wa',\n",
       " 'essentially',\n",
       " 'geometry',\n",
       " '.',\n",
       " 'algebra',\n",
       " 'wa',\n",
       " 'a',\n",
       " 'unifying',\n",
       " 'theory',\n",
       " 'which',\n",
       " 'allowedrational',\n",
       " 'number',\n",
       " ',',\n",
       " 'irrational',\n",
       " 'number',\n",
       " ',',\n",
       " 'geometrical',\n",
       " 'magnitude',\n",
       " ',',\n",
       " 'etc.',\n",
       " ',',\n",
       " 'to',\n",
       " 'all',\n",
       " 'be',\n",
       " 'treated',\n",
       " 'a',\n",
       " '``',\n",
       " 'algebraic',\n",
       " 'object',\n",
       " \"''\",\n",
       " '.',\n",
       " 'it',\n",
       " 'gave',\n",
       " 'mathematics',\n",
       " 'a',\n",
       " 'whole',\n",
       " 'new',\n",
       " 'development',\n",
       " 'path',\n",
       " 'so',\n",
       " 'much',\n",
       " 'broader',\n",
       " 'in',\n",
       " 'concept',\n",
       " 'to',\n",
       " 'that',\n",
       " 'which',\n",
       " 'had',\n",
       " 'existed',\n",
       " 'before',\n",
       " ',',\n",
       " 'and',\n",
       " 'provided',\n",
       " 'a',\n",
       " 'vehicle',\n",
       " 'for',\n",
       " 'future',\n",
       " 'development',\n",
       " 'of',\n",
       " 'the',\n",
       " 'subject',\n",
       " '.',\n",
       " 'another',\n",
       " 'important',\n",
       " 'aspect',\n",
       " 'of',\n",
       " 'the',\n",
       " 'introduction',\n",
       " 'of',\n",
       " 'algebraic',\n",
       " 'idea',\n",
       " 'wa',\n",
       " 'that',\n",
       " 'it',\n",
       " 'allowed',\n",
       " 'mathematics',\n",
       " 'to',\n",
       " 'be',\n",
       " 'applied',\n",
       " 'to',\n",
       " 'itselfin',\n",
       " 'a',\n",
       " 'way',\n",
       " 'which',\n",
       " 'had',\n",
       " 'not',\n",
       " 'happened',\n",
       " 'before',\n",
       " '.']"
      ]
     },
     "execution_count": 30,
     "metadata": {},
     "output_type": "execute_result"
    }
   ],
   "source": [
    "lemmatized_words"
   ]
  },
  {
   "cell_type": "markdown",
   "metadata": {},
   "source": [
    "### Chunking"
   ]
  },
  {
   "cell_type": "markdown",
   "metadata": {},
   "source": [
    "While <b>tokenizing</b> allows you to identify words and sentences, <b>chunking</b> allows you to identify phrases."
   ]
  },
  {
   "cell_type": "code",
   "execution_count": 31,
   "metadata": {},
   "outputs": [],
   "source": [
    "grammar = \"NP: {<DT>?<JJ>*<NN>}\""
   ]
  },
  {
   "cell_type": "markdown",
   "metadata": {},
   "source": [
    "<b>NP</b> stands for noun phrase\n",
    "       \n",
    "        Start with an optional (?) determiner ('DT')\n",
    "        Can have any number (*) of adjectives (JJ)\n",
    "        End with a noun (<NN>)"
   ]
  },
  {
   "cell_type": "code",
   "execution_count": 32,
   "metadata": {},
   "outputs": [],
   "source": [
    "chunk_parser = nltk.RegexpParser(grammar)\n"
   ]
  },
  {
   "cell_type": "code",
   "execution_count": 33,
   "metadata": {},
   "outputs": [
    {
     "name": "stdout",
     "output_type": "stream",
     "text": [
      "Requirement already satisfied: ghostscript in g:\\master iddlo\\anaconda\\lib\\site-packages (0.7)\n",
      "Requirement already satisfied: setuptools>=38.6.0 in g:\\master iddlo\\anaconda\\lib\\site-packages (from ghostscript) (52.0.0.post20210125)\n"
     ]
    }
   ],
   "source": [
    "!pip install  ghostscript"
   ]
  },
  {
   "cell_type": "code",
   "execution_count": 34,
   "metadata": {},
   "outputs": [
    {
     "ename": "RuntimeError",
     "evalue": "Can not find Ghostscript DLL in registry",
     "output_type": "error",
     "traceback": [
      "\u001b[1;31m---------------------------------------------------------------------------\u001b[0m",
      "\u001b[1;31mRuntimeError\u001b[0m                              Traceback (most recent call last)",
      "\u001b[1;32m<ipython-input-34-abf8266a5d3f>\u001b[0m in \u001b[0;36m<module>\u001b[1;34m\u001b[0m\n\u001b[1;32m----> 1\u001b[1;33m \u001b[1;32mimport\u001b[0m \u001b[0mghostscript\u001b[0m\u001b[1;33m\u001b[0m\u001b[1;33m\u001b[0m\u001b[0m\n\u001b[0m",
      "\u001b[1;32mG:\\MASTER IDDLO\\anaconda\\lib\\site-packages\\ghostscript\\__init__.py\u001b[0m in \u001b[0;36m<module>\u001b[1;34m\u001b[0m\n\u001b[0;32m     30\u001b[0m \u001b[1;33m\u001b[0m\u001b[0m\n\u001b[0;32m     31\u001b[0m \u001b[1;32mimport\u001b[0m \u001b[0msys\u001b[0m \u001b[1;31m# :todo: remove, debugging only\u001b[0m\u001b[1;33m\u001b[0m\u001b[1;33m\u001b[0m\u001b[0m\n\u001b[1;32m---> 32\u001b[1;33m \u001b[1;32mfrom\u001b[0m \u001b[1;33m.\u001b[0m \u001b[1;32mimport\u001b[0m \u001b[0m_gsprint\u001b[0m \u001b[1;32mas\u001b[0m \u001b[0mgs\u001b[0m\u001b[1;33m\u001b[0m\u001b[1;33m\u001b[0m\u001b[0m\n\u001b[0m\u001b[0;32m     33\u001b[0m \u001b[0m__version__\u001b[0m \u001b[1;33m=\u001b[0m \u001b[0mgs\u001b[0m\u001b[1;33m.\u001b[0m\u001b[0m__version__\u001b[0m\u001b[1;33m\u001b[0m\u001b[1;33m\u001b[0m\u001b[0m\n\u001b[0;32m     34\u001b[0m \u001b[1;33m\u001b[0m\u001b[0m\n",
      "\u001b[1;32mG:\\MASTER IDDLO\\anaconda\\lib\\site-packages\\ghostscript\\_gsprint.py\u001b[0m in \u001b[0;36m<module>\u001b[1;34m\u001b[0m\n\u001b[0;32m    518\u001b[0m     \u001b[0mlibgs\u001b[0m \u001b[1;33m=\u001b[0m \u001b[0m__win32_finddll\u001b[0m\u001b[1;33m(\u001b[0m\u001b[1;33m)\u001b[0m\u001b[1;33m\u001b[0m\u001b[1;33m\u001b[0m\u001b[0m\n\u001b[0;32m    519\u001b[0m     \u001b[1;32mif\u001b[0m \u001b[1;32mnot\u001b[0m \u001b[0mlibgs\u001b[0m\u001b[1;33m:\u001b[0m\u001b[1;33m\u001b[0m\u001b[1;33m\u001b[0m\u001b[0m\n\u001b[1;32m--> 520\u001b[1;33m         \u001b[1;32mraise\u001b[0m \u001b[0mRuntimeError\u001b[0m\u001b[1;33m(\u001b[0m\u001b[1;34m'Can not find Ghostscript DLL in registry'\u001b[0m\u001b[1;33m)\u001b[0m\u001b[1;33m\u001b[0m\u001b[1;33m\u001b[0m\u001b[0m\n\u001b[0m\u001b[0;32m    521\u001b[0m     \u001b[0mlibgs\u001b[0m \u001b[1;33m=\u001b[0m \u001b[0mwindll\u001b[0m\u001b[1;33m.\u001b[0m\u001b[0mLoadLibrary\u001b[0m\u001b[1;33m(\u001b[0m\u001b[0mlibgs\u001b[0m\u001b[1;33m)\u001b[0m\u001b[1;33m\u001b[0m\u001b[1;33m\u001b[0m\u001b[0m\n\u001b[0;32m    522\u001b[0m \u001b[1;32melse\u001b[0m\u001b[1;33m:\u001b[0m\u001b[1;33m\u001b[0m\u001b[1;33m\u001b[0m\u001b[0m\n",
      "\u001b[1;31mRuntimeError\u001b[0m: Can not find Ghostscript DLL in registry"
     ]
    }
   ],
   "source": [
    "\n",
    "import ghostscript "
   ]
  },
  {
   "cell_type": "code",
   "execution_count": null,
   "metadata": {},
   "outputs": [],
   "source": [
    "chunk_parser.parse(eng_pos_tag)"
   ]
  },
  {
   "cell_type": "code",
   "execution_count": null,
   "metadata": {},
   "outputs": [],
   "source": [
    "%matplotlib inline\n",
    "tree.draw()"
   ]
  },
  {
   "cell_type": "markdown",
   "metadata": {},
   "source": [
    "### Printing Dependencies"
   ]
  },
  {
   "cell_type": "code",
   "execution_count": 35,
   "metadata": {},
   "outputs": [
    {
     "name": "stdout",
     "output_type": "stream",
     "text": [
      "Requirement already satisfied: watermark in g:\\master iddlo\\anaconda\\lib\\site-packages (2.2.0)\n",
      "Requirement already satisfied: ipython in g:\\master iddlo\\anaconda\\lib\\site-packages (from watermark) (7.22.0)\n",
      "Requirement already satisfied: colorama in g:\\master iddlo\\anaconda\\lib\\site-packages (from ipython->watermark) (0.4.4)\n",
      "Requirement already satisfied: prompt-toolkit!=3.0.0,!=3.0.1,<3.1.0,>=2.0.0 in g:\\master iddlo\\anaconda\\lib\\site-packages (from ipython->watermark) (3.0.17)\n",
      "Requirement already satisfied: pygments in g:\\master iddlo\\anaconda\\lib\\site-packages (from ipython->watermark) (2.8.1)\n",
      "Requirement already satisfied: jedi>=0.16 in g:\\master iddlo\\anaconda\\lib\\site-packages (from ipython->watermark) (0.17.2)\n",
      "Requirement already satisfied: backcall in g:\\master iddlo\\anaconda\\lib\\site-packages (from ipython->watermark) (0.2.0)\n",
      "Requirement already satisfied: pickleshare in g:\\master iddlo\\anaconda\\lib\\site-packages (from ipython->watermark) (0.7.5)\n",
      "Requirement already satisfied: decorator in g:\\master iddlo\\anaconda\\lib\\site-packages (from ipython->watermark) (5.0.6)\n",
      "Requirement already satisfied: setuptools>=18.5 in g:\\master iddlo\\anaconda\\lib\\site-packages (from ipython->watermark) (52.0.0.post20210125)\n",
      "Requirement already satisfied: traitlets>=4.2 in g:\\master iddlo\\anaconda\\lib\\site-packages (from ipython->watermark) (5.0.5)\n",
      "Requirement already satisfied: parso<0.8.0,>=0.7.0 in g:\\master iddlo\\anaconda\\lib\\site-packages (from jedi>=0.16->ipython->watermark) (0.7.0)\n",
      "Requirement already satisfied: wcwidth in g:\\master iddlo\\anaconda\\lib\\site-packages (from prompt-toolkit!=3.0.0,!=3.0.1,<3.1.0,>=2.0.0->ipython->watermark) (0.2.5)\n",
      "Requirement already satisfied: ipython-genutils in g:\\master iddlo\\anaconda\\lib\\site-packages (from traitlets>=4.2->ipython->watermark) (0.2.0)\n"
     ]
    }
   ],
   "source": [
    "!pip install watermark\n",
    "%load_ext watermark"
   ]
  },
  {
   "cell_type": "code",
   "execution_count": 37,
   "metadata": {},
   "outputs": [
    {
     "name": "stdout",
     "output_type": "stream",
     "text": [
      "Python implementation: CPython\n",
      "Python version       : 3.8.8\n",
      "IPython version      : 7.22.0\n",
      "\n",
      "nltk: 3.6.1\n",
      "\n",
      "Compiler    : MSC v.1916 64 bit (AMD64)\n",
      "OS          : Windows\n",
      "Release     : 10\n",
      "Machine     : AMD64\n",
      "Processor   : Intel64 Family 6 Model 61 Stepping 4, GenuineIntel\n",
      "CPU cores   : 4\n",
      "Architecture: 64bit\n",
      "\n"
     ]
    }
   ],
   "source": [
    "%watermark -v -m -p nltk"
   ]
  },
  {
   "cell_type": "code",
   "execution_count": 36,
   "metadata": {},
   "outputs": [
    {
     "name": "stdout",
     "output_type": "stream",
     "text": [
      "nltk: 3.6.1\n",
      "\n"
     ]
    }
   ],
   "source": [
    "%watermark --iversions"
   ]
  }
 ],
 "metadata": {
  "kernelspec": {
   "display_name": "Python 3",
   "language": "python",
   "name": "python3"
  }
 },
 "nbformat": 4,
 "nbformat_minor": 4
}
